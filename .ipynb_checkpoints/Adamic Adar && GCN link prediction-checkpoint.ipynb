{
 "cells": [
  {
   "cell_type": "markdown",
   "id": "fc7ebfe8",
   "metadata": {},
   "source": [
    "### Importing  libraries"
   ]
  },
  {
   "cell_type": "code",
   "execution_count": 11,
   "id": "1b1b3052",
   "metadata": {},
   "outputs": [],
   "source": [
    "import numpy as np\n",
    "import pandas as pd\n",
    "import networkx as nx\n",
    "import matplotlib.pyplot as plt\n",
    "\n",
    "from neo4j import GraphDatabase\n",
    "from sklearn.preprocessing import LabelEncoder\n",
    "from sklearn.model_selection import train_test_split\n",
    "from sklearn.metrics import accuracy_score\n",
    "from tensorflow.keras import layers, optimizers, losses, metrics, Model\n",
    "\n",
    "from stellargraph import StellarGraph\n",
    "from stellargraph.layer import GraphSAGE\n",
    "from stellargraph.data import UnsupervisedSampler"
   ]
  },
  {
   "cell_type": "markdown",
   "id": "d21e5711",
   "metadata": {},
   "source": [
    "### Connect to the database and fetch graph data from Neo4j"
   ]
  },
  {
   "cell_type": "code",
   "execution_count": 4,
   "id": "b9c505ea",
   "metadata": {},
   "outputs": [],
   "source": [
    "# Connect to the Neo4j database\n",
    "uri = \"bolt://localhost:7687\"\n",
    "username = \"neo4j\"\n",
    "password = \"OLIV00%%\"\n",
    "\n",
    "driver = GraphDatabase.driver(uri, auth=(username, password))\n",
    "\n",
    "# Function to fetch graph data from Neo4j\n",
    "def fetch_graph_data():\n",
    "    with driver.session() as session:\n",
    "        result = session.run(\n",
    "            \"MATCH (n1)-[r]->(n2) RETURN id(n1) AS start, id(n2) AS end, type(r) AS relationship\"\n",
    "        )\n",
    "        data = [(record[\"start\"], record[\"end\"], record[\"relationship\"]) for record in result]\n",
    "    return data\n",
    "\n",
    "# Load graph data\n",
    "graph_data = fetch_graph_data()"
   ]
  },
  {
   "cell_type": "code",
   "execution_count": 5,
   "id": "f052a41b",
   "metadata": {},
   "outputs": [
    {
     "data": {
      "text/plain": [
       "[(23, 15, 'Component'),\n",
       " (17, 29, 'Caused_by'),\n",
       " (17, 0, 'Caused_by'),\n",
       " (17, 1, 'Caused_by'),\n",
       " (17, 2, 'Caused_by'),\n",
       " (18, 3, 'Caused_by'),\n",
       " (19, 4, 'Caused_by'),\n",
       " (19, 5, 'Caused_by'),\n",
       " (19, 6, 'Caused_by'),\n",
       " (20, 7, 'Caused_by'),\n",
       " (20, 8, 'Caused_by'),\n",
       " (21, 9, 'Caused_by'),\n",
       " (22, 10, 'Caused_by'),\n",
       " (22, 11, 'Caused_by'),\n",
       " (22, 12, 'Caused_by'),\n",
       " (23, 13, 'Component'),\n",
       " (23, 14, 'Component')]"
      ]
     },
     "execution_count": 5,
     "metadata": {},
     "output_type": "execute_result"
    }
   ],
   "source": [
    "# Split data into training and test sets\n",
    "train_data, test_data = train_test_split(graph_data, test_size=0.5, random_state=42)\n",
    "\n",
    "graph_data"
   ]
  },
  {
   "cell_type": "markdown",
   "id": "c3da407c",
   "metadata": {},
   "source": [
    "# Adamic Adar"
   ]
  },
  {
   "cell_type": "code",
   "execution_count": 12,
   "id": "baafddf3",
   "metadata": {},
   "outputs": [],
   "source": [
    "# Perform Adamic-Adar link prediction\n",
    "def adamic_adar_link_prediction(node1_id, node2_id):\n",
    "    with driver.session() as session:\n",
    "        query = (\n",
    "            f\"MATCH (n1)-[:COMMON]->(common_node)\"\n",
    "            f\"<-[:COMMON]-(n2) WHERE id(n1)={node1_id} AND id(n2)={node2_id} \"\n",
    "            \"RETURN count(common_node) AS adamic_adar_score\"\n",
    "        )\n",
    "        result = session.run(query)\n",
    "        return result.single()[\"adamic_adar_score\"]"
   ]
  },
  {
   "cell_type": "markdown",
   "id": "6f9206e3",
   "metadata": {},
   "source": [
    "### Link prediction model evaluation"
   ]
  },
  {
   "cell_type": "code",
   "execution_count": 13,
   "id": "03f844fd",
   "metadata": {},
   "outputs": [
    {
     "name": "stdout",
     "output_type": "stream",
     "text": [
      "Accuracy: 0.00\n"
     ]
    }
   ],
   "source": [
    "# Evaluate the link prediction model\n",
    "def evaluate_link_prediction():\n",
    "    y_true = []\n",
    "    y_pred = []\n",
    "    for node1_id, node2_id, _ in test_data:\n",
    "        adamic_adar_score = adamic_adar_link_prediction(node1_id, node2_id)\n",
    "        y_true.append(1)  # Link exists\n",
    "        y_pred.append(1 if adamic_adar_score > 0 else 0)  # Predict link existence based on score\n",
    "\n",
    "    accuracy = accuracy_score(y_true, y_pred)\n",
    "    print(f\"Accuracy: {accuracy:.2f}\")\n",
    "    \n",
    "if __name__ == \"__main__\":\n",
    "    evaluate_link_prediction()"
   ]
  },
  {
   "cell_type": "markdown",
   "id": "a85325a0",
   "metadata": {},
   "source": [
    "# GraphSAGE"
   ]
  },
  {
   "cell_type": "code",
   "execution_count": 11,
   "id": "2519fbfe",
   "metadata": {},
   "outputs": [],
   "source": [
    "# parameters definition\n",
    "batch_size = 20\n",
    "epochs = 50\n",
    "\n",
    "num_samples = [20, 10]"
   ]
  }
 ],
 "metadata": {
  "kernelspec": {
   "display_name": "Python 3 (ipykernel)",
   "language": "python",
   "name": "python3"
  },
  "language_info": {
   "codemirror_mode": {
    "name": "ipython",
    "version": 3
   },
   "file_extension": ".py",
   "mimetype": "text/x-python",
   "name": "python",
   "nbconvert_exporter": "python",
   "pygments_lexer": "ipython3",
   "version": "3.7.16"
  }
 },
 "nbformat": 4,
 "nbformat_minor": 5
}
