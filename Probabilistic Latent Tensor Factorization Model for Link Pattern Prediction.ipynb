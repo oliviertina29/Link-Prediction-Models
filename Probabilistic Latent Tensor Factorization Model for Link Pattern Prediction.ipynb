{
 "cells": [
  {
   "cell_type": "code",
   "execution_count": 2,
   "id": "86af4fd7",
   "metadata": {},
   "outputs": [
    {
     "name": "stdout",
     "output_type": "stream",
     "text": [
      "Collecting tensorly\n",
      "  Using cached tensorly-0.8.1-py3-none-any.whl (229 kB)\n",
      "Requirement already satisfied: numpy in c:\\users\\olivi\\anaconda3\\envs\\py_env\\lib\\site-packages (from tensorly) (1.21.6)\n",
      "Requirement already satisfied: scipy in c:\\users\\olivi\\anaconda3\\envs\\py_env\\lib\\site-packages (from tensorly) (1.7.3)\n",
      "Installing collected packages: tensorly\n",
      "Successfully installed tensorly-0.8.1\n"
     ]
    }
   ],
   "source": [
    "!pip install tensorly"
   ]
  },
  {
   "cell_type": "code",
   "execution_count": 5,
   "id": "f2a7c1a4",
   "metadata": {},
   "outputs": [],
   "source": [
    "import tensorly as tl\n",
    "from tensorly.decomposition import parafac\n",
    "import numpy as np\n",
    "import tensorflow as tf \n",
    "import pandas as pd\n",
    "import networkx as nx\n",
    "from neo4j import GraphDatabase\n",
    "from sklearn.preprocessing import LabelEncoder\n",
    "from sklearn.model_selection import train_test_split\n",
    "from sklearn.metrics import accuracy_score\n",
    "from tensorflow.keras import layers, optimizers, losses, metrics, Model\n",
    "from stellargraph import StellarGraph\n",
    "from stellargraph.layer import GraphSAGE\n",
    "from stellargraph.data import UnsupervisedSampler"
   ]
  },
  {
   "cell_type": "code",
   "execution_count": 6,
   "id": "c2d67c2d",
   "metadata": {},
   "outputs": [],
   "source": [
    "# Connect to the Neo4j database\n",
    "uri = \"bolt://localhost:7687\"\n",
    "username = \"neo4j\"\n",
    "password = \"OLIV00%%\"\n",
    "\n",
    "driver = GraphDatabase.driver(uri, auth=(username, password))\n",
    "\n",
    "# Function to fetch graph data from Neo4j\n",
    "def fetch_graph_data():\n",
    "    with driver.session() as session:\n",
    "        result = session.run(\n",
    "            \"MATCH (n1)-[r]->(n2) RETURN id(n1) AS start, id(n2) AS end, type(r) AS relationship\"\n",
    "        )\n",
    "        data = [(record[\"start\"], record[\"end\"], record[\"relationship\"]) for record in result]\n",
    "    return data\n",
    "\n",
    "# Load graph data\n",
    "graph_data = fetch_graph_data()"
   ]
  },
  {
   "cell_type": "code",
   "execution_count": 7,
   "id": "86bdae6e",
   "metadata": {},
   "outputs": [
    {
     "data": {
      "text/plain": [
       "[(23, 15, 'Component'),\n",
       " (17, 29, 'Caused_by'),\n",
       " (17, 0, 'Caused_by'),\n",
       " (17, 1, 'Caused_by'),\n",
       " (17, 2, 'Caused_by'),\n",
       " (18, 3, 'Caused_by'),\n",
       " (19, 4, 'Caused_by'),\n",
       " (19, 5, 'Caused_by'),\n",
       " (19, 6, 'Caused_by'),\n",
       " (20, 7, 'Caused_by'),\n",
       " (20, 8, 'Caused_by'),\n",
       " (21, 9, 'Caused_by'),\n",
       " (22, 10, 'Caused_by'),\n",
       " (22, 11, 'Caused_by'),\n",
       " (22, 12, 'Caused_by'),\n",
       " (23, 13, 'Component'),\n",
       " (23, 14, 'Component')]"
      ]
     },
     "execution_count": 7,
     "metadata": {},
     "output_type": "execute_result"
    }
   ],
   "source": [
    "graph_data"
   ]
  },
  {
   "cell_type": "code",
   "execution_count": 9,
   "id": "36071097",
   "metadata": {},
   "outputs": [
    {
     "ename": "IndexError",
     "evalue": "index 23 is out of bounds for axis 0 with size 3",
     "output_type": "error",
     "traceback": [
      "\u001b[1;31m---------------------------------------------------------------------------\u001b[0m",
      "\u001b[1;31mIndexError\u001b[0m                                Traceback (most recent call last)",
      "\u001b[1;32m~\\AppData\\Local\\Temp\\ipykernel_11156\\1783342578.py\u001b[0m in \u001b[0;36m<module>\u001b[1;34m\u001b[0m\n\u001b[0;32m     14\u001b[0m     \u001b[0mcomponent_idx\u001b[0m \u001b[1;33m=\u001b[0m \u001b[0medge\u001b[0m\u001b[1;33m[\u001b[0m\u001b[1;36m0\u001b[0m\u001b[1;33m]\u001b[0m\u001b[1;33m\u001b[0m\u001b[1;33m\u001b[0m\u001b[0m\n\u001b[0;32m     15\u001b[0m     \u001b[0mmachine_state_idx\u001b[0m \u001b[1;33m=\u001b[0m \u001b[0medge\u001b[0m\u001b[1;33m[\u001b[0m\u001b[1;36m1\u001b[0m\u001b[1;33m]\u001b[0m\u001b[1;33m\u001b[0m\u001b[1;33m\u001b[0m\u001b[0m\n\u001b[1;32m---> 16\u001b[1;33m     \u001b[0mtensor\u001b[0m\u001b[1;33m[\u001b[0m\u001b[0mcomponent_idx\u001b[0m\u001b[1;33m,\u001b[0m \u001b[0mmachine_state_idx\u001b[0m\u001b[1;33m]\u001b[0m \u001b[1;33m=\u001b[0m \u001b[1;36m1\u001b[0m\u001b[1;33m\u001b[0m\u001b[1;33m\u001b[0m\u001b[0m\n\u001b[0m",
      "\u001b[1;31mIndexError\u001b[0m: index 23 is out of bounds for axis 0 with size 3"
     ]
    }
   ],
   "source": [
    "# Step 1: Data Preparation\n",
    "# Convert the graph data into a tensor representation (adjacency tensor)\n",
    "\n",
    "# Determine the number of components, machine states, and relationships\n",
    "num_components = 3  # Adjust based on the actual data\n",
    "num_machine_states = 7  # Adjust based on the actual data\n",
    "\n",
    "# Initialize an empty tensor with all zeros\n",
    "tensor_shape = (num_components, num_machine_states)\n",
    "tensor = np.zeros(tensor_shape)\n",
    "\n",
    "# Fill the tensor based on the graph edges\n",
    "for edge in graph_data:\n",
    "    component_idx = edge[0]\n",
    "    machine_state_idx = edge[1]\n",
    "    tensor[component_idx, machine_state_idx] = 1"
   ]
  },
  {
   "cell_type": "code",
   "execution_count": null,
   "id": "aa3a64ad",
   "metadata": {},
   "outputs": [],
   "source": [
    "# Step 2: Tensor Factorization\n",
    "# Perform tensor factorization using singular value decomposition (SVD) as a simple example\n",
    "# You may use more sophisticated tensor factorization techniques depending on your requirements\n",
    "\n",
    "# Apply SVD to factorize the tensor\n",
    "latent_factors, _, _ = np.linalg.svd(tensor)\n",
    "\n",
    "# Keep the first k latent factors (e.g., k=2) to represent components and machine states\n",
    "k = 2\n",
    "latent_factors = latent_factors[:, :k]"
   ]
  },
  {
   "cell_type": "code",
   "execution_count": null,
   "id": "05320787",
   "metadata": {},
   "outputs": [],
   "source": [
    "# Step 3: Link Prediction\n",
    "# Now, you can predict missing links between components and machine states using the learned latent factors\n",
    "\n",
    "# For example, given a new component and machine state:\n",
    "new_component_idx = 1  # Adjust based on the actual data\n",
    "new_machine_state_idx = 4  # Adjust based on the actual data\n",
    "\n",
    "# Compute the predicted interaction score using the latent factors\n",
    "predicted_score = np.dot(latent_factors[new_component_idx, :], latent_factors[new_machine_state_idx, :])\n",
    "\n",
    "# The predicted_score represents the interaction strength between the new component and machine state\n",
    "\n",
    "# Note: This is a basic example using NumPy for tensor factorization. In practice, you may use specialized libraries or frameworks for tensor factorization, such as TensorFlow, PyTorch, or scikit-tensor."
   ]
  },
  {
   "cell_type": "code",
   "execution_count": null,
   "id": "9be06c9d",
   "metadata": {},
   "outputs": [],
   "source": []
  },
  {
   "cell_type": "code",
   "execution_count": null,
   "id": "4fc9dd2a",
   "metadata": {},
   "outputs": [],
   "source": []
  },
  {
   "cell_type": "code",
   "execution_count": null,
   "id": "88085370",
   "metadata": {},
   "outputs": [],
   "source": [
    "# Step 1: Data Preparation\n",
    "# Convert your graph data into a higher-order tensor representation\n",
    "# You may use sparse matrices or other data structures depending on the size and sparsity of your data\n",
    "\n",
    "# Step 2: Tensor Factorization\n",
    "# Define the number of latent factors\n",
    "num_latent_factors = 10\n",
    "\n",
    "# Perform tensor factorization using TensorFlow or other libraries\n",
    "# For example, you can use TensorFlow's low-level API or TensorFlow Probability for probabilistic modeling\n",
    "\n",
    "# Define the input tensor for the factorization\n",
    "input_tensor = tf.placeholder(tf.float32, shape=[None, None, None])  # The shape depends on your data\n",
    "\n",
    "# Define the latent factor variables for nodes and relationship types\n",
    "latent_factors_nodes = tf.Variable(tf.random_normal(shape=[input_tensor.shape[0], num_latent_factors]))\n",
    "latent_factors_relationships = tf.Variable(tf.random_normal(shape=[input_tensor.shape[1], num_latent_factors]))\n",
    "\n",
    "# Perform the tensor factorization using matrix multiplication\n",
    "# You may use higher-order tensor factorization methods based on the specific tensor representation\n",
    "predicted_tensor = tf.matmul(latent_factors_nodes, tf.transpose(latent_factors_relationships))\n",
    "\n",
    "# Step 3: Model Estimation\n",
    "# Define the likelihood function (e.g., Gaussian likelihood) to estimate model parameters\n",
    "# Use appropriate optimization methods (e.g., gradient descent) to optimize the model parameters\n",
    "\n",
    "# Step 4: Link Prediction\n",
    "# After training the model, you can predict missing links or interactions\n",
    "# For a given pair of nodes (i, j), compute the predicted interaction score based on their latent factors\n",
    "\n",
    "# Step 5: Model Evaluation\n",
    "# Evaluate the performance of the PLTF model using appropriate evaluation metrics (e.g., AUC-ROC, AUC-PR, precision, recall)\n",
    "\n",
    "# Additional Notes:\n",
    "# - You may need to customize the data preparation and tensor factorization steps based on your specific data format.\n",
    "# - Consider using regularization techniques to avoid overfitting and improve generalization.\n",
    "# - For large-scale graphs, consider using mini-batch optimization to speed up the training process.\n",
    "\n",
    "# Note: This is a high-level outline, and the actual implementation may require additional details and steps based on your specific data and requirements.\n"
   ]
  }
 ],
 "metadata": {
  "kernelspec": {
   "display_name": "Python 3 (ipykernel)",
   "language": "python",
   "name": "python3"
  },
  "language_info": {
   "codemirror_mode": {
    "name": "ipython",
    "version": 3
   },
   "file_extension": ".py",
   "mimetype": "text/x-python",
   "name": "python",
   "nbconvert_exporter": "python",
   "pygments_lexer": "ipython3",
   "version": "3.7.16"
  }
 },
 "nbformat": 4,
 "nbformat_minor": 5
}
