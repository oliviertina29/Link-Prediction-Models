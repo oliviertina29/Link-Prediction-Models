{
 "cells": [
  {
   "cell_type": "markdown",
   "id": "84843a6a",
   "metadata": {},
   "source": [
    "## Importing Libraries"
   ]
  },
  {
   "cell_type": "code",
   "execution_count": 94,
   "id": "be889dda",
   "metadata": {},
   "outputs": [],
   "source": [
    "import pandas as pd\n",
    "import networkx as nx\n",
    "from neo4j import GraphDatabase\n",
    "from sklearn.model_selection import train_test_split\n",
    "from sklearn.linear_model import LogisticRegression\n",
    "from sklearn.metrics import classification_report, accuracy_score\n",
    "from sklearn.metrics.pairwise import cosine_similarity, euclidean_distances"
   ]
  },
  {
   "cell_type": "markdown",
   "id": "08458b5d",
   "metadata": {},
   "source": [
    "## Connecting to the neo4j database"
   ]
  },
  {
   "cell_type": "code",
   "execution_count": 95,
   "id": "37c9e658",
   "metadata": {},
   "outputs": [],
   "source": [
    "uri = \"bolt://localhost:7687\"\n",
    "username = \"neo4j\"\n",
    "password = \"OLIV00%%\"\n",
    "\n",
    "driver = GraphDatabase.driver(uri, auth=(username, password))"
   ]
  },
  {
   "cell_type": "markdown",
   "id": "0c7c2626",
   "metadata": {},
   "source": [
    "## Retrieving the graph data from Neo4j and dataset preparation"
   ]
  },
  {
   "cell_type": "code",
   "execution_count": 96,
   "id": "ed5181d9",
   "metadata": {},
   "outputs": [],
   "source": [
    "graph = nx.Graph()\n",
    "\n",
    "with driver.session() as session:\n",
    "    # Récupérer les nœuds avec leur nom et type\n",
    "    nodes_query = \"MATCH (n) RETURN ID(n) AS id, n.name AS name, n.type AS type\"\n",
    "    nodes_result = session.run(nodes_query)\n",
    "\n",
    "    # Parcourir les résultats et ajouter les nœuds au graphe\n",
    "    for record in nodes_result:\n",
    "        node_id = record[\"id\"]\n",
    "        node_name = record[\"name\"]\n",
    "        node_type = record[\"type\"]\n",
    "        if node_id is not None:\n",
    "            graph.add_node(node_id, name=node_name, type=node_type)\n",
    "\n",
    "    # Récupérer les relations\n",
    "    relations_query = \"MATCH ()-[r]->() RETURN ID(startNode(r)) AS source_id, ID(endNode(r)) AS target_id\"\n",
    "    relations_result = session.run(relations_query)\n",
    "\n",
    "    # Ajouter les relations entre les nœuds\n",
    "    for record in relations_result:\n",
    "        source_node_id = record[\"source_id\"]\n",
    "        target_node_id = record[\"target_id\"]\n",
    "        if source_node_id is not None and target_node_id is not None:\n",
    "            graph.add_edge(source_node_id, target_node_id)"
   ]
  },
  {
   "cell_type": "code",
   "execution_count": 97,
   "id": "26eab0a3",
   "metadata": {},
   "outputs": [],
   "source": [
    "# Convert the graph to a pandas DataFrame\n",
    "df = pd.DataFrame(graph.nodes(data=True), columns=[\"node_id\", \"attributes\"])\n",
    "df[\"node_type\"] = df[\"attributes\"].apply(lambda x: x.get(\"type\"))\n",
    "df[\"node_name\"] = df[\"attributes\"].apply(lambda x: x.get(\"name\"))\n",
    "\n",
    "# Drop the unnecessary 'attributes' column\n",
    "df.drop(columns=[\"attributes\"], inplace=True)\n",
    "\n",
    "# Check if the DataFrame is empty\n",
    "if df.empty:\n",
    "    raise ValueError(\"The dataset is empty. Please check your Neo4j query and data.\")\n",
    "\n",
    "# Prepare the target variable ('link' column)\n",
    "df[\"link\"] = 1\n",
    "\n",
    "# Split the dataset into training and testing sets\n",
    "train_df, test_df = train_test_split(df, test_size=0.2, random_state=42)\n"
   ]
  },
  {
   "cell_type": "code",
   "execution_count": 98,
   "id": "81a47df9",
   "metadata": {},
   "outputs": [
    {
     "data": {
      "text/html": [
       "<div>\n",
       "<style scoped>\n",
       "    .dataframe tbody tr th:only-of-type {\n",
       "        vertical-align: middle;\n",
       "    }\n",
       "\n",
       "    .dataframe tbody tr th {\n",
       "        vertical-align: top;\n",
       "    }\n",
       "\n",
       "    .dataframe thead th {\n",
       "        text-align: right;\n",
       "    }\n",
       "</style>\n",
       "<table border=\"1\" class=\"dataframe\">\n",
       "  <thead>\n",
       "    <tr style=\"text-align: right;\">\n",
       "      <th></th>\n",
       "      <th>node_id</th>\n",
       "      <th>node_type</th>\n",
       "      <th>node_name</th>\n",
       "      <th>link</th>\n",
       "    </tr>\n",
       "  </thead>\n",
       "  <tbody>\n",
       "    <tr>\n",
       "      <th>0</th>\n",
       "      <td>0</td>\n",
       "      <td>Explanation</td>\n",
       "      <td>Static unbalance</td>\n",
       "      <td>1</td>\n",
       "    </tr>\n",
       "    <tr>\n",
       "      <th>1</th>\n",
       "      <td>1</td>\n",
       "      <td>Explanation</td>\n",
       "      <td>Couple unbalance</td>\n",
       "      <td>1</td>\n",
       "    </tr>\n",
       "    <tr>\n",
       "      <th>2</th>\n",
       "      <td>2</td>\n",
       "      <td>Explanation</td>\n",
       "      <td>Dynamic unbalance</td>\n",
       "      <td>1</td>\n",
       "    </tr>\n",
       "    <tr>\n",
       "      <th>3</th>\n",
       "      <td>3</td>\n",
       "      <td>Explanation</td>\n",
       "      <td>Overhung unbalance</td>\n",
       "      <td>1</td>\n",
       "    </tr>\n",
       "    <tr>\n",
       "      <th>4</th>\n",
       "      <td>4</td>\n",
       "      <td>Explanation</td>\n",
       "      <td>Structural looseness</td>\n",
       "      <td>1</td>\n",
       "    </tr>\n",
       "  </tbody>\n",
       "</table>\n",
       "</div>"
      ],
      "text/plain": [
       "   node_id    node_type             node_name  link\n",
       "0        0  Explanation      Static unbalance     1\n",
       "1        1  Explanation      Couple unbalance     1\n",
       "2        2  Explanation     Dynamic unbalance     1\n",
       "3        3  Explanation    Overhung unbalance     1\n",
       "4        4  Explanation  Structural looseness     1"
      ]
     },
     "execution_count": 98,
     "metadata": {},
     "output_type": "execute_result"
    }
   ],
   "source": [
    "df.head()"
   ]
  },
  {
   "cell_type": "markdown",
   "id": "1e1aea0e",
   "metadata": {},
   "source": [
    "## Generating graph embeddings using Neo4j's GDS library"
   ]
  },
  {
   "cell_type": "code",
   "execution_count": 99,
   "id": "e0457963",
   "metadata": {},
   "outputs": [],
   "source": [
    "with driver.session() as session:\n",
    "    # Create a graph projection for link prediction using GDS\n",
    "    session.run(\"CALL gds.graph.project('link_prediction_graph', '*', '*')\")"
   ]
  },
  {
   "cell_type": "code",
   "execution_count": 100,
   "id": "7f9980f0",
   "metadata": {},
   "outputs": [],
   "source": [
    "with driver.session() as session:\n",
    "    # Compute graph embeddings using Node2Vec algorithm\n",
    "    session.run(\"\"\"\n",
    "    CALL gds.beta.node2vec.stream('link_prediction_graph', {\n",
    "        embeddingDimension: 64,\n",
    "        iterations: 10,\n",
    "        walkLength: 20,\n",
    "        inOutFactor: 1.0,\n",
    "        returnFactor: 1.0\n",
    "    })\n",
    "    \"\"\")"
   ]
  },
  {
   "cell_type": "markdown",
   "id": "7313dbdf",
   "metadata": {},
   "source": [
    "## Fetch the graph embeddings "
   ]
  },
  {
   "cell_type": "code",
   "execution_count": 101,
   "id": "a0134a84",
   "metadata": {},
   "outputs": [],
   "source": [
    "# Create an empty list to store the node embeddings\n",
    "node_embeddings = []\n",
    "\n",
    "# Compute graph embeddings using Node2Vec algorithm and fetch the embeddings\n",
    "with driver.session() as session:\n",
    "    result = session.run(\"\"\"\n",
    "        CALL gds.beta.node2vec.stream('link_prediction_graph', {\n",
    "            embeddingDimension: 64,\n",
    "            iterations: 10,\n",
    "            walkLength: 20,\n",
    "            inOutFactor: 1.0,\n",
    "            returnFactor: 1.0\n",
    "        })\n",
    "        YIELD nodeId, embedding\n",
    "        RETURN nodeId, gds.util.asNode(nodeId).name AS node_name, gds.util.asNode(nodeId).type AS node_type, embedding\n",
    "    \"\"\")\n",
    "\n",
    "    # Iterate through the result and append embeddings to the list\n",
    "    for record in result:\n",
    "        node_id = record[\"nodeId\"]\n",
    "        node_name = record[\"node_name\"]\n",
    "        node_type = record[\"node_type\"]\n",
    "        embedding = record[\"embedding\"]\n",
    "        node_embeddings.append((node_id, node_name, node_type, embedding))\n",
    "\n",
    "# Create a DataFrame to store the node embeddings\n",
    "columns = [\"node_id\", \"node_name\", \"node_type\", \"embedding\"]\n",
    "node_embeddings_df = pd.DataFrame(node_embeddings, columns=columns)"
   ]
  },
  {
   "cell_type": "code",
   "execution_count": 102,
   "id": "c3f486e8",
   "metadata": {},
   "outputs": [
    {
     "data": {
      "text/html": [
       "<div>\n",
       "<style scoped>\n",
       "    .dataframe tbody tr th:only-of-type {\n",
       "        vertical-align: middle;\n",
       "    }\n",
       "\n",
       "    .dataframe tbody tr th {\n",
       "        vertical-align: top;\n",
       "    }\n",
       "\n",
       "    .dataframe thead th {\n",
       "        text-align: right;\n",
       "    }\n",
       "</style>\n",
       "<table border=\"1\" class=\"dataframe\">\n",
       "  <thead>\n",
       "    <tr style=\"text-align: right;\">\n",
       "      <th></th>\n",
       "      <th>node_id</th>\n",
       "      <th>node_name</th>\n",
       "      <th>node_type</th>\n",
       "      <th>embedding</th>\n",
       "    </tr>\n",
       "  </thead>\n",
       "  <tbody>\n",
       "    <tr>\n",
       "      <th>0</th>\n",
       "      <td>0</td>\n",
       "      <td>Static unbalance</td>\n",
       "      <td>Explanation</td>\n",
       "      <td>[0.0037810089997947216, -0.004961835220456123,...</td>\n",
       "    </tr>\n",
       "    <tr>\n",
       "      <th>1</th>\n",
       "      <td>1</td>\n",
       "      <td>Couple unbalance</td>\n",
       "      <td>Explanation</td>\n",
       "      <td>[0.0037796092219650745, -0.0023127037566155195...</td>\n",
       "    </tr>\n",
       "    <tr>\n",
       "      <th>2</th>\n",
       "      <td>2</td>\n",
       "      <td>Dynamic unbalance</td>\n",
       "      <td>Explanation</td>\n",
       "      <td>[0.0037095786537975073, -0.004216838628053665,...</td>\n",
       "    </tr>\n",
       "    <tr>\n",
       "      <th>3</th>\n",
       "      <td>3</td>\n",
       "      <td>Overhung unbalance</td>\n",
       "      <td>Explanation</td>\n",
       "      <td>[0.004044978879392147, -0.0016776365227997303,...</td>\n",
       "    </tr>\n",
       "    <tr>\n",
       "      <th>4</th>\n",
       "      <td>4</td>\n",
       "      <td>Structural looseness</td>\n",
       "      <td>Explanation</td>\n",
       "      <td>[0.003712308593094349, 0.0060248295776546, -0....</td>\n",
       "    </tr>\n",
       "  </tbody>\n",
       "</table>\n",
       "</div>"
      ],
      "text/plain": [
       "   node_id             node_name    node_type  \\\n",
       "0        0      Static unbalance  Explanation   \n",
       "1        1      Couple unbalance  Explanation   \n",
       "2        2     Dynamic unbalance  Explanation   \n",
       "3        3    Overhung unbalance  Explanation   \n",
       "4        4  Structural looseness  Explanation   \n",
       "\n",
       "                                           embedding  \n",
       "0  [0.0037810089997947216, -0.004961835220456123,...  \n",
       "1  [0.0037796092219650745, -0.0023127037566155195...  \n",
       "2  [0.0037095786537975073, -0.004216838628053665,...  \n",
       "3  [0.004044978879392147, -0.0016776365227997303,...  \n",
       "4  [0.003712308593094349, 0.0060248295776546, -0....  "
      ]
     },
     "execution_count": 102,
     "metadata": {},
     "output_type": "execute_result"
    }
   ],
   "source": [
    "node_embeddings_df.head()"
   ]
  },
  {
   "cell_type": "code",
   "execution_count": 103,
   "id": "0ba8cea7",
   "metadata": {},
   "outputs": [
    {
     "name": "stdout",
     "output_type": "stream",
     "text": [
      "Column names in train_df: Index(['node_id', 'node_type', 'node_name', 'link'], dtype='object')\n",
      "Column names in node_embeddings_df: Index(['node_id', 'node_name', 'node_type', 'embedding'], dtype='object')\n"
     ]
    }
   ],
   "source": [
    "print(\"Column names in train_df:\", train_df.columns)\n",
    "print(\"Column names in node_embeddings_df:\", node_embeddings_df.columns)"
   ]
  },
  {
   "cell_type": "markdown",
   "id": "7361ec15",
   "metadata": {},
   "source": [
    "## Association"
   ]
  },
  {
   "cell_type": "code",
   "execution_count": 104,
   "id": "2d071d69",
   "metadata": {},
   "outputs": [
    {
     "data": {
      "text/html": [
       "<div>\n",
       "<style scoped>\n",
       "    .dataframe tbody tr th:only-of-type {\n",
       "        vertical-align: middle;\n",
       "    }\n",
       "\n",
       "    .dataframe tbody tr th {\n",
       "        vertical-align: top;\n",
       "    }\n",
       "\n",
       "    .dataframe thead th {\n",
       "        text-align: right;\n",
       "    }\n",
       "</style>\n",
       "<table border=\"1\" class=\"dataframe\">\n",
       "  <thead>\n",
       "    <tr style=\"text-align: right;\">\n",
       "      <th></th>\n",
       "      <th>Imbalance</th>\n",
       "      <th>Structural fault</th>\n",
       "      <th>Misalignment</th>\n",
       "      <th>looseness</th>\n",
       "      <th>Bearing Fault</th>\n",
       "      <th>Gear Fault</th>\n",
       "    </tr>\n",
       "  </thead>\n",
       "  <tbody>\n",
       "    <tr>\n",
       "      <th>Pump</th>\n",
       "      <td>0.168679</td>\n",
       "      <td>0.072125</td>\n",
       "      <td>0.079655</td>\n",
       "      <td>-0.037632</td>\n",
       "      <td>0.151176</td>\n",
       "      <td>0.095761</td>\n",
       "    </tr>\n",
       "    <tr>\n",
       "      <th>Fan</th>\n",
       "      <td>0.055122</td>\n",
       "      <td>0.312857</td>\n",
       "      <td>-0.009305</td>\n",
       "      <td>0.087522</td>\n",
       "      <td>0.097610</td>\n",
       "      <td>-0.105439</td>\n",
       "    </tr>\n",
       "    <tr>\n",
       "      <th>Engine</th>\n",
       "      <td>0.096407</td>\n",
       "      <td>0.195724</td>\n",
       "      <td>0.144440</td>\n",
       "      <td>0.104235</td>\n",
       "      <td>0.006602</td>\n",
       "      <td>0.099245</td>\n",
       "    </tr>\n",
       "  </tbody>\n",
       "</table>\n",
       "</div>"
      ],
      "text/plain": [
       "        Imbalance  Structural fault  Misalignment  looseness  Bearing Fault  \\\n",
       "Pump     0.168679          0.072125      0.079655  -0.037632       0.151176   \n",
       "Fan      0.055122          0.312857     -0.009305   0.087522       0.097610   \n",
       "Engine   0.096407          0.195724      0.144440   0.104235       0.006602   \n",
       "\n",
       "        Gear Fault  \n",
       "Pump      0.095761  \n",
       "Fan      -0.105439  \n",
       "Engine    0.099245  "
      ]
     },
     "execution_count": 104,
     "metadata": {},
     "output_type": "execute_result"
    }
   ],
   "source": [
    "# Separate the nodes of type \"component\" and nodes of types \"failure\" and \"ambalance\"\n",
    "component_nodes = node_embeddings_df[node_embeddings_df[\"node_type\"] == \"Component\"]\n",
    "failure_ambalance_nodes = node_embeddings_df[node_embeddings_df[\"node_type\"].isin([\"Failure\", \"Imbalance\"])]\n",
    "\n",
    "# Extract embeddings for each set of nodes\n",
    "component_embeddings = component_nodes[\"embedding\"].tolist()\n",
    "failure_ambalance_embeddings = failure_ambalance_nodes[\"embedding\"].tolist()\n",
    "\n",
    "# Check if embeddings are not empty\n",
    "if not component_embeddings or not failure_ambalance_embeddings:\n",
    "    print(\"Some embeddings are empty. Check if the Node2Vec computation was successful and if nodes of required types exist.\")\n",
    "else:\n",
    "    # Compute the similarity between the embeddings using cosine similarity\n",
    "    similarity_matrix = cosine_similarity(component_embeddings, failure_ambalance_embeddings)\n",
    "\n",
    "    # Create a DataFrame to store the similarity scores with node names as index and columns\n",
    "    similarity_df = pd.DataFrame(similarity_matrix, columns=failure_ambalance_nodes[\"node_name\"].tolist(), index=component_nodes[\"node_name\"].tolist())\n",
    "\n",
    "    # Display the similarity DataFrame with node names\n",
    "similarity_df"
   ]
  },
  {
   "cell_type": "code",
   "execution_count": 105,
   "id": "8c7f020d",
   "metadata": {},
   "outputs": [
    {
     "name": "stdout",
     "output_type": "stream",
     "text": [
      "Pump ===== lead to =====> Imbalance\n",
      "\n",
      "Fan ===== lead to =====> Structural fault\n",
      "\n",
      "Engine ===== lead to =====> Misalignment\n",
      "\n",
      "Engine ===== lead to =====> looseness\n",
      "\n",
      "Pump ===== lead to =====> Bearing Fault\n",
      "\n",
      "Engine ===== lead to =====> Gear Fault\n",
      "\n"
     ]
    }
   ],
   "source": [
    "# Find the maximum similarity value for each column\n",
    "max_similarities = similarity_df.max(axis=0)\n",
    "\n",
    "# Iterate through each column and find the corresponding row(s) with the maximum value\n",
    "for column in max_similarities.index:\n",
    "    max_similarity = max_similarities[column]\n",
    "    max_rows = similarity_df[similarity_df[column] == max_similarity].index.tolist()\n",
    "    \n",
    "    # Print the result\n",
    "    if len(max_rows) == 1:\n",
    "        print(f\"{max_rows[0]} ===== lead to =====> {column}\")\n",
    "    else:\n",
    "        rows_str = \", \".join(max_rows)\n",
    "        print(f\"{rows_str} ===== lead to =====> {column}\")\n",
    "    print()"
   ]
  },
  {
   "cell_type": "code",
   "execution_count": 106,
   "id": "5fc6cd7b",
   "metadata": {},
   "outputs": [
    {
     "data": {
      "text/html": [
       "<div>\n",
       "<style scoped>\n",
       "    .dataframe tbody tr th:only-of-type {\n",
       "        vertical-align: middle;\n",
       "    }\n",
       "\n",
       "    .dataframe tbody tr th {\n",
       "        vertical-align: top;\n",
       "    }\n",
       "\n",
       "    .dataframe thead th {\n",
       "        text-align: right;\n",
       "    }\n",
       "</style>\n",
       "<table border=\"1\" class=\"dataframe\">\n",
       "  <thead>\n",
       "    <tr style=\"text-align: right;\">\n",
       "      <th></th>\n",
       "      <th>Imbalance</th>\n",
       "      <th>Structural fault</th>\n",
       "      <th>Misalignment</th>\n",
       "      <th>looseness</th>\n",
       "      <th>Bearing Fault</th>\n",
       "      <th>Gear Fault</th>\n",
       "    </tr>\n",
       "  </thead>\n",
       "  <tbody>\n",
       "    <tr>\n",
       "      <th>Pump</th>\n",
       "      <td>0.046149</td>\n",
       "      <td>0.051208</td>\n",
       "      <td>0.047248</td>\n",
       "      <td>0.050725</td>\n",
       "      <td>0.046274</td>\n",
       "      <td>0.050517</td>\n",
       "    </tr>\n",
       "    <tr>\n",
       "      <th>Fan</th>\n",
       "      <td>0.046972</td>\n",
       "      <td>0.042416</td>\n",
       "      <td>0.047098</td>\n",
       "      <td>0.045338</td>\n",
       "      <td>0.045517</td>\n",
       "      <td>0.053502</td>\n",
       "    </tr>\n",
       "    <tr>\n",
       "      <th>Engine</th>\n",
       "      <td>0.046532</td>\n",
       "      <td>0.046315</td>\n",
       "      <td>0.043962</td>\n",
       "      <td>0.045525</td>\n",
       "      <td>0.048382</td>\n",
       "      <td>0.048935</td>\n",
       "    </tr>\n",
       "  </tbody>\n",
       "</table>\n",
       "</div>"
      ],
      "text/plain": [
       "        Imbalance  Structural fault  Misalignment  looseness  Bearing Fault  \\\n",
       "Pump     0.046149          0.051208      0.047248   0.050725       0.046274   \n",
       "Fan      0.046972          0.042416      0.047098   0.045338       0.045517   \n",
       "Engine   0.046532          0.046315      0.043962   0.045525       0.048382   \n",
       "\n",
       "        Gear Fault  \n",
       "Pump      0.050517  \n",
       "Fan       0.053502  \n",
       "Engine    0.048935  "
      ]
     },
     "execution_count": 106,
     "metadata": {},
     "output_type": "execute_result"
    }
   ],
   "source": [
    "# Separate the nodes of type \"component\" and nodes of types \"failure\" and \"ambalance\"\n",
    "component_nodes = node_embeddings_df[node_embeddings_df[\"node_type\"] == \"Component\"]\n",
    "failure_ambalance_nodes = node_embeddings_df[node_embeddings_df[\"node_type\"].isin([\"Failure\", \"Imbalance\"])]\n",
    "\n",
    "# Extract embeddings for each set of nodes\n",
    "component_embeddings = component_nodes[\"embedding\"].tolist()\n",
    "failure_ambalance_embeddings = failure_ambalance_nodes[\"embedding\"].tolist()\n",
    "\n",
    "# Check if embeddings are not empty\n",
    "if not component_embeddings or not failure_ambalance_embeddings:\n",
    "    print(\"Some embeddings are empty. Check if the Node2Vec computation was successful and if nodes of required types exist.\")\n",
    "else:\n",
    "    # Compute the similarity between the embeddings euclidean distance\n",
    "    similarity_matrix = euclidean_distances(component_embeddings, failure_ambalance_embeddings)\n",
    "\n",
    "    # Create a DataFrame to store the similarity scores with node names as index and columns\n",
    "    similarity_df = pd.DataFrame(similarity_matrix, columns=failure_ambalance_nodes[\"node_name\"].tolist(), index=component_nodes[\"node_name\"].tolist())\n",
    "\n",
    "# Display the similarity DataFrame with node names\n",
    "similarity_df"
   ]
  },
  {
   "cell_type": "code",
   "execution_count": 107,
   "id": "d08a6480",
   "metadata": {},
   "outputs": [
    {
     "name": "stdout",
     "output_type": "stream",
     "text": [
      "Fan ===== leads to =====> Imbalance\n",
      "\n",
      "Pump ===== leads to =====> Structural fault\n",
      "\n",
      "Pump ===== leads to =====> Misalignment\n",
      "\n",
      "Pump ===== leads to =====> looseness\n",
      "\n",
      "Engine ===== leads to =====> Bearing Fault\n",
      "\n",
      "Fan ===== leads to =====> Gear Fault\n",
      "\n"
     ]
    }
   ],
   "source": [
    "# Find the maximum similarity value for each column\n",
    "max_similarities = similarity_df.max(axis=0)\n",
    "\n",
    "# Iterate through each column and find the corresponding row(s) with the maximum value\n",
    "for column in max_similarities.index:\n",
    "    max_similarity = max_similarities[column]\n",
    "    max_rows = similarity_df[similarity_df[column] == max_similarity].index.tolist()\n",
    "    \n",
    "    # Print the result\n",
    "    if len(max_rows) == 1:\n",
    "        print(f\"{max_rows[0]} ===== leads to =====> {column}\")\n",
    "    else:\n",
    "        rows_str = \", \".join(max_rows)\n",
    "        print(f\"{rows_str} ===== leads to =====> {column}\")\n",
    "    print()"
   ]
  },
  {
   "cell_type": "code",
   "execution_count": 65,
   "id": "10e8d562",
   "metadata": {},
   "outputs": [],
   "source": [
    "session.close()\n",
    "driver.close()"
   ]
  },
  {
   "cell_type": "code",
   "execution_count": null,
   "id": "68daa1cd",
   "metadata": {},
   "outputs": [],
   "source": []
  }
 ],
 "metadata": {
  "kernelspec": {
   "display_name": "Python 3 (ipykernel)",
   "language": "python",
   "name": "python3"
  },
  "language_info": {
   "codemirror_mode": {
    "name": "ipython",
    "version": 3
   },
   "file_extension": ".py",
   "mimetype": "text/x-python",
   "name": "python",
   "nbconvert_exporter": "python",
   "pygments_lexer": "ipython3",
   "version": "3.11.3"
  }
 },
 "nbformat": 4,
 "nbformat_minor": 5
}
