{
 "cells": [
  {
   "cell_type": "markdown",
   "id": "84843a6a",
   "metadata": {},
   "source": [
    "## Importing Libraries"
   ]
  },
  {
   "cell_type": "code",
   "execution_count": 48,
   "id": "be889dda",
   "metadata": {},
   "outputs": [],
   "source": [
    "import pandas as pd\n",
    "import networkx as nx\n",
    "from neo4j import GraphDatabase\n",
    "from sklearn.model_selection import train_test_split\n",
    "from sklearn.linear_model import LogisticRegression\n",
    "from sklearn.metrics import classification_report, accuracy_score\n",
    "from sklearn.metrics.pairwise import cosine_similarity, euclidean_distances"
   ]
  },
  {
   "cell_type": "markdown",
   "id": "08458b5d",
   "metadata": {},
   "source": [
    "## Connecting to the neo4j database"
   ]
  },
  {
   "cell_type": "code",
   "execution_count": 62,
   "id": "37c9e658",
   "metadata": {},
   "outputs": [],
   "source": [
    "uri = \"bolt://localhost:7687\"\n",
    "username = \"neo4j\"\n",
    "password = \"OLIV00%%\"\n",
    "\n",
    "driver = GraphDatabase.driver(uri, auth=(username, password))"
   ]
  },
  {
   "cell_type": "markdown",
   "id": "0c7c2626",
   "metadata": {},
   "source": [
    "## Retrieving the graph data from Neo4j and dataset preparation"
   ]
  },
  {
   "cell_type": "code",
   "execution_count": 50,
   "id": "ed5181d9",
   "metadata": {},
   "outputs": [],
   "source": [
    "graph = nx.Graph()\n",
    "\n",
    "with driver.session() as session:\n",
    "    # Récupérer les nœuds avec leur nom et type\n",
    "    nodes_query = \"MATCH (n) RETURN ID(n) AS id, n.name AS name, n.type AS type\"\n",
    "    nodes_result = session.run(nodes_query)\n",
    "\n",
    "    # Parcourir les résultats et ajouter les nœuds au graphe\n",
    "    for record in nodes_result:\n",
    "        node_id = record[\"id\"]\n",
    "        node_name = record[\"name\"]\n",
    "        node_type = record[\"type\"]\n",
    "        if node_id is not None:\n",
    "            graph.add_node(node_id, name=node_name, type=node_type)\n",
    "\n",
    "    # Récupérer les relations\n",
    "    relations_query = \"MATCH ()-[r]->() RETURN ID(startNode(r)) AS source_id, ID(endNode(r)) AS target_id\"\n",
    "    relations_result = session.run(relations_query)\n",
    "\n",
    "    # Ajouter les relations entre les nœuds\n",
    "    for record in relations_result:\n",
    "        source_node_id = record[\"source_id\"]\n",
    "        target_node_id = record[\"target_id\"]\n",
    "        if source_node_id is not None and target_node_id is not None:\n",
    "            graph.add_edge(source_node_id, target_node_id)"
   ]
  },
  {
   "cell_type": "code",
   "execution_count": 63,
   "id": "26eab0a3",
   "metadata": {},
   "outputs": [],
   "source": [
    "# Convert the graph to a pandas DataFrame\n",
    "df = pd.DataFrame(graph.nodes(data=True), columns=[\"node_id\", \"attributes\"])\n",
    "df[\"node_type\"] = df[\"attributes\"].apply(lambda x: x.get(\"type\"))\n",
    "df[\"node_name\"] = df[\"attributes\"].apply(lambda x: x.get(\"name\"))\n",
    "\n",
    "# Drop the unnecessary 'attributes' column\n",
    "df.drop(columns=[\"attributes\"], inplace=True)\n",
    "\n",
    "# Check if the DataFrame is empty\n",
    "if df.empty:\n",
    "    raise ValueError(\"The dataset is empty. Please check your Neo4j query and data.\")\n",
    "\n",
    "# Split the dataset into training and testing sets\n",
    "train_df, test_df = train_test_split(df, test_size=0.2, random_state=42)\n"
   ]
  },
  {
   "cell_type": "code",
   "execution_count": 64,
   "id": "81a47df9",
   "metadata": {},
   "outputs": [
    {
     "data": {
      "text/html": [
       "<div>\n",
       "<style scoped>\n",
       "    .dataframe tbody tr th:only-of-type {\n",
       "        vertical-align: middle;\n",
       "    }\n",
       "\n",
       "    .dataframe tbody tr th {\n",
       "        vertical-align: top;\n",
       "    }\n",
       "\n",
       "    .dataframe thead th {\n",
       "        text-align: right;\n",
       "    }\n",
       "</style>\n",
       "<table border=\"1\" class=\"dataframe\">\n",
       "  <thead>\n",
       "    <tr style=\"text-align: right;\">\n",
       "      <th></th>\n",
       "      <th>node_id</th>\n",
       "      <th>node_type</th>\n",
       "      <th>node_name</th>\n",
       "    </tr>\n",
       "  </thead>\n",
       "  <tbody>\n",
       "    <tr>\n",
       "      <th>0</th>\n",
       "      <td>0</td>\n",
       "      <td>Explanation</td>\n",
       "      <td>Static unbalance</td>\n",
       "    </tr>\n",
       "    <tr>\n",
       "      <th>1</th>\n",
       "      <td>1</td>\n",
       "      <td>Explanation</td>\n",
       "      <td>Couple unbalance</td>\n",
       "    </tr>\n",
       "    <tr>\n",
       "      <th>2</th>\n",
       "      <td>2</td>\n",
       "      <td>Explanation</td>\n",
       "      <td>Dynamic unbalance</td>\n",
       "    </tr>\n",
       "    <tr>\n",
       "      <th>3</th>\n",
       "      <td>3</td>\n",
       "      <td>Explanation</td>\n",
       "      <td>Overhung unbalance</td>\n",
       "    </tr>\n",
       "    <tr>\n",
       "      <th>4</th>\n",
       "      <td>4</td>\n",
       "      <td>Explanation</td>\n",
       "      <td>Structural looseness</td>\n",
       "    </tr>\n",
       "  </tbody>\n",
       "</table>\n",
       "</div>"
      ],
      "text/plain": [
       "   node_id    node_type             node_name\n",
       "0        0  Explanation      Static unbalance\n",
       "1        1  Explanation      Couple unbalance\n",
       "2        2  Explanation     Dynamic unbalance\n",
       "3        3  Explanation    Overhung unbalance\n",
       "4        4  Explanation  Structural looseness"
      ]
     },
     "execution_count": 64,
     "metadata": {},
     "output_type": "execute_result"
    }
   ],
   "source": [
    "df.head()"
   ]
  },
  {
   "cell_type": "markdown",
   "id": "1e1aea0e",
   "metadata": {},
   "source": [
    "## Generating graph embeddings using Neo4j's GDS library"
   ]
  },
  {
   "cell_type": "code",
   "execution_count": 53,
   "id": "e0457963",
   "metadata": {},
   "outputs": [],
   "source": [
    "with driver.session() as session:\n",
    "    # Create a graph projection for link prediction using GDS\n",
    "    session.run(\"CALL gds.graph.project('link_prediction_graph', '*', '*')\")"
   ]
  },
  {
   "cell_type": "code",
   "execution_count": 54,
   "id": "6b96140e",
   "metadata": {},
   "outputs": [],
   "source": [
    "with driver.session() as session:\n",
    "    # Compute graph embeddings using Node2Vec algorithm\n",
    "    session.run(\"\"\"\n",
    "        CALL gds.beta.node2vec.stream('link_prediction_graph', {\n",
    "            embeddingDimension: 64,\n",
    "            iterations: 10,\n",
    "            walkLength: 20,\n",
    "            inOutFactor: 1.0,\n",
    "            returnFactor: 1.0\n",
    "        })\n",
    "    \"\"\")"
   ]
  },
  {
   "cell_type": "markdown",
   "id": "7313dbdf",
   "metadata": {},
   "source": [
    "## Fetch the graph embeddings "
   ]
  },
  {
   "cell_type": "code",
   "execution_count": 67,
   "id": "576ec70c",
   "metadata": {},
   "outputs": [],
   "source": [
    "# Create an empty list to store the node embeddings\n",
    "node_embeddings = []\n",
    "\n",
    "# Compute graph embeddings using Node2Vec algorithm and fetch the embeddings\n",
    "with driver.session() as session:\n",
    "    result = session.run(\"\"\"\n",
    "        CALL gds.beta.node2vec.stream('link_prediction_graph', {\n",
    "            embeddingDimension: 64,\n",
    "            iterations: 10,\n",
    "            walkLength: 20,\n",
    "            inOutFactor: 1.0,\n",
    "            returnFactor: 1.0\n",
    "        })\n",
    "        YIELD nodeId, embedding\n",
    "        RETURN nodeId, gds.util.asNode(nodeId).name AS node_name, gds.util.asNode(nodeId).type AS node_type, embedding\n",
    "    \"\"\")\n",
    "\n",
    "    # Iterate through the result and append embeddings to the list\n",
    "    for record in result:\n",
    "        node_id = record[\"nodeId\"]\n",
    "        node_name = record[\"node_name\"]\n",
    "        node_type = record[\"node_type\"]\n",
    "        embedding = record[\"embedding\"]\n",
    "        node_embeddings.append((node_id, node_name, node_type, embedding))\n",
    "\n",
    "# Create a DataFrame to store the node embeddings\n",
    "columns = [\"node_id\", \"node_name\", \"node_type\", \"embedding\"]\n",
    "node_embeddings_df = pd.DataFrame(node_embeddings, columns=columns)"
   ]
  },
  {
   "cell_type": "code",
   "execution_count": 68,
   "id": "d2406da7",
   "metadata": {},
   "outputs": [
    {
     "data": {
      "text/html": [
       "<div>\n",
       "<style scoped>\n",
       "    .dataframe tbody tr th:only-of-type {\n",
       "        vertical-align: middle;\n",
       "    }\n",
       "\n",
       "    .dataframe tbody tr th {\n",
       "        vertical-align: top;\n",
       "    }\n",
       "\n",
       "    .dataframe thead th {\n",
       "        text-align: right;\n",
       "    }\n",
       "</style>\n",
       "<table border=\"1\" class=\"dataframe\">\n",
       "  <thead>\n",
       "    <tr style=\"text-align: right;\">\n",
       "      <th></th>\n",
       "      <th>node_id</th>\n",
       "      <th>node_name</th>\n",
       "      <th>node_type</th>\n",
       "      <th>embedding</th>\n",
       "    </tr>\n",
       "  </thead>\n",
       "  <tbody>\n",
       "    <tr>\n",
       "      <th>0</th>\n",
       "      <td>0</td>\n",
       "      <td>Static unbalance</td>\n",
       "      <td>Explanation</td>\n",
       "      <td>[0.00013140597729943693, 0.007177373860031366,...</td>\n",
       "    </tr>\n",
       "    <tr>\n",
       "      <th>1</th>\n",
       "      <td>1</td>\n",
       "      <td>Couple unbalance</td>\n",
       "      <td>Explanation</td>\n",
       "      <td>[0.00016156949277501553, -0.001012906082905829...</td>\n",
       "    </tr>\n",
       "    <tr>\n",
       "      <th>2</th>\n",
       "      <td>2</td>\n",
       "      <td>Dynamic unbalance</td>\n",
       "      <td>Explanation</td>\n",
       "      <td>[0.00015263084787875414, 0.0016284111188724637...</td>\n",
       "    </tr>\n",
       "    <tr>\n",
       "      <th>3</th>\n",
       "      <td>3</td>\n",
       "      <td>Overhung unbalance</td>\n",
       "      <td>Explanation</td>\n",
       "      <td>[0.00015329927555285394, -0.000849031086545437...</td>\n",
       "    </tr>\n",
       "    <tr>\n",
       "      <th>4</th>\n",
       "      <td>4</td>\n",
       "      <td>Structural looseness</td>\n",
       "      <td>Explanation</td>\n",
       "      <td>[0.00015257923223543912, 0.0018162585329264402...</td>\n",
       "    </tr>\n",
       "  </tbody>\n",
       "</table>\n",
       "</div>"
      ],
      "text/plain": [
       "   node_id             node_name    node_type  \\\n",
       "0        0      Static unbalance  Explanation   \n",
       "1        1      Couple unbalance  Explanation   \n",
       "2        2     Dynamic unbalance  Explanation   \n",
       "3        3    Overhung unbalance  Explanation   \n",
       "4        4  Structural looseness  Explanation   \n",
       "\n",
       "                                           embedding  \n",
       "0  [0.00013140597729943693, 0.007177373860031366,...  \n",
       "1  [0.00016156949277501553, -0.001012906082905829...  \n",
       "2  [0.00015263084787875414, 0.0016284111188724637...  \n",
       "3  [0.00015329927555285394, -0.000849031086545437...  \n",
       "4  [0.00015257923223543912, 0.0018162585329264402...  "
      ]
     },
     "execution_count": 68,
     "metadata": {},
     "output_type": "execute_result"
    }
   ],
   "source": [
    "node_embeddings_df.head()"
   ]
  },
  {
   "cell_type": "code",
   "execution_count": 69,
   "id": "04959b8a",
   "metadata": {},
   "outputs": [
    {
     "name": "stdout",
     "output_type": "stream",
     "text": [
      "Column names in train_df: Index(['node_id', 'node_type', 'node_name'], dtype='object')\n",
      "Column names in node_embeddings_df: Index(['node_id', 'node_name', 'node_type', 'embedding'], dtype='object')\n"
     ]
    }
   ],
   "source": [
    "print(\"Column names in train_df:\", train_df.columns)\n",
    "print(\"Column names in node_embeddings_df:\", node_embeddings_df.columns)"
   ]
  },
  {
   "cell_type": "markdown",
   "id": "ffe74081",
   "metadata": {},
   "source": [
    "## Similarities"
   ]
  },
  {
   "cell_type": "code",
   "execution_count": 70,
   "id": "d83ab2fa",
   "metadata": {},
   "outputs": [
    {
     "data": {
      "text/html": [
       "<div>\n",
       "<style scoped>\n",
       "    .dataframe tbody tr th:only-of-type {\n",
       "        vertical-align: middle;\n",
       "    }\n",
       "\n",
       "    .dataframe tbody tr th {\n",
       "        vertical-align: top;\n",
       "    }\n",
       "\n",
       "    .dataframe thead th {\n",
       "        text-align: right;\n",
       "    }\n",
       "</style>\n",
       "<table border=\"1\" class=\"dataframe\">\n",
       "  <thead>\n",
       "    <tr style=\"text-align: right;\">\n",
       "      <th></th>\n",
       "      <th>Imbalance</th>\n",
       "      <th>Structural fault</th>\n",
       "      <th>Misalignment</th>\n",
       "      <th>looseness</th>\n",
       "      <th>Bearing Fault</th>\n",
       "      <th>Gear Fault</th>\n",
       "    </tr>\n",
       "  </thead>\n",
       "  <tbody>\n",
       "    <tr>\n",
       "      <th>Pump</th>\n",
       "      <td>-0.141234</td>\n",
       "      <td>-0.044924</td>\n",
       "      <td>-0.101088</td>\n",
       "      <td>-0.155407</td>\n",
       "      <td>-0.050436</td>\n",
       "      <td>0.000876</td>\n",
       "    </tr>\n",
       "    <tr>\n",
       "      <th>Fan</th>\n",
       "      <td>-0.036916</td>\n",
       "      <td>-0.074214</td>\n",
       "      <td>-0.139140</td>\n",
       "      <td>0.037779</td>\n",
       "      <td>0.153115</td>\n",
       "      <td>-0.130877</td>\n",
       "    </tr>\n",
       "    <tr>\n",
       "      <th>Engine</th>\n",
       "      <td>-0.032339</td>\n",
       "      <td>-0.020627</td>\n",
       "      <td>-0.013728</td>\n",
       "      <td>0.093682</td>\n",
       "      <td>0.159512</td>\n",
       "      <td>-0.030593</td>\n",
       "    </tr>\n",
       "  </tbody>\n",
       "</table>\n",
       "</div>"
      ],
      "text/plain": [
       "        Imbalance  Structural fault  Misalignment  looseness  Bearing Fault  \\\n",
       "Pump    -0.141234         -0.044924     -0.101088  -0.155407      -0.050436   \n",
       "Fan     -0.036916         -0.074214     -0.139140   0.037779       0.153115   \n",
       "Engine  -0.032339         -0.020627     -0.013728   0.093682       0.159512   \n",
       "\n",
       "        Gear Fault  \n",
       "Pump      0.000876  \n",
       "Fan      -0.130877  \n",
       "Engine   -0.030593  "
      ]
     },
     "execution_count": 70,
     "metadata": {},
     "output_type": "execute_result"
    }
   ],
   "source": [
    "# Separate the nodes of type \"component\" and nodes of types \"failure\" and \"ambalance\"\n",
    "component_nodes = node_embeddings_df[node_embeddings_df[\"node_type\"] == \"Component\"]\n",
    "failure_ambalance_nodes = node_embeddings_df[node_embeddings_df[\"node_type\"].isin([\"Failure\", \"Imbalance\"])]\n",
    "\n",
    "# Extract embeddings for each set of nodes\n",
    "component_embeddings = component_nodes[\"embedding\"].tolist()\n",
    "failure_ambalance_embeddings = failure_ambalance_nodes[\"embedding\"].tolist()\n",
    "\n",
    "# Check if embeddings are not empty\n",
    "if not component_embeddings or not failure_ambalance_embeddings:\n",
    "    print(\"Some embeddings are empty. Check if the Node2Vec computation was successful and if nodes of required types exist.\")\n",
    "else:\n",
    "    # Compute the similarity between the embeddings using cosine similarity\n",
    "    similarity_matrix = cosine_similarity(component_embeddings, failure_ambalance_embeddings)\n",
    "\n",
    "    # Create a DataFrame to store the similarity scores with node names as index and columns\n",
    "    similarity_df = pd.DataFrame(similarity_matrix, columns=failure_ambalance_nodes[\"node_name\"].tolist(), index=component_nodes[\"node_name\"].tolist())\n",
    "\n",
    "    # Display the similarity DataFrame with node names\n",
    "    \n",
    "similarity_df"
   ]
  },
  {
   "cell_type": "code",
   "execution_count": 71,
   "id": "3bdfff38",
   "metadata": {},
   "outputs": [
    {
     "name": "stdout",
     "output_type": "stream",
     "text": [
      "Engine ===== leads to =====> Imbalance\n",
      "\n",
      "Engine ===== leads to =====> Structural fault\n",
      "\n",
      "Engine ===== leads to =====> Misalignment\n",
      "\n",
      "Engine ===== leads to =====> looseness\n",
      "\n",
      "Engine ===== leads to =====> Bearing Fault\n",
      "\n",
      "Pump ===== leads to =====> Gear Fault\n",
      "\n"
     ]
    }
   ],
   "source": [
    "# Find the maximum similarity value for each column\n",
    "max_similarities = similarity_df.max(axis=0)\n",
    "\n",
    "# Iterate through each column and find the corresponding row(s) with the maximum value\n",
    "for column in max_similarities.index:\n",
    "    max_similarity = max_similarities[column]\n",
    "    max_rows = similarity_df[similarity_df[column] == max_similarity].index.tolist()\n",
    "    \n",
    "    # Print the result\n",
    "    if len(max_rows) == 1:\n",
    "        print(f\"{max_rows[0]} ===== leads to =====> {column}\")\n",
    "    else:\n",
    "        rows_str = \", \".join(max_rows)\n",
    "        print(f\"{rows_str} ===== leads to =====>{column}\")\n",
    "    print()"
   ]
  },
  {
   "cell_type": "code",
   "execution_count": 65,
   "id": "5b1a9934",
   "metadata": {},
   "outputs": [
    {
     "data": {
      "text/html": [
       "<div>\n",
       "<style scoped>\n",
       "    .dataframe tbody tr th:only-of-type {\n",
       "        vertical-align: middle;\n",
       "    }\n",
       "\n",
       "    .dataframe tbody tr th {\n",
       "        vertical-align: top;\n",
       "    }\n",
       "\n",
       "    .dataframe thead th {\n",
       "        text-align: right;\n",
       "    }\n",
       "</style>\n",
       "<table border=\"1\" class=\"dataframe\">\n",
       "  <thead>\n",
       "    <tr style=\"text-align: right;\">\n",
       "      <th></th>\n",
       "      <th>Imbalance</th>\n",
       "      <th>Structural fault</th>\n",
       "      <th>Misalignment</th>\n",
       "      <th>looseness</th>\n",
       "      <th>Bearing Fault</th>\n",
       "      <th>Gear Fault</th>\n",
       "    </tr>\n",
       "  </thead>\n",
       "  <tbody>\n",
       "    <tr>\n",
       "      <th>Pump</th>\n",
       "      <td>0.055772</td>\n",
       "      <td>0.049533</td>\n",
       "      <td>0.048109</td>\n",
       "      <td>0.052424</td>\n",
       "      <td>0.046578</td>\n",
       "      <td>0.050480</td>\n",
       "    </tr>\n",
       "    <tr>\n",
       "      <th>Fan</th>\n",
       "      <td>0.054123</td>\n",
       "      <td>0.056609</td>\n",
       "      <td>0.053274</td>\n",
       "      <td>0.048500</td>\n",
       "      <td>0.051779</td>\n",
       "      <td>0.054882</td>\n",
       "    </tr>\n",
       "    <tr>\n",
       "      <th>Engine</th>\n",
       "      <td>0.047902</td>\n",
       "      <td>0.047396</td>\n",
       "      <td>0.055085</td>\n",
       "      <td>0.052484</td>\n",
       "      <td>0.048286</td>\n",
       "      <td>0.051312</td>\n",
       "    </tr>\n",
       "  </tbody>\n",
       "</table>\n",
       "</div>"
      ],
      "text/plain": [
       "        Imbalance  Structural fault  Misalignment  looseness  Bearing Fault  \\\n",
       "Pump     0.055772          0.049533      0.048109   0.052424       0.046578   \n",
       "Fan      0.054123          0.056609      0.053274   0.048500       0.051779   \n",
       "Engine   0.047902          0.047396      0.055085   0.052484       0.048286   \n",
       "\n",
       "        Gear Fault  \n",
       "Pump      0.050480  \n",
       "Fan       0.054882  \n",
       "Engine    0.051312  "
      ]
     },
     "execution_count": 65,
     "metadata": {},
     "output_type": "execute_result"
    }
   ],
   "source": [
    "# Separate the nodes of type \"component\" and nodes of types \"failure\" and \"ambalance\"\n",
    "component_nodes = node_embeddings_df[node_embeddings_df[\"node_type\"] == \"Component\"]\n",
    "failure_ambalance_nodes = node_embeddings_df[node_embeddings_df[\"node_type\"].isin([\"Failure\", \"Imbalance\"])]\n",
    "\n",
    "# Extract embeddings for each set of nodes\n",
    "component_embeddings = component_nodes[\"embedding\"].tolist()\n",
    "failure_ambalance_embeddings = failure_ambalance_nodes[\"embedding\"].tolist()\n",
    "\n",
    "# Check if embeddings are not empty\n",
    "if not component_embeddings or not failure_ambalance_embeddings:\n",
    "    print(\"Some embeddings are empty. Check if the Node2Vec computation was successful and if nodes of required types exist.\")\n",
    "else:\n",
    "    # Compute the similarity between the embeddings using euclidean distance\n",
    "    similarity_matrix = euclidean_distances(component_embeddings, failure_ambalance_embeddings)\n",
    "\n",
    "    # Create a DataFrame to store the similarity scores with node names as index and columns\n",
    "    similarity_df = pd.DataFrame(similarity_matrix, columns=failure_ambalance_nodes[\"node_name\"].tolist(), index=component_nodes[\"node_name\"].tolist())\n",
    "\n",
    "    # Display the similarity DataFrame with node names\n",
    "similarity_df"
   ]
  },
  {
   "cell_type": "code",
   "execution_count": 66,
   "id": "f7bb6975",
   "metadata": {},
   "outputs": [
    {
     "name": "stdout",
     "output_type": "stream",
     "text": [
      "Pump ===== leads to =====> Imbalance\n",
      "\n",
      "Fan ===== leads to =====> Structural fault\n",
      "\n",
      "Engine ===== leads to =====> Misalignment\n",
      "\n",
      "Engine ===== leads to =====> looseness\n",
      "\n",
      "Fan ===== leads to =====> Bearing Fault\n",
      "\n",
      "Fan ===== leads to =====> Gear Fault\n",
      "\n"
     ]
    }
   ],
   "source": [
    "# Find the maximum similarity value for each column\n",
    "max_similarities = similarity_df.max(axis=0)\n",
    "\n",
    "# Iterate through each column and find the corresponding row(s) with the maximum value\n",
    "for column in max_similarities.index:\n",
    "    max_similarity = max_similarities[column]\n",
    "    max_rows = similarity_df[similarity_df[column] == max_similarity].index.tolist()\n",
    "    \n",
    "    # Print the result\n",
    "    if len(max_rows) == 1:\n",
    "        print(f\"{max_rows[0]} ===== leads to =====> {column}\")\n",
    "    else:\n",
    "        rows_str = \", \".join(max_rows)\n",
    "        print(f\"{rows_str} ===== leads to =====>{column}\")\n",
    "    print()"
   ]
  },
  {
   "cell_type": "code",
   "execution_count": null,
   "id": "909dfbcd",
   "metadata": {},
   "outputs": [],
   "source": [
    "session.close()\n",
    "driver.close()"
   ]
  }
 ],
 "metadata": {
  "kernelspec": {
   "display_name": "Python 3 (ipykernel)",
   "language": "python",
   "name": "python3"
  },
  "language_info": {
   "codemirror_mode": {
    "name": "ipython",
    "version": 3
   },
   "file_extension": ".py",
   "mimetype": "text/x-python",
   "name": "python",
   "nbconvert_exporter": "python",
   "pygments_lexer": "ipython3",
   "version": "3.7.16"
  }
 },
 "nbformat": 4,
 "nbformat_minor": 5
}
