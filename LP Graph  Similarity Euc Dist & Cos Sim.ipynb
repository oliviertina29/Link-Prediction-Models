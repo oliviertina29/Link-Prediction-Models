{
 "cells": [
  {
   "cell_type": "markdown",
   "id": "84843a6a",
   "metadata": {},
   "source": [
    "## Importing Libraries"
   ]
  },
  {
   "cell_type": "code",
   "execution_count": 1,
   "id": "2642dc6c",
   "metadata": {},
   "outputs": [
    {
     "name": "stderr",
     "output_type": "stream",
     "text": [
      "C:\\Users\\olivi\\anaconda3\\envs\\Py_env\\lib\\site-packages\\tqdm\\auto.py:21: TqdmWarning: IProgress not found. Please update jupyter and ipywidgets. See https://ipywidgets.readthedocs.io/en/stable/user_install.html\n",
      "  from .autonotebook import tqdm as notebook_tqdm\n"
     ]
    }
   ],
   "source": [
    "import torch\n",
    "import torch.nn as nn\n",
    "import torch.optim as optim"
   ]
  },
  {
   "cell_type": "code",
   "execution_count": 2,
   "id": "be889dda",
   "metadata": {},
   "outputs": [],
   "source": [
    "import pandas as pd\n",
    "import numpy as np\n",
    "import networkx as nx\n",
    "from neo4j import GraphDatabase\n",
    "from sklearn.model_selection import train_test_split\n",
    "from sklearn.linear_model import LogisticRegression\n",
    "from sklearn.metrics import classification_report, accuracy_score\n",
    "from sklearn.metrics.pairwise import cosine_similarity, euclidean_distances"
   ]
  },
  {
   "cell_type": "markdown",
   "id": "08458b5d",
   "metadata": {},
   "source": [
    "## Connecting to the neo4j database"
   ]
  },
  {
   "cell_type": "code",
   "execution_count": 3,
   "id": "37c9e658",
   "metadata": {},
   "outputs": [],
   "source": [
    "uri = \"bolt://localhost:7687\"\n",
    "username = \"neo4j\"\n",
    "password = \"OLIV00%%\"\n",
    "\n",
    "driver = GraphDatabase.driver(uri, auth=(username, password))"
   ]
  },
  {
   "cell_type": "markdown",
   "id": "0c7c2626",
   "metadata": {},
   "source": [
    "## Retrieving the graph data from Neo4j and dataset preparation"
   ]
  },
  {
   "cell_type": "code",
   "execution_count": 4,
   "id": "ed5181d9",
   "metadata": {},
   "outputs": [],
   "source": [
    "graph = nx.Graph()\n",
    "\n",
    "with driver.session() as session:\n",
    "    # Récupérer les nœuds avec leur nom et type\n",
    "    nodes_query = \"MATCH (n) RETURN ID(n) AS id, n.name AS name, n.type AS type\"\n",
    "    nodes_result = session.run(nodes_query)\n",
    "\n",
    "    # Parcourir les résultats et ajouter les nœuds au graphe\n",
    "    for record in nodes_result:\n",
    "        node_id = record[\"id\"]\n",
    "        node_name = record[\"name\"]\n",
    "        node_type = record[\"type\"]\n",
    "        if node_id is not None:\n",
    "            graph.add_node(node_id, name=node_name, type=node_type)\n",
    "\n",
    "    # Récupérer les relations\n",
    "    relations_query = \"MATCH ()-[r]->() RETURN ID(startNode(r)) AS source_id, ID(endNode(r)) AS target_id\"\n",
    "    relations_result = session.run(relations_query)\n",
    "\n",
    "    # Ajouter les relations entre les nœuds\n",
    "    for record in relations_result:\n",
    "        source_node_id = record[\"source_id\"]\n",
    "        target_node_id = record[\"target_id\"]\n",
    "        if source_node_id is not None and target_node_id is not None:\n",
    "            graph.add_edge(source_node_id, target_node_id)"
   ]
  },
  {
   "cell_type": "code",
   "execution_count": 5,
   "id": "26eab0a3",
   "metadata": {},
   "outputs": [],
   "source": [
    "# Convert the graph to a pandas DataFrame\n",
    "df = pd.DataFrame(graph.nodes(data=True), columns=[\"node_id\", \"attributes\"])\n",
    "df[\"node_type\"] = df[\"attributes\"].apply(lambda x: x.get(\"type\"))\n",
    "df[\"node_name\"] = df[\"attributes\"].apply(lambda x: x.get(\"name\"))\n",
    "\n",
    "# Drop the unnecessary 'attributes' column\n",
    "df.drop(columns=[\"attributes\"], inplace=True)\n",
    "\n",
    "# Check if the DataFrame is empty\n",
    "if df.empty:\n",
    "    raise ValueError(\"The dataset is empty. Please check your Neo4j query and data.\")\n",
    "\n",
    "# Split the dataset into training and testing sets\n",
    "train_df, test_df = train_test_split(df, test_size=0.2, random_state=42)\n"
   ]
  },
  {
   "cell_type": "code",
   "execution_count": 6,
   "id": "81a47df9",
   "metadata": {},
   "outputs": [
    {
     "data": {
      "text/html": [
       "<div>\n",
       "<style scoped>\n",
       "    .dataframe tbody tr th:only-of-type {\n",
       "        vertical-align: middle;\n",
       "    }\n",
       "\n",
       "    .dataframe tbody tr th {\n",
       "        vertical-align: top;\n",
       "    }\n",
       "\n",
       "    .dataframe thead th {\n",
       "        text-align: right;\n",
       "    }\n",
       "</style>\n",
       "<table border=\"1\" class=\"dataframe\">\n",
       "  <thead>\n",
       "    <tr style=\"text-align: right;\">\n",
       "      <th></th>\n",
       "      <th>node_id</th>\n",
       "      <th>node_type</th>\n",
       "      <th>node_name</th>\n",
       "    </tr>\n",
       "  </thead>\n",
       "  <tbody>\n",
       "    <tr>\n",
       "      <th>0</th>\n",
       "      <td>0</td>\n",
       "      <td>Explanation</td>\n",
       "      <td>Couple unbalance</td>\n",
       "    </tr>\n",
       "    <tr>\n",
       "      <th>1</th>\n",
       "      <td>1</td>\n",
       "      <td>Explanation</td>\n",
       "      <td>Dynamic unbalance</td>\n",
       "    </tr>\n",
       "    <tr>\n",
       "      <th>2</th>\n",
       "      <td>2</td>\n",
       "      <td>Explanation</td>\n",
       "      <td>Overhung unbalance</td>\n",
       "    </tr>\n",
       "    <tr>\n",
       "      <th>3</th>\n",
       "      <td>3</td>\n",
       "      <td>Explanation</td>\n",
       "      <td>Structural looseness</td>\n",
       "    </tr>\n",
       "    <tr>\n",
       "      <th>4</th>\n",
       "      <td>4</td>\n",
       "      <td>Explanation</td>\n",
       "      <td>Angular misalignment</td>\n",
       "    </tr>\n",
       "  </tbody>\n",
       "</table>\n",
       "</div>"
      ],
      "text/plain": [
       "   node_id    node_type             node_name\n",
       "0        0  Explanation      Couple unbalance\n",
       "1        1  Explanation     Dynamic unbalance\n",
       "2        2  Explanation    Overhung unbalance\n",
       "3        3  Explanation  Structural looseness\n",
       "4        4  Explanation  Angular misalignment"
      ]
     },
     "execution_count": 6,
     "metadata": {},
     "output_type": "execute_result"
    }
   ],
   "source": [
    "df.head()"
   ]
  },
  {
   "cell_type": "markdown",
   "id": "1e1aea0e",
   "metadata": {},
   "source": [
    "## Generating graph embeddings using Neo4j's GDS library"
   ]
  },
  {
   "cell_type": "code",
   "execution_count": 7,
   "id": "e0457963",
   "metadata": {},
   "outputs": [],
   "source": [
    "with driver.session() as session:\n",
    "    # Create a graph projection for link prediction using GDS\n",
    "    session.run(\"CALL gds.graph.project('link_prediction_graph', '*', '*')\")"
   ]
  },
  {
   "cell_type": "code",
   "execution_count": 8,
   "id": "6b96140e",
   "metadata": {},
   "outputs": [],
   "source": [
    "with driver.session() as session:\n",
    "    # Compute graph embeddings using Node2Vec algorithm\n",
    "    session.run(\"\"\"\n",
    "        CALL gds.beta.node2vec.stream('link_prediction_graph', {\n",
    "            embeddingDimension: 64,\n",
    "            iterations: 10,\n",
    "            walkLength: 20,\n",
    "            inOutFactor: 1.0,\n",
    "            returnFactor: 1.0\n",
    "        })\n",
    "    \"\"\")"
   ]
  },
  {
   "cell_type": "markdown",
   "id": "7313dbdf",
   "metadata": {},
   "source": [
    "## Fetch the graph embeddings "
   ]
  },
  {
   "cell_type": "code",
   "execution_count": 9,
   "id": "576ec70c",
   "metadata": {},
   "outputs": [],
   "source": [
    "# Create an empty list to store the node embeddings\n",
    "node_embeddings = []\n",
    "\n",
    "# Compute graph embeddings using Node2Vec algorithm and fetch the embeddings\n",
    "with driver.session() as session:\n",
    "    result = session.run(\"\"\"\n",
    "        CALL gds.beta.node2vec.stream('link_prediction_graph', {\n",
    "            embeddingDimension: 64,\n",
    "            iterations: 10,\n",
    "            walkLength: 20,\n",
    "            inOutFactor: 1.0,\n",
    "            returnFactor: 1.0\n",
    "        })\n",
    "        YIELD nodeId, embedding\n",
    "        RETURN nodeId, gds.util.asNode(nodeId).name AS node_name, gds.util.asNode(nodeId).type AS node_type, embedding\n",
    "    \"\"\")\n",
    "\n",
    "    # Iterate through the result and append embeddings to the list\n",
    "    for record in result:\n",
    "        node_id = record[\"nodeId\"]\n",
    "        node_name = record[\"node_name\"]\n",
    "        node_type = record[\"node_type\"]\n",
    "        embedding = record[\"embedding\"]\n",
    "        node_embeddings.append((node_id, node_name, node_type, embedding))\n",
    "\n",
    "# Create a DataFrame to store the node embeddings\n",
    "columns = [\"node_id\", \"node_name\", \"node_type\", \"embedding\"]\n",
    "node_embeddings_df = pd.DataFrame(node_embeddings, columns=columns)"
   ]
  },
  {
   "cell_type": "code",
   "execution_count": 10,
   "id": "d2406da7",
   "metadata": {},
   "outputs": [
    {
     "data": {
      "text/html": [
       "<div>\n",
       "<style scoped>\n",
       "    .dataframe tbody tr th:only-of-type {\n",
       "        vertical-align: middle;\n",
       "    }\n",
       "\n",
       "    .dataframe tbody tr th {\n",
       "        vertical-align: top;\n",
       "    }\n",
       "\n",
       "    .dataframe thead th {\n",
       "        text-align: right;\n",
       "    }\n",
       "</style>\n",
       "<table border=\"1\" class=\"dataframe\">\n",
       "  <thead>\n",
       "    <tr style=\"text-align: right;\">\n",
       "      <th></th>\n",
       "      <th>node_id</th>\n",
       "      <th>node_name</th>\n",
       "      <th>node_type</th>\n",
       "      <th>embedding</th>\n",
       "    </tr>\n",
       "  </thead>\n",
       "  <tbody>\n",
       "    <tr>\n",
       "      <th>0</th>\n",
       "      <td>0</td>\n",
       "      <td>Couple unbalance</td>\n",
       "      <td>Explanation</td>\n",
       "      <td>[-0.00667918287217617, 0.0028545167297124863, ...</td>\n",
       "    </tr>\n",
       "    <tr>\n",
       "      <th>1</th>\n",
       "      <td>1</td>\n",
       "      <td>Dynamic unbalance</td>\n",
       "      <td>Explanation</td>\n",
       "      <td>[-0.006680582650005817, 0.0055036479607224464,...</td>\n",
       "    </tr>\n",
       "    <tr>\n",
       "      <th>2</th>\n",
       "      <td>2</td>\n",
       "      <td>Overhung unbalance</td>\n",
       "      <td>Explanation</td>\n",
       "      <td>[-0.006549644749611616, -0.002505231648683548,...</td>\n",
       "    </tr>\n",
       "    <tr>\n",
       "      <th>3</th>\n",
       "      <td>3</td>\n",
       "      <td>Structural looseness</td>\n",
       "      <td>Explanation</td>\n",
       "      <td>[-0.006379413418471813, 0.0002732594439294189,...</td>\n",
       "    </tr>\n",
       "    <tr>\n",
       "      <th>4</th>\n",
       "      <td>4</td>\n",
       "      <td>Angular misalignment</td>\n",
       "      <td>Explanation</td>\n",
       "      <td>[-0.006261258386075497, -0.0021973459515720606...</td>\n",
       "    </tr>\n",
       "  </tbody>\n",
       "</table>\n",
       "</div>"
      ],
      "text/plain": [
       "   node_id             node_name    node_type  \\\n",
       "0        0      Couple unbalance  Explanation   \n",
       "1        1     Dynamic unbalance  Explanation   \n",
       "2        2    Overhung unbalance  Explanation   \n",
       "3        3  Structural looseness  Explanation   \n",
       "4        4  Angular misalignment  Explanation   \n",
       "\n",
       "                                           embedding  \n",
       "0  [-0.00667918287217617, 0.0028545167297124863, ...  \n",
       "1  [-0.006680582650005817, 0.0055036479607224464,...  \n",
       "2  [-0.006549644749611616, -0.002505231648683548,...  \n",
       "3  [-0.006379413418471813, 0.0002732594439294189,...  \n",
       "4  [-0.006261258386075497, -0.0021973459515720606...  "
      ]
     },
     "execution_count": 10,
     "metadata": {},
     "output_type": "execute_result"
    }
   ],
   "source": [
    "node_embeddings_df.head()"
   ]
  },
  {
   "cell_type": "code",
   "execution_count": 11,
   "id": "04959b8a",
   "metadata": {},
   "outputs": [
    {
     "name": "stdout",
     "output_type": "stream",
     "text": [
      "Column names in train_df: Index(['node_id', 'node_type', 'node_name'], dtype='object')\n",
      "Column names in node_embeddings_df: Index(['node_id', 'node_name', 'node_type', 'embedding'], dtype='object')\n"
     ]
    }
   ],
   "source": [
    "print(\"Column names in train_df:\", train_df.columns)\n",
    "print(\"Column names in node_embeddings_df:\", node_embeddings_df.columns)"
   ]
  },
  {
   "cell_type": "markdown",
   "id": "ffe74081",
   "metadata": {},
   "source": [
    "## Similarities"
   ]
  },
  {
   "cell_type": "code",
   "execution_count": 12,
   "id": "d83ab2fa",
   "metadata": {},
   "outputs": [
    {
     "data": {
      "text/html": [
       "<div>\n",
       "<style scoped>\n",
       "    .dataframe tbody tr th:only-of-type {\n",
       "        vertical-align: middle;\n",
       "    }\n",
       "\n",
       "    .dataframe tbody tr th {\n",
       "        vertical-align: top;\n",
       "    }\n",
       "\n",
       "    .dataframe thead th {\n",
       "        text-align: right;\n",
       "    }\n",
       "</style>\n",
       "<table border=\"1\" class=\"dataframe\">\n",
       "  <thead>\n",
       "    <tr style=\"text-align: right;\">\n",
       "      <th></th>\n",
       "      <th>Imbalance</th>\n",
       "      <th>Structural fault</th>\n",
       "      <th>Misalignment</th>\n",
       "      <th>looseness</th>\n",
       "      <th>Bearing Fault</th>\n",
       "      <th>Gear Fault</th>\n",
       "    </tr>\n",
       "  </thead>\n",
       "  <tbody>\n",
       "    <tr>\n",
       "      <th>Pump</th>\n",
       "      <td>-0.153682</td>\n",
       "      <td>0.069227</td>\n",
       "      <td>-0.063285</td>\n",
       "      <td>0.263582</td>\n",
       "      <td>-0.040137</td>\n",
       "      <td>-0.060397</td>\n",
       "    </tr>\n",
       "    <tr>\n",
       "      <th>Fan</th>\n",
       "      <td>-0.181578</td>\n",
       "      <td>0.055777</td>\n",
       "      <td>0.117058</td>\n",
       "      <td>-0.046323</td>\n",
       "      <td>-0.079770</td>\n",
       "      <td>-0.128679</td>\n",
       "    </tr>\n",
       "    <tr>\n",
       "      <th>Engine</th>\n",
       "      <td>0.096125</td>\n",
       "      <td>0.054971</td>\n",
       "      <td>-0.054945</td>\n",
       "      <td>0.155273</td>\n",
       "      <td>0.065945</td>\n",
       "      <td>0.004880</td>\n",
       "    </tr>\n",
       "  </tbody>\n",
       "</table>\n",
       "</div>"
      ],
      "text/plain": [
       "        Imbalance  Structural fault  Misalignment  looseness  Bearing Fault  \\\n",
       "Pump    -0.153682          0.069227     -0.063285   0.263582      -0.040137   \n",
       "Fan     -0.181578          0.055777      0.117058  -0.046323      -0.079770   \n",
       "Engine   0.096125          0.054971     -0.054945   0.155273       0.065945   \n",
       "\n",
       "        Gear Fault  \n",
       "Pump     -0.060397  \n",
       "Fan      -0.128679  \n",
       "Engine    0.004880  "
      ]
     },
     "execution_count": 12,
     "metadata": {},
     "output_type": "execute_result"
    }
   ],
   "source": [
    "# Separate the nodes of type \"component\" and nodes of types \"failure\" and \"ambalance\"\n",
    "component_nodes = node_embeddings_df[node_embeddings_df[\"node_type\"] == \"Component\"]\n",
    "failure_ambalance_nodes = node_embeddings_df[node_embeddings_df[\"node_type\"].isin([\"Failure\", \"Imbalance\"])]\n",
    "\n",
    "# Extract embeddings for each set of nodes\n",
    "component_embeddings = component_nodes[\"embedding\"].tolist()\n",
    "failure_ambalance_embeddings = failure_ambalance_nodes[\"embedding\"].tolist()\n",
    "\n",
    "# Check if embeddings are not empty\n",
    "if not component_embeddings or not failure_ambalance_embeddings:\n",
    "    print(\"Some embeddings are empty. Check if the Node2Vec computation was successful and if nodes of required types exist.\")\n",
    "else:\n",
    "    # Compute the similarity between the embeddings using cosine similarity\n",
    "    similarity_matrix = cosine_similarity(component_embeddings, failure_ambalance_embeddings)\n",
    "\n",
    "    # Create a DataFrame to store the similarity scores with node names as index and columns\n",
    "    similarity_df = pd.DataFrame(similarity_matrix, columns=failure_ambalance_nodes[\"node_name\"].tolist(), index=component_nodes[\"node_name\"].tolist())\n",
    "\n",
    "    # Display the similarity DataFrame with node names\n",
    "    \n",
    "similarity_df"
   ]
  },
  {
   "cell_type": "code",
   "execution_count": 13,
   "id": "3bdfff38",
   "metadata": {},
   "outputs": [
    {
     "name": "stdout",
     "output_type": "stream",
     "text": [
      "Engine ===== leads to =====> Imbalance\n",
      "\n",
      "Pump ===== leads to =====> Structural fault\n",
      "\n",
      "Fan ===== leads to =====> Misalignment\n",
      "\n",
      "Pump ===== leads to =====> looseness\n",
      "\n",
      "Engine ===== leads to =====> Bearing Fault\n",
      "\n",
      "Engine ===== leads to =====> Gear Fault\n",
      "\n"
     ]
    }
   ],
   "source": [
    "# Find the maximum similarity value for each column\n",
    "max_similarities = similarity_df.max(axis=0)\n",
    "\n",
    "# Iterate through each column and find the corresponding row(s) with the maximum value\n",
    "for column in max_similarities.index:\n",
    "    max_similarity = max_similarities[column]\n",
    "    max_rows = similarity_df[similarity_df[column] == max_similarity].index.tolist()\n",
    "    \n",
    "    # Print the result\n",
    "    if len(max_rows) == 1:\n",
    "        print(f\"{max_rows[0]} ===== leads to =====> {column}\")\n",
    "    else:\n",
    "        rows_str = \", \".join(max_rows)\n",
    "        print(f\"{rows_str} ===== leads to =====>{column}\")\n",
    "    print()"
   ]
  },
  {
   "cell_type": "code",
   "execution_count": 14,
   "id": "5b1a9934",
   "metadata": {},
   "outputs": [
    {
     "data": {
      "text/html": [
       "<div>\n",
       "<style scoped>\n",
       "    .dataframe tbody tr th:only-of-type {\n",
       "        vertical-align: middle;\n",
       "    }\n",
       "\n",
       "    .dataframe tbody tr th {\n",
       "        vertical-align: top;\n",
       "    }\n",
       "\n",
       "    .dataframe thead th {\n",
       "        text-align: right;\n",
       "    }\n",
       "</style>\n",
       "<table border=\"1\" class=\"dataframe\">\n",
       "  <thead>\n",
       "    <tr style=\"text-align: right;\">\n",
       "      <th></th>\n",
       "      <th>Imbalance</th>\n",
       "      <th>Structural fault</th>\n",
       "      <th>Misalignment</th>\n",
       "      <th>looseness</th>\n",
       "      <th>Bearing Fault</th>\n",
       "      <th>Gear Fault</th>\n",
       "    </tr>\n",
       "  </thead>\n",
       "  <tbody>\n",
       "    <tr>\n",
       "      <th>Pump</th>\n",
       "      <td>0.052303</td>\n",
       "      <td>0.045747</td>\n",
       "      <td>0.050717</td>\n",
       "      <td>0.043687</td>\n",
       "      <td>0.049941</td>\n",
       "      <td>0.051463</td>\n",
       "    </tr>\n",
       "    <tr>\n",
       "      <th>Fan</th>\n",
       "      <td>0.054672</td>\n",
       "      <td>0.047695</td>\n",
       "      <td>0.047726</td>\n",
       "      <td>0.053639</td>\n",
       "      <td>0.052547</td>\n",
       "      <td>0.054765</td>\n",
       "    </tr>\n",
       "    <tr>\n",
       "      <th>Engine</th>\n",
       "      <td>0.047006</td>\n",
       "      <td>0.046841</td>\n",
       "      <td>0.051274</td>\n",
       "      <td>0.047430</td>\n",
       "      <td>0.048042</td>\n",
       "      <td>0.050577</td>\n",
       "    </tr>\n",
       "  </tbody>\n",
       "</table>\n",
       "</div>"
      ],
      "text/plain": [
       "        Imbalance  Structural fault  Misalignment  looseness  Bearing Fault  \\\n",
       "Pump     0.052303          0.045747      0.050717   0.043687       0.049941   \n",
       "Fan      0.054672          0.047695      0.047726   0.053639       0.052547   \n",
       "Engine   0.047006          0.046841      0.051274   0.047430       0.048042   \n",
       "\n",
       "        Gear Fault  \n",
       "Pump      0.051463  \n",
       "Fan       0.054765  \n",
       "Engine    0.050577  "
      ]
     },
     "execution_count": 14,
     "metadata": {},
     "output_type": "execute_result"
    }
   ],
   "source": [
    "# Separate the nodes of type \"component\" and nodes of types \"failure\" and \"ambalance\"\n",
    "component_nodes = node_embeddings_df[node_embeddings_df[\"node_type\"] == \"Component\"]\n",
    "failure_ambalance_nodes = node_embeddings_df[node_embeddings_df[\"node_type\"].isin([\"Failure\", \"Imbalance\"])]\n",
    "\n",
    "# Extract embeddings for each set of nodes\n",
    "component_embeddings = component_nodes[\"embedding\"].tolist()\n",
    "failure_ambalance_embeddings = failure_ambalance_nodes[\"embedding\"].tolist()\n",
    "\n",
    "# Check if embeddings are not empty\n",
    "if not component_embeddings or not failure_ambalance_embeddings:\n",
    "    print(\"Some embeddings are empty. Check if the Node2Vec computation was successful and if nodes of required types exist.\")\n",
    "else:\n",
    "    # Compute the similarity between the embeddings using euclidean distance\n",
    "    similarity_matrix = euclidean_distances(component_embeddings, failure_ambalance_embeddings)\n",
    "\n",
    "    # Create a DataFrame to store the similarity scores with node names as index and columns\n",
    "    similarity_df = pd.DataFrame(similarity_matrix, columns=failure_ambalance_nodes[\"node_name\"].tolist(), index=component_nodes[\"node_name\"].tolist())\n",
    "\n",
    "    # Display the similarity DataFrame with node names\n",
    "similarity_df"
   ]
  },
  {
   "cell_type": "code",
   "execution_count": 15,
   "id": "f7bb6975",
   "metadata": {},
   "outputs": [
    {
     "name": "stdout",
     "output_type": "stream",
     "text": [
      "Fan ===== leads to =====> Imbalance\n",
      "\n",
      "Fan ===== leads to =====> Structural fault\n",
      "\n",
      "Engine ===== leads to =====> Misalignment\n",
      "\n",
      "Fan ===== leads to =====> looseness\n",
      "\n",
      "Fan ===== leads to =====> Bearing Fault\n",
      "\n",
      "Fan ===== leads to =====> Gear Fault\n",
      "\n"
     ]
    }
   ],
   "source": [
    "# Find the maximum similarity value for each column\n",
    "max_similarities = similarity_df.max(axis=0)\n",
    "\n",
    "# Iterate through each column and find the corresponding row(s) with the maximum value\n",
    "for column in max_similarities.index:\n",
    "    max_similarity = max_similarities[column]\n",
    "    max_rows = similarity_df[similarity_df[column] == max_similarity].index.tolist()\n",
    "    \n",
    "    # Print the result\n",
    "    if len(max_rows) == 1:\n",
    "        print(f\"{max_rows[0]} ===== leads to =====> {column}\")\n",
    "    else:\n",
    "        rows_str = \", \".join(max_rows)\n",
    "        print(f\"{rows_str} ===== leads to =====> {column}\")\n",
    "    print()"
   ]
  },
  {
   "cell_type": "code",
   "execution_count": null,
   "id": "f9760de8",
   "metadata": {},
   "outputs": [],
   "source": []
  },
  {
   "cell_type": "code",
   "execution_count": null,
   "id": "1dd92f5c",
   "metadata": {},
   "outputs": [],
   "source": []
  },
  {
   "cell_type": "code",
   "execution_count": null,
   "id": "e565d037",
   "metadata": {},
   "outputs": [],
   "source": []
  },
  {
   "cell_type": "code",
   "execution_count": 33,
   "id": "909dfbcd",
   "metadata": {},
   "outputs": [],
   "source": [
    "session.close()\n",
    "driver.close()"
   ]
  },
  {
   "cell_type": "code",
   "execution_count": null,
   "id": "4c8706c5",
   "metadata": {},
   "outputs": [],
   "source": []
  }
 ],
 "metadata": {
  "kernelspec": {
   "display_name": "Python 3 (ipykernel)",
   "language": "python",
   "name": "python3"
  },
  "language_info": {
   "codemirror_mode": {
    "name": "ipython",
    "version": 3
   },
   "file_extension": ".py",
   "mimetype": "text/x-python",
   "name": "python",
   "nbconvert_exporter": "python",
   "pygments_lexer": "ipython3",
   "version": "3.7.16"
  }
 },
 "nbformat": 4,
 "nbformat_minor": 5
}
