{
 "cells": [
  {
   "cell_type": "markdown",
   "id": "74fed23a",
   "metadata": {},
   "source": [
    "## Importing libraries"
   ]
  },
  {
   "cell_type": "code",
   "execution_count": 1,
   "id": "65dbbfc1",
   "metadata": {},
   "outputs": [
    {
     "name": "stderr",
     "output_type": "stream",
     "text": [
      "C:\\Users\\olivi\\anaconda3\\envs\\Py_env\\lib\\site-packages\\tqdm\\auto.py:21: TqdmWarning: IProgress not found. Please update jupyter and ipywidgets. See https://ipywidgets.readthedocs.io/en/stable/user_install.html\n",
      "  from .autonotebook import tqdm as notebook_tqdm\n"
     ]
    }
   ],
   "source": [
    "import numpy as np\n",
    "import networkx as nx\n",
    "import matplotlib.pyplot as plt\n",
    "from sklearn.neighbors import NearestNeighbors\n",
    "\n",
    "from neo4j import GraphDatabase\n",
    "from node2vec import Node2Vec\n",
    "\n",
    "%matplotlib inline"
   ]
  },
  {
   "cell_type": "markdown",
   "id": "7ca1d12e",
   "metadata": {},
   "source": [
    "## Connect to the Database"
   ]
  },
  {
   "cell_type": "code",
   "execution_count": 2,
   "id": "983cf4e0",
   "metadata": {},
   "outputs": [],
   "source": [
    "uri = \"bolt://localhost:7687\"\n",
    "username = \"neo4j\"\n",
    "password = \"OLIV00%%\"\n",
    "\n",
    "driver = GraphDatabase.driver(uri, auth=(username, password))"
   ]
  },
  {
   "cell_type": "code",
   "execution_count": 3,
   "id": "8edeb6da",
   "metadata": {},
   "outputs": [],
   "source": [
    "graph = nx.Graph()\n",
    "\n",
    "with driver.session() as session:\n",
    "    # Récupérer les nœuds avec leur nom et type\n",
    "    nodes_query = \"MATCH (n) RETURN ID(n) AS id, n.name AS name, n.type AS type\"\n",
    "    nodes_result = session.run(nodes_query)\n",
    "\n",
    "    # Parcourir les résultats et ajouter les nœuds au graphe\n",
    "    for record in nodes_result:\n",
    "        node_id = record[\"id\"]\n",
    "        node_name = record[\"name\"]\n",
    "        node_type = record[\"type\"]\n",
    "        if node_id is not None:\n",
    "            graph.add_node(node_id, name=node_name, type=node_type)\n",
    "\n",
    "    # Récupérer les relations\n",
    "    relations_query = \"MATCH ()-[r]->() RETURN ID(startNode(r)) AS source_id, ID(endNode(r)) AS target_id\"\n",
    "    relations_result = session.run(relations_query)\n",
    "\n",
    "    # Ajouter les relations entre les nœuds\n",
    "    for record in relations_result:\n",
    "        source_node_id = record[\"source_id\"]\n",
    "        target_node_id = record[\"target_id\"]\n",
    "        if source_node_id is not None and target_node_id is not None:\n",
    "            graph.add_edge(source_node_id, target_node_id)\n",
    "            \n",
    "            \n",
    "# After creating the graph and adding nodes and edges as you described\n",
    "\n",
    "#machine_state_ids = [33, 34, 35, 36,37, 38, 39]\n",
    "#component_ids = [28, 29, 30]\n",
    "\n",
    "machine_state_ids = [16, 17, 18, 19, 20, 21, 22]\n",
    "component_ids = [13, 14, 15]"
   ]
  },
  {
   "cell_type": "markdown",
   "id": "a47e4a68",
   "metadata": {},
   "source": [
    "## CN2D"
   ]
  },
  {
   "cell_type": "code",
   "execution_count": 4,
   "id": "72ab4d79",
   "metadata": {},
   "outputs": [],
   "source": [
    "def common_neighbors(graph, node1, node2):\n",
    "    neighbors1 = set(graph.neighbors(node1))\n",
    "    neighbors2 = set(graph.neighbors(node2))\n",
    "    return neighbors1.intersection(neighbors2)\n",
    "\n",
    "def resource_distribution_metric(graph, node1, node2, common_neighbors):\n",
    "    max_degree = max(graph.degree[node1], graph.degree[node2])\n",
    "    return sum(1 / max_degree for node in common_neighbors)\n",
    "\n",
    "def link_prediction(graph, node_pairs, beta):\n",
    "    predictions = {}\n",
    "    for node_pair in node_pairs:\n",
    "        node1, node2 = node_pair\n",
    "        neighbors1 = set(graph.neighbors(node1))\n",
    "        neighbors2 = set(graph.neighbors(node2))\n",
    "        common_neighbors_set = neighbors1.intersection(neighbors2)\n",
    "\n",
    "        resource_metric = 0\n",
    "        for z in common_neighbors_set:\n",
    "            resource_metric += 1 / max(len(neighbors1), len(neighbors2)) * len(set(graph.neighbors(z)))\n",
    "\n",
    "        if (node1, node2) not in predictions:\n",
    "            predictions[(node1, node2)] = len(common_neighbors_set) + beta * resource_metric\n",
    "        else:\n",
    "            predictions[(node1, node2)] += beta * resource_metric\n",
    "\n",
    "    return predictions"
   ]
  },
  {
   "cell_type": "markdown",
   "id": "fbc25c47",
   "metadata": {},
   "source": [
    "## Splited Graph Plot"
   ]
  },
  {
   "cell_type": "code",
   "execution_count": 5,
   "id": "2dfbdc6f",
   "metadata": {},
   "outputs": [
    {
     "data": {
      "image/png": "[encoded data removed]",
      "text/plain": [
       "<Figure size 640x480 with 1 Axes>"
      ]
     },
     "metadata": {},
     "output_type": "display_data"
    }
   ],
   "source": [
    "# Create a layout for visualization (e.g., circular layout)\n",
    "pos = nx.spring_layout(graph)\n",
    "\n",
    "# Draw nodes with labels and node properties\n",
    "node_labels = {node_id: f\"{node_id}\\n{node_data}\" for node_id, node_data in graph.nodes(data=True)}\n",
    "nx.draw(graph, pos, with_labels=True, node_size=150, node_color=\"skyblue\", font_size=10)\n",
    "\n",
    "# Draw edges with edge properties\n",
    "edge_labels = {(u, v): data for u, v, data in graph.edges(data=True)}\n",
    "nx.draw_networkx_edge_labels(graph, pos, edge_labels=edge_labels, font_size=8)\n",
    "\n",
    "# Display the graph\n",
    "plt.show()"
   ]
  },
  {
   "cell_type": "code",
   "execution_count": 6,
   "id": "529f6131",
   "metadata": {},
   "outputs": [
    {
     "name": "stdout",
     "output_type": "stream",
     "text": [
      "Link Prediction Score for nodes 'Pump' and 'Normal': 0.0\n",
      "Link Prediction Score for nodes 'Pump' and 'Imbalance': 0.0\n",
      "Link Prediction Score for nodes 'Pump' and 'Structural fault': 0.0\n",
      "Link Prediction Score for nodes 'Pump' and 'Misalignment': 0.0\n",
      "Link Prediction Score for nodes 'Pump' and 'looseness': 0.0\n",
      "Link Prediction Score for nodes 'Pump' and 'Bearing Fault': 0.0\n",
      "Link Prediction Score for nodes 'Pump' and 'Gear Fault': 0.0\n",
      "Link Prediction Score for nodes 'Fan' and 'Normal': 0.0\n",
      "Link Prediction Score for nodes 'Fan' and 'Imbalance': 0.0\n",
      "Link Prediction Score for nodes 'Fan' and 'Structural fault': 0.0\n",
      "Link Prediction Score for nodes 'Fan' and 'Misalignment': 0.0\n",
      "Link Prediction Score for nodes 'Fan' and 'looseness': 0.0\n",
      "Link Prediction Score for nodes 'Fan' and 'Bearing Fault': 0.0\n",
      "Link Prediction Score for nodes 'Fan' and 'Gear Fault': 0.0\n",
      "Link Prediction Score for nodes 'Engine' and 'Normal': 0.0\n",
      "Link Prediction Score for nodes 'Engine' and 'Imbalance': 0.0\n",
      "Link Prediction Score for nodes 'Engine' and 'Structural fault': 0.0\n",
      "Link Prediction Score for nodes 'Engine' and 'Misalignment': 0.0\n",
      "Link Prediction Score for nodes 'Engine' and 'looseness': 0.0\n",
      "Link Prediction Score for nodes 'Engine' and 'Bearing Fault': 0.0\n",
      "Link Prediction Score for nodes 'Engine' and 'Gear Fault': 0.0\n"
     ]
    }
   ],
   "source": [
    "edges = graph.edges()\n",
    "\n",
    "# Extract the unique nodes from the edges\n",
    "nodes = set(node for edge in edges for node in edge)\n",
    "\n",
    "# Generate all possible node pairs\n",
    "node_pairs = [(node1, node2) for node1 in component_ids for node2 in machine_state_ids if node1 != node2]\n",
    "\n",
    "# Assuming you have already created the 'graph' and 'node_pairs' variables\n",
    "beta = 0.5\n",
    "predictions = link_prediction(graph, node_pairs, beta)    \n",
    "    \n",
    "# Create a mapping of node IDs to their names\n",
    "node_id_to_name = {node_id: graph.nodes[node_id]['name'] for node_id in graph.nodes()}\n",
    "\n",
    "# Print the link predictions in descending order with node names\n",
    "sorted_predictions = sorted(predictions.items(), key=lambda x: x[1], reverse=True)\n",
    "for (node1, node2), score in sorted_predictions:\n",
    "    node1_name = node_id_to_name[node1]\n",
    "    node2_name = node_id_to_name[node2]\n",
    "    print(f\"Link Prediction Score for nodes '{node1_name}' and '{node2_name}': {score}\")"
   ]
  },
  {
   "cell_type": "markdown",
   "id": "2bab5a2d",
   "metadata": {},
   "source": [
    "## Katz index"
   ]
  },
  {
   "cell_type": "code",
   "execution_count": 7,
   "id": "7ca5c4b4",
   "metadata": {},
   "outputs": [
    {
     "name": "stdout",
     "output_type": "stream",
     "text": [
      "Katz index for link between nodes 'Pump' and 'Normal': 0\n",
      "Katz index for link between nodes 'Pump' and 'Imbalance': 0\n",
      "Katz index for link between nodes 'Pump' and 'Structural fault': 0\n",
      "Katz index for link between nodes 'Pump' and 'Misalignment': 0\n",
      "Katz index for link between nodes 'Pump' and 'looseness': 0\n",
      "Katz index for link between nodes 'Pump' and 'Bearing Fault': 0\n",
      "Katz index for link between nodes 'Pump' and 'Gear Fault': 0\n",
      "Katz index for link between nodes 'Fan' and 'Normal': 0\n",
      "Katz index for link between nodes 'Fan' and 'Imbalance': 0\n",
      "Katz index for link between nodes 'Fan' and 'Structural fault': 0\n",
      "Katz index for link between nodes 'Fan' and 'Misalignment': 0\n",
      "Katz index for link between nodes 'Fan' and 'looseness': 0\n",
      "Katz index for link between nodes 'Fan' and 'Bearing Fault': 0\n",
      "Katz index for link between nodes 'Fan' and 'Gear Fault': 0\n",
      "Katz index for link between nodes 'Engine' and 'Normal': 0\n",
      "Katz index for link between nodes 'Engine' and 'Imbalance': 0\n",
      "Katz index for link between nodes 'Engine' and 'Structural fault': 0\n",
      "Katz index for link between nodes 'Engine' and 'Misalignment': 0\n",
      "Katz index for link between nodes 'Engine' and 'looseness': 0\n",
      "Katz index for link between nodes 'Engine' and 'Bearing Fault': 0\n",
      "Katz index for link between nodes 'Engine' and 'Gear Fault': 0\n"
     ]
    }
   ],
   "source": [
    "def katz_index(graph, beta=0.1, max_path_length=4):\n",
    "    katz_scores = {}\n",
    "\n",
    "    for node1 in component_ids:\n",
    "        for node2 in machine_state_ids:\n",
    "            if node1 == node2 or graph.has_edge(node1, node2):\n",
    "                continue\n",
    "\n",
    "            # Calculate the common neighbors of node1 and node2\n",
    "            common_neighbors = set(graph.neighbors(node1)).intersection(graph.neighbors(node2))\n",
    "\n",
    "            # Calculate the Katz index for the node pair (node1, node2)\n",
    "            katz_score = 0\n",
    "            for common_neighbor in common_neighbors:\n",
    "                for path_length in range(1, max_path_length + 1):\n",
    "                    katz_score += (beta ** path_length) * nx.shortest_path_length(graph, source=common_neighbor, target=node1) * nx.shortest_path_length(graph, source=common_neighbor, target=node2)\n",
    "\n",
    "            katz_scores[(node1, node2)] = katz_score\n",
    "\n",
    "    return katz_scores\n",
    "\n",
    "\n",
    "# Assuming you already have the 'graph' variable containing your graph data\n",
    "beta = 0.1\n",
    "max_path_length = 4\n",
    "predictions = katz_index(graph, beta, max_path_length)\n",
    "\n",
    "# Create a mapping of node IDs to their names\n",
    "node_id_to_name = {node_id: graph.nodes[node_id]['name'] for node_id in graph.nodes()}\n",
    "\n",
    "# Print the link predictions in descending order with node names\n",
    "sorted_predictions = sorted(predictions.items(), key=lambda x: x[1], reverse=True)\n",
    "for (node1, node2), score in sorted_predictions:\n",
    "    node1_name = node_id_to_name[node1]\n",
    "    node2_name = node_id_to_name[node2]\n",
    "    print(f\"Katz index for link between nodes '{node1_name}' and '{node2_name}': {score}\")"
   ]
  },
  {
   "cell_type": "markdown",
   "id": "74e1c2a4",
   "metadata": {},
   "source": [
    "## Local Path Index"
   ]
  },
  {
   "cell_type": "code",
   "execution_count": 8,
   "id": "674972e6",
   "metadata": {},
   "outputs": [
    {
     "name": "stdout",
     "output_type": "stream",
     "text": [
      "Katz index for link between nodes 'Pump' and 'Normal': 0.0\n",
      "Katz index for link between nodes 'Pump' and 'Imbalance': 0.0\n",
      "Katz index for link between nodes 'Pump' and 'Structural fault': 0.0\n",
      "Katz index for link between nodes 'Pump' and 'Misalignment': 0.0\n",
      "Katz index for link between nodes 'Pump' and 'looseness': 0.0\n",
      "Katz index for link between nodes 'Pump' and 'Bearing Fault': 0.0\n",
      "Katz index for link between nodes 'Pump' and 'Gear Fault': 0.0\n",
      "Katz index for link between nodes 'Fan' and 'Normal': 0.0\n",
      "Katz index for link between nodes 'Fan' and 'Imbalance': 0.0\n",
      "Katz index for link between nodes 'Fan' and 'Structural fault': 0.0\n",
      "Katz index for link between nodes 'Fan' and 'Misalignment': 0.0\n",
      "Katz index for link between nodes 'Fan' and 'looseness': 0.0\n",
      "Katz index for link between nodes 'Fan' and 'Bearing Fault': 0.0\n",
      "Katz index for link between nodes 'Fan' and 'Gear Fault': 0.0\n",
      "Katz index for link between nodes 'Engine' and 'Normal': 0.0\n",
      "Katz index for link between nodes 'Engine' and 'Imbalance': 0.0\n",
      "Katz index for link between nodes 'Engine' and 'Structural fault': 0.0\n",
      "Katz index for link between nodes 'Engine' and 'Misalignment': 0.0\n",
      "Katz index for link between nodes 'Engine' and 'looseness': 0.0\n",
      "Katz index for link between nodes 'Engine' and 'Bearing Fault': 0.0\n",
      "Katz index for link between nodes 'Engine' and 'Gear Fault': 0.0\n"
     ]
    }
   ],
   "source": [
    "def local_path_index(graph, node_pairs, epsilon, path_length):\n",
    "    adjacency_matrix = nx.adjacency_matrix(graph).todense()\n",
    "\n",
    "    # Compute the powers of the adjacency matrix up to path_length\n",
    "    powers_of_A = [adjacency_matrix]\n",
    "    for i in range(1, path_length):\n",
    "        powers_of_A.append(adjacency_matrix.dot(powers_of_A[-1]))\n",
    "\n",
    "    # Calculate the Local Path Index for each node pair\n",
    "    predictions = {}\n",
    "    for node1, node2 in node_pairs:\n",
    "        lpi = 0\n",
    "        for i in range(path_length):\n",
    "            lpi += epsilon**i * powers_of_A[i][node1, node2]\n",
    "        predictions[(node1, node2)] = lpi\n",
    "\n",
    "    return predictions\n",
    "\n",
    "node_pairs = [(node1, node2) for node1 in component_ids for node2 in machine_state_ids if node1 != node2]\n",
    "\n",
    "epsilon = 0.1\n",
    "path_length = 5\n",
    "predictions = local_path_index(graph, node_pairs, epsilon, path_length)\n",
    "\n",
    "# Print the link predictions in descending order with node names\n",
    "sorted_predictions = sorted(predictions.items(), key=lambda x: x[1], reverse=True)\n",
    "for (node1, node2), score in sorted_predictions:\n",
    "    node1_name = node_id_to_name[node1]\n",
    "    node2_name = node_id_to_name[node2]\n",
    "    print(f\"Katz index for link between nodes '{node1_name}' and '{node2_name}': {score}\")"
   ]
  },
  {
   "cell_type": "markdown",
   "id": "72824fb8",
   "metadata": {},
   "source": [
    "## Classification Using Link Prediction (CULP)"
   ]
  },
  {
   "cell_type": "code",
   "execution_count": 11,
   "id": "410efdfb",
   "metadata": {},
   "outputs": [],
   "source": [
    "# Algorithm 1: Undirected kNN conversion function\n",
    "def KNN_CONVERT(X, s, k):\n",
    "    E = set()\n",
    "    n = X.shape[0]\n",
    "\n",
    "    for i in range(n):\n",
    "        knn_indices = np.argsort(-s[i])[:k]\n",
    "        for j in knn_indices:\n",
    "            if i != j:\n",
    "                E.add((i, j))\n",
    "                E.add((j, i))  # Since it is undirected\n",
    "\n",
    "    return E\n",
    "\n",
    "\n",
    "# Algorithm 2: LEG construction function\n",
    "def LEG(X_l, X_u, y, s, k):\n",
    "    X = np.vstack((X_l, X_u))\n",
    "    n, m = X_l.shape[0], X_u.shape[0]\n",
    "    C = len(np.unique(y))\n",
    "\n",
    "    Vl = set(range(1, n + 1))\n",
    "    Vu = set(range(n + 1, n + m + 1))\n",
    "    Vc = set(range(n + m + 1, n + m + C + 1))\n",
    "\n",
    "    Ec = {(i, n + m + y[i]) for i in range(n)}\n",
    "    Es = KNN_CONVERT(X_l, s, k)\n",
    "\n",
    "    V = Vl.union(Vu).union(Vc)\n",
    "    E = Es.union(Ec)\n",
    "\n",
    "    return V, E\n",
    "\n",
    "\n",
    "# Algorithm 3: CULP Algorithm\n",
    "def CULP(X_l, X_u, y, s, k, lam):\n",
    "    G_V, G_E = LEG(X_l, X_u, y, s, k)\n",
    "\n",
    "    n, m = X_l.shape[0], X_u.shape[0]\n",
    "    y_hat = {}\n",
    "\n",
    "    for i in range(n + 1, n + m + 1):\n",
    "        j_star = np.argmax([lam[i, j] for j in range(n + m + 1, n + m + len(np.unique(y)) + 1)])\n",
    "        y_hat[i] = j_star - (n + m)\n",
    "\n",
    "    return y_hat\n"
   ]
  },
  {
   "cell_type": "code",
   "execution_count": 13,
   "id": "4fca7cba",
   "metadata": {},
   "outputs": [
    {
     "name": "stdout",
     "output_type": "stream",
     "text": [
      "KNN_CONVERT Result:\n",
      "{(1, 3), (2, 6), (3, 1), (6, 0), (0, 6), (1, 5), (6, 2), (0, 5), (2, 0), (5, 0), (5, 1), (0, 2)}\n",
      "\n",
      "LEG Result:\n",
      "Nodes: {1, 2, 3, 4, 5, 6, 7, 8, 9, 10, 11}\n",
      "Edges: {(4, 10), (1, 3), (2, 6), (2, 8), (6, 0), (6, 2), (0, 5), (3, 9), (1, 9), (5, 1), (0, 8), (5, 3), (3, 5), (3, 1), (6, 3), (0, 6), (1, 5), (2, 0), (5, 0), (3, 6), (4, 3), (3, 4), (0, 2)}\n"
     ]
    },
    {
     "ename": "IndexError",
     "evalue": "index 11 is out of bounds for axis 1 with size 11",
     "output_type": "error",
     "traceback": [
      "\u001b[1;31m---------------------------------------------------------------------------\u001b[0m",
      "\u001b[1;31mIndexError\u001b[0m                                Traceback (most recent call last)",
      "\u001b[1;32m~\\AppData\\Local\\Temp\\ipykernel_7676\\391791022.py\u001b[0m in \u001b[0;36m<module>\u001b[1;34m\u001b[0m\n\u001b[0;32m     19\u001b[0m \u001b[1;33m\u001b[0m\u001b[0m\n\u001b[0;32m     20\u001b[0m \u001b[1;31m# Test CULP\u001b[0m\u001b[1;33m\u001b[0m\u001b[1;33m\u001b[0m\u001b[1;33m\u001b[0m\u001b[0m\n\u001b[1;32m---> 21\u001b[1;33m \u001b[0my_hat\u001b[0m \u001b[1;33m=\u001b[0m \u001b[0mCULP\u001b[0m\u001b[1;33m(\u001b[0m\u001b[0mX_l\u001b[0m\u001b[1;33m,\u001b[0m \u001b[0mX_u\u001b[0m\u001b[1;33m,\u001b[0m \u001b[0my\u001b[0m\u001b[1;33m,\u001b[0m \u001b[0ms\u001b[0m\u001b[1;33m,\u001b[0m \u001b[0mk\u001b[0m\u001b[1;33m,\u001b[0m \u001b[0mlam\u001b[0m\u001b[1;33m)\u001b[0m\u001b[1;33m\u001b[0m\u001b[1;33m\u001b[0m\u001b[0m\n\u001b[0m\u001b[0;32m     22\u001b[0m \u001b[0mprint\u001b[0m\u001b[1;33m(\u001b[0m\u001b[1;34m\"\\nCULP Result:\"\u001b[0m\u001b[1;33m)\u001b[0m\u001b[1;33m\u001b[0m\u001b[1;33m\u001b[0m\u001b[0m\n\u001b[0;32m     23\u001b[0m \u001b[0mprint\u001b[0m\u001b[1;33m(\u001b[0m\u001b[1;34m\"Predicted labels:\"\u001b[0m\u001b[1;33m,\u001b[0m \u001b[0my_hat\u001b[0m\u001b[1;33m)\u001b[0m\u001b[1;33m\u001b[0m\u001b[1;33m\u001b[0m\u001b[0m\n",
      "\u001b[1;32m~\\AppData\\Local\\Temp\\ipykernel_7676\\3293343673.py\u001b[0m in \u001b[0;36mCULP\u001b[1;34m(X_l, X_u, y, s, k, lam)\u001b[0m\n\u001b[0;32m     41\u001b[0m \u001b[1;33m\u001b[0m\u001b[0m\n\u001b[0;32m     42\u001b[0m     \u001b[1;32mfor\u001b[0m \u001b[0mi\u001b[0m \u001b[1;32min\u001b[0m \u001b[0mrange\u001b[0m\u001b[1;33m(\u001b[0m\u001b[0mn\u001b[0m \u001b[1;33m+\u001b[0m \u001b[1;36m1\u001b[0m\u001b[1;33m,\u001b[0m \u001b[0mn\u001b[0m \u001b[1;33m+\u001b[0m \u001b[0mm\u001b[0m \u001b[1;33m+\u001b[0m \u001b[1;36m1\u001b[0m\u001b[1;33m)\u001b[0m\u001b[1;33m:\u001b[0m\u001b[1;33m\u001b[0m\u001b[1;33m\u001b[0m\u001b[0m\n\u001b[1;32m---> 43\u001b[1;33m         \u001b[0mj_star\u001b[0m \u001b[1;33m=\u001b[0m \u001b[0mnp\u001b[0m\u001b[1;33m.\u001b[0m\u001b[0margmax\u001b[0m\u001b[1;33m(\u001b[0m\u001b[1;33m[\u001b[0m\u001b[0mlam\u001b[0m\u001b[1;33m[\u001b[0m\u001b[0mi\u001b[0m\u001b[1;33m,\u001b[0m \u001b[0mj\u001b[0m\u001b[1;33m]\u001b[0m \u001b[1;32mfor\u001b[0m \u001b[0mj\u001b[0m \u001b[1;32min\u001b[0m \u001b[0mrange\u001b[0m\u001b[1;33m(\u001b[0m\u001b[0mn\u001b[0m \u001b[1;33m+\u001b[0m \u001b[0mm\u001b[0m \u001b[1;33m+\u001b[0m \u001b[1;36m1\u001b[0m\u001b[1;33m,\u001b[0m \u001b[0mn\u001b[0m \u001b[1;33m+\u001b[0m \u001b[0mm\u001b[0m \u001b[1;33m+\u001b[0m \u001b[0mlen\u001b[0m\u001b[1;33m(\u001b[0m\u001b[0mnp\u001b[0m\u001b[1;33m.\u001b[0m\u001b[0munique\u001b[0m\u001b[1;33m(\u001b[0m\u001b[0my\u001b[0m\u001b[1;33m)\u001b[0m\u001b[1;33m)\u001b[0m \u001b[1;33m+\u001b[0m \u001b[1;36m1\u001b[0m\u001b[1;33m)\u001b[0m\u001b[1;33m]\u001b[0m\u001b[1;33m)\u001b[0m\u001b[1;33m\u001b[0m\u001b[1;33m\u001b[0m\u001b[0m\n\u001b[0m\u001b[0;32m     44\u001b[0m         \u001b[0my_hat\u001b[0m\u001b[1;33m[\u001b[0m\u001b[0mi\u001b[0m\u001b[1;33m]\u001b[0m \u001b[1;33m=\u001b[0m \u001b[0mj_star\u001b[0m \u001b[1;33m-\u001b[0m \u001b[1;33m(\u001b[0m\u001b[0mn\u001b[0m \u001b[1;33m+\u001b[0m \u001b[0mm\u001b[0m\u001b[1;33m)\u001b[0m\u001b[1;33m\u001b[0m\u001b[1;33m\u001b[0m\u001b[0m\n\u001b[0;32m     45\u001b[0m \u001b[1;33m\u001b[0m\u001b[0m\n",
      "\u001b[1;32m~\\AppData\\Local\\Temp\\ipykernel_7676\\3293343673.py\u001b[0m in \u001b[0;36m<listcomp>\u001b[1;34m(.0)\u001b[0m\n\u001b[0;32m     41\u001b[0m \u001b[1;33m\u001b[0m\u001b[0m\n\u001b[0;32m     42\u001b[0m     \u001b[1;32mfor\u001b[0m \u001b[0mi\u001b[0m \u001b[1;32min\u001b[0m \u001b[0mrange\u001b[0m\u001b[1;33m(\u001b[0m\u001b[0mn\u001b[0m \u001b[1;33m+\u001b[0m \u001b[1;36m1\u001b[0m\u001b[1;33m,\u001b[0m \u001b[0mn\u001b[0m \u001b[1;33m+\u001b[0m \u001b[0mm\u001b[0m \u001b[1;33m+\u001b[0m \u001b[1;36m1\u001b[0m\u001b[1;33m)\u001b[0m\u001b[1;33m:\u001b[0m\u001b[1;33m\u001b[0m\u001b[1;33m\u001b[0m\u001b[0m\n\u001b[1;32m---> 43\u001b[1;33m         \u001b[0mj_star\u001b[0m \u001b[1;33m=\u001b[0m \u001b[0mnp\u001b[0m\u001b[1;33m.\u001b[0m\u001b[0margmax\u001b[0m\u001b[1;33m(\u001b[0m\u001b[1;33m[\u001b[0m\u001b[0mlam\u001b[0m\u001b[1;33m[\u001b[0m\u001b[0mi\u001b[0m\u001b[1;33m,\u001b[0m \u001b[0mj\u001b[0m\u001b[1;33m]\u001b[0m \u001b[1;32mfor\u001b[0m \u001b[0mj\u001b[0m \u001b[1;32min\u001b[0m \u001b[0mrange\u001b[0m\u001b[1;33m(\u001b[0m\u001b[0mn\u001b[0m \u001b[1;33m+\u001b[0m \u001b[0mm\u001b[0m \u001b[1;33m+\u001b[0m \u001b[1;36m1\u001b[0m\u001b[1;33m,\u001b[0m \u001b[0mn\u001b[0m \u001b[1;33m+\u001b[0m \u001b[0mm\u001b[0m \u001b[1;33m+\u001b[0m \u001b[0mlen\u001b[0m\u001b[1;33m(\u001b[0m\u001b[0mnp\u001b[0m\u001b[1;33m.\u001b[0m\u001b[0munique\u001b[0m\u001b[1;33m(\u001b[0m\u001b[0my\u001b[0m\u001b[1;33m)\u001b[0m\u001b[1;33m)\u001b[0m \u001b[1;33m+\u001b[0m \u001b[1;36m1\u001b[0m\u001b[1;33m)\u001b[0m\u001b[1;33m]\u001b[0m\u001b[1;33m)\u001b[0m\u001b[1;33m\u001b[0m\u001b[1;33m\u001b[0m\u001b[0m\n\u001b[0m\u001b[0;32m     44\u001b[0m         \u001b[0my_hat\u001b[0m\u001b[1;33m[\u001b[0m\u001b[0mi\u001b[0m\u001b[1;33m]\u001b[0m \u001b[1;33m=\u001b[0m \u001b[0mj_star\u001b[0m \u001b[1;33m-\u001b[0m \u001b[1;33m(\u001b[0m\u001b[0mn\u001b[0m \u001b[1;33m+\u001b[0m \u001b[0mm\u001b[0m\u001b[1;33m)\u001b[0m\u001b[1;33m\u001b[0m\u001b[1;33m\u001b[0m\u001b[0m\n\u001b[0;32m     45\u001b[0m \u001b[1;33m\u001b[0m\u001b[0m\n",
      "\u001b[1;31mIndexError\u001b[0m: index 11 is out of bounds for axis 1 with size 11"
     ]
    }
   ],
   "source": [
    "# Data example\n",
    "X_l = np.random.rand(5, 2)  # Labeled data (5 samples, 2 features)\n",
    "X_u = np.random.rand(3, 2)  # Unlabeled data (3 samples, 2 features)\n",
    "y = np.array([0, 1, 0, 1, 2])  # Labels for labeled data\n",
    "s = np.random.rand(8, 8)  # Similarity matrix (8 samples)\n",
    "lam = np.random.rand(8, 8 + len(np.unique(y)))  # Weight matrix\n",
    "\n",
    "# Test KNN_CONVERT\n",
    "k = 2\n",
    "E_knn = KNN_CONVERT(X_u, s, k)  # Using X_u for testing KNN_CONVERT\n",
    "print(\"KNN_CONVERT Result:\")\n",
    "print(E_knn)\n",
    "\n",
    "# Test LEG\n",
    "V_leg, E_leg = LEG(X_l, X_u, y, s, k)\n",
    "print(\"\\nLEG Result:\")\n",
    "print(\"Nodes:\", V_leg)\n",
    "print(\"Edges:\", E_leg)\n",
    "\n",
    "# Test CULP\n",
    "y_hat = CULP(X_l, X_u, y, s, k, lam)\n",
    "print(\"\\nCULP Result:\")\n",
    "print(\"Predicted labels:\", y_hat)"
   ]
  },
  {
   "cell_type": "code",
   "execution_count": null,
   "id": "405f16fc",
   "metadata": {},
   "outputs": [],
   "source": []
  }
 ],
 "metadata": {
  "kernelspec": {
   "display_name": "Python 3 (ipykernel)",
   "language": "python",
   "name": "python3"
  },
  "language_info": {
   "codemirror_mode": {
    "name": "ipython",
    "version": 3
   },
   "file_extension": ".py",
   "mimetype": "text/x-python",
   "name": "python",
   "nbconvert_exporter": "python",
   "pygments_lexer": "ipython3",
   "version": "3.7.16"
  }
 },
 "nbformat": 4,
 "nbformat_minor": 5
}
