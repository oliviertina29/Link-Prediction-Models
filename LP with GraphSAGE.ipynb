{
 "cells": [
  {
   "cell_type": "code",
   "execution_count": 1,
   "id": "34350351",
   "metadata": {},
   "outputs": [],
   "source": [
    "import stellargraph as sg\n",
    "from stellargraph.data import EdgeSplitter\n",
    "from stellargraph.mapper import GraphSAGELinkGenerator\n",
    "from stellargraph.layer import GraphSAGE, HinSAGE, link_classification\n",
    "\n",
    "import networkx as nx\n",
    "from tensorflow import keras\n",
    "from sklearn import preprocessing, feature_extraction, model_selection\n",
    "\n",
    "from stellargraph import globalvar\n",
    "from stellargraph import datasets\n",
    "from IPython.display import display, HTML\n",
    "%matplotlib inline"
   ]
  },
  {
   "cell_type": "markdown",
   "id": "df17b21a",
   "metadata": {},
   "source": [
    "## Loading the CORA network data"
   ]
  },
  {
   "cell_type": "code",
   "execution_count": 2,
   "id": "234c38f3",
   "metadata": {},
   "outputs": [
    {
     "data": {
      "text/html": [
       "The Cora dataset consists of 2708 scientific publications classified into one of seven classes. The citation network consists of 5429 links. Each publication in the dataset is described by a 0/1-valued word vector indicating the absence/presence of the corresponding word from the dictionary. The dictionary consists of 1433 unique words."
      ],
      "text/plain": [
       "<IPython.core.display.HTML object>"
      ]
     },
     "metadata": {},
     "output_type": "display_data"
    }
   ],
   "source": [
    "dataset = datasets.Cora()\n",
    "display(HTML(dataset.description))\n",
    "G, _ = dataset.load(subject_as_feature=True)"
   ]
  },
  {
   "cell_type": "code",
   "execution_count": 3,
   "id": "e92c1830",
   "metadata": {},
   "outputs": [
    {
     "name": "stdout",
     "output_type": "stream",
     "text": [
      "StellarGraph: Undirected multigraph\n",
      " Nodes: 2708, Edges: 5429\n",
      "\n",
      " Node types:\n",
      "  paper: [2708]\n",
      "    Features: float32 vector, length 1440\n",
      "    Edge types: paper-cites->paper\n",
      "\n",
      " Edge types:\n",
      "    paper-cites->paper: [5429]\n",
      "        Weights: all 1 (default)\n",
      "        Features: none\n"
     ]
    }
   ],
   "source": [
    "print(G.info())"
   ]
  },
  {
   "cell_type": "code",
   "execution_count": 4,
   "id": "6e77afb6",
   "metadata": {},
   "outputs": [
    {
     "name": "stdout",
     "output_type": "stream",
     "text": [
      "** Sampled 542 positive and 542 negative edges. **\n"
     ]
    }
   ],
   "source": [
    "# Define an edge splitter on the original graph G:\n",
    "edge_splitter_test = EdgeSplitter(G)\n",
    "\n",
    "# Randomly sample a fraction p=0.1 of all positive links, and same number of negative links, from G, and obtain the\n",
    "# reduced graph G_test with the sampled links removed:\n",
    "G_test, edge_ids_test, edge_labels_test = edge_splitter_test.train_test_split(\n",
    "    p=0.1, method=\"global\", keep_connected=True\n",
    ")"
   ]
  },
  {
   "cell_type": "code",
   "execution_count": 5,
   "id": "416a72eb",
   "metadata": {},
   "outputs": [
    {
     "name": "stdout",
     "output_type": "stream",
     "text": [
      "** Sampled 488 positive and 488 negative edges. **\n"
     ]
    }
   ],
   "source": [
    "# Define an edge splitter on the reduced graph G_test:\n",
    "edge_splitter_train = EdgeSplitter(G_test)\n",
    "\n",
    "# Randomly sample a fraction p=0.1 of all positive links, and same number of negative links, from G_test, and obtain the\n",
    "# reduced graph G_train with the sampled links removed:\n",
    "G_train, edge_ids_train, edge_labels_train = edge_splitter_train.train_test_split(\n",
    "    p=0.1, method=\"global\", keep_connected=True\n",
    ")"
   ]
  },
  {
   "cell_type": "code",
   "execution_count": 6,
   "id": "5f8ef7ec",
   "metadata": {},
   "outputs": [
    {
     "name": "stdout",
     "output_type": "stream",
     "text": [
      "StellarGraph: Undirected multigraph\n",
      " Nodes: 2708, Edges: 4399\n",
      "\n",
      " Node types:\n",
      "  paper: [2708]\n",
      "    Features: float32 vector, length 1440\n",
      "    Edge types: paper-cites->paper\n",
      "\n",
      " Edge types:\n",
      "    paper-cites->paper: [4399]\n",
      "        Weights: all 1 (default)\n",
      "        Features: none\n"
     ]
    }
   ],
   "source": [
    "print(G_train.info())"
   ]
  },
  {
   "cell_type": "code",
   "execution_count": 7,
   "id": "1aa98723",
   "metadata": {},
   "outputs": [
    {
     "name": "stdout",
     "output_type": "stream",
     "text": [
      "StellarGraph: Undirected multigraph\n",
      " Nodes: 2708, Edges: 4887\n",
      "\n",
      " Node types:\n",
      "  paper: [2708]\n",
      "    Features: float32 vector, length 1440\n",
      "    Edge types: paper-cites->paper\n",
      "\n",
      " Edge types:\n",
      "    paper-cites->paper: [4887]\n",
      "        Weights: all 1 (default)\n",
      "        Features: none\n"
     ]
    }
   ],
   "source": [
    "print(G_test.info())"
   ]
  },
  {
   "cell_type": "code",
   "execution_count": 8,
   "id": "6e357bf4",
   "metadata": {},
   "outputs": [],
   "source": [
    "# parameters definition\n",
    "\n",
    "batch_size = 20\n",
    "epochs = 20\n",
    "\n",
    "num_samples = [20, 10]"
   ]
  },
  {
   "cell_type": "code",
   "execution_count": 9,
   "id": "37cea172",
   "metadata": {},
   "outputs": [],
   "source": [
    "train_gen = GraphSAGELinkGenerator(G_train, batch_size, num_samples)\n",
    "train_flow = train_gen.flow(edge_ids_train, edge_labels_train, shuffle=True)"
   ]
  },
  {
   "cell_type": "code",
   "execution_count": 10,
   "id": "8e9e6ee2",
   "metadata": {},
   "outputs": [],
   "source": [
    "test_gen = GraphSAGELinkGenerator(G_test, batch_size, num_samples)\n",
    "test_flow = test_gen.flow(edge_ids_test, edge_labels_test)"
   ]
  },
  {
   "cell_type": "code",
   "execution_count": 11,
   "id": "69927a1c",
   "metadata": {},
   "outputs": [],
   "source": [
    "layer_sizes = [20, 20]\n",
    "graphsage = GraphSAGE(\n",
    "    layer_sizes=layer_sizes, generator=train_gen, bias=True, dropout=0.3\n",
    ")"
   ]
  },
  {
   "cell_type": "code",
   "execution_count": 12,
   "id": "5e98dca7",
   "metadata": {},
   "outputs": [
    {
     "name": "stderr",
     "output_type": "stream",
     "text": [
      "C:\\Users\\olivi\\anaconda3\\envs\\Py_env\\lib\\site-packages\\keras\\initializers\\initializers_v2.py:121: UserWarning: The initializer GlorotUniform is unseeded and being called multiple times, which will return identical values  each time (even if the initializer is unseeded). Please update your code to provide a seed to the initializer, or avoid using the same initalizer instance more than once.\n",
      "  f\"The initializer {self.__class__.__name__} is unseeded \"\n"
     ]
    }
   ],
   "source": [
    "# Build the model and expose input and output sockets of graphsage model\n",
    "# for link prediction\n",
    "x_inp, x_out = graphsage.in_out_tensors()"
   ]
  },
  {
   "cell_type": "code",
   "execution_count": 13,
   "id": "143fa37a",
   "metadata": {},
   "outputs": [
    {
     "name": "stdout",
     "output_type": "stream",
     "text": [
      "link_classification: using 'ip' method to combine node embeddings into edge embeddings\n"
     ]
    }
   ],
   "source": [
    "prediction = link_classification(\n",
    "    output_dim=1, output_act=\"relu\", edge_embedding_method=\"ip\"\n",
    ")(x_out)"
   ]
  },
  {
   "cell_type": "markdown",
   "id": "69bb2db5",
   "metadata": {},
   "source": [
    "## Stack the GraphSAGE and prediction layers into a Keras model, and specify the loss"
   ]
  },
  {
   "cell_type": "code",
   "execution_count": 14,
   "id": "fed28dc9",
   "metadata": {},
   "outputs": [],
   "source": [
    "model = keras.Model(inputs=x_inp, outputs=prediction)\n",
    "\n",
    "model.compile(\n",
    "    optimizer=keras.optimizers.Adam(learning_rate=1e-3),\n",
    "    loss=keras.losses.binary_crossentropy,\n",
    "    metrics=[\"acc\"],\n",
    ")"
   ]
  },
  {
   "cell_type": "markdown",
   "id": "905ba8a6",
   "metadata": {},
   "source": [
    "## Evaluate the initial (untrained) model on the train and test set"
   ]
  },
  {
   "cell_type": "code",
   "execution_count": 15,
   "id": "d6bb8a16",
   "metadata": {},
   "outputs": [
    {
     "name": "stdout",
     "output_type": "stream",
     "text": [
      "49/49 [==============================] - 5s 71ms/step - loss: 0.9853 - acc: 0.5953\n",
      "55/55 [==============================] - 4s 72ms/step - loss: 1.0144 - acc: 0.6384\n",
      "\n",
      "Train Set Metrics of the initial (untrained) model:\n",
      "\tloss: 0.9853\n",
      "\tacc: 0.5953\n",
      "\n",
      "Test Set Metrics of the initial (untrained) model:\n",
      "\tloss: 1.0144\n",
      "\tacc: 0.6384\n"
     ]
    }
   ],
   "source": [
    "init_train_metrics = model.evaluate(train_flow)\n",
    "init_test_metrics = model.evaluate(test_flow)\n",
    "\n",
    "print(\"\\nTrain Set Metrics of the initial (untrained) model:\")\n",
    "for name, val in zip(model.metrics_names, init_train_metrics):\n",
    "    print(\"\\t{}: {:0.4f}\".format(name, val))\n",
    "\n",
    "print(\"\\nTest Set Metrics of the initial (untrained) model:\")\n",
    "for name, val in zip(model.metrics_names, init_test_metrics):\n",
    "    print(\"\\t{}: {:0.4f}\".format(name, val))"
   ]
  },
  {
   "cell_type": "markdown",
   "id": "c72de04a",
   "metadata": {},
   "source": [
    "## Train the model"
   ]
  },
  {
   "cell_type": "code",
   "execution_count": 16,
   "id": "4cf393cb",
   "metadata": {},
   "outputs": [
    {
     "name": "stdout",
     "output_type": "stream",
     "text": [
      "Epoch 1/20\n",
      "49/49 - 14s - loss: 0.7598 - acc: 0.6025 - val_loss: 0.6137 - val_acc: 0.6356 - 14s/epoch - 289ms/step\n",
      "Epoch 2/20\n",
      "49/49 - 13s - loss: 0.5432 - acc: 0.7469 - val_loss: 0.5078 - val_acc: 0.7666 - 13s/epoch - 262ms/step\n",
      "Epoch 3/20\n",
      "49/49 - 14s - loss: 0.4381 - acc: 0.8258 - val_loss: 0.4498 - val_acc: 0.8026 - 14s/epoch - 286ms/step\n",
      "Epoch 4/20\n",
      "49/49 - 15s - loss: 0.3608 - acc: 0.8668 - val_loss: 0.4216 - val_acc: 0.8137 - 15s/epoch - 301ms/step\n",
      "Epoch 5/20\n",
      "49/49 - 14s - loss: 0.3178 - acc: 0.9129 - val_loss: 0.4299 - val_acc: 0.8284 - 14s/epoch - 277ms/step\n",
      "Epoch 6/20\n",
      "49/49 - 13s - loss: 0.2834 - acc: 0.9150 - val_loss: 0.4406 - val_acc: 0.8266 - 13s/epoch - 267ms/step\n",
      "Epoch 7/20\n",
      "49/49 - 14s - loss: 0.2734 - acc: 0.9385 - val_loss: 0.4427 - val_acc: 0.8303 - 14s/epoch - 285ms/step\n",
      "Epoch 8/20\n",
      "49/49 - 15s - loss: 0.2267 - acc: 0.9611 - val_loss: 0.4200 - val_acc: 0.8266 - 15s/epoch - 306ms/step\n",
      "Epoch 9/20\n",
      "49/49 - 15s - loss: 0.2293 - acc: 0.9570 - val_loss: 0.4257 - val_acc: 0.8275 - 15s/epoch - 314ms/step\n",
      "Epoch 10/20\n",
      "49/49 - 17s - loss: 0.1962 - acc: 0.9723 - val_loss: 0.4330 - val_acc: 0.8293 - 17s/epoch - 340ms/step\n",
      "Epoch 11/20\n",
      "49/49 - 14s - loss: 0.1809 - acc: 0.9764 - val_loss: 0.4510 - val_acc: 0.8229 - 14s/epoch - 289ms/step\n",
      "Epoch 12/20\n",
      "49/49 - 14s - loss: 0.1629 - acc: 0.9826 - val_loss: 0.4240 - val_acc: 0.8303 - 14s/epoch - 282ms/step\n",
      "Epoch 13/20\n",
      "49/49 - 14s - loss: 0.1572 - acc: 0.9836 - val_loss: 0.4388 - val_acc: 0.8321 - 14s/epoch - 279ms/step\n",
      "Epoch 14/20\n",
      "49/49 - 13s - loss: 0.1512 - acc: 0.9826 - val_loss: 0.4269 - val_acc: 0.8321 - 13s/epoch - 273ms/step\n",
      "Epoch 15/20\n",
      "49/49 - 15s - loss: 0.1455 - acc: 0.9887 - val_loss: 0.4379 - val_acc: 0.8284 - 15s/epoch - 300ms/step\n",
      "Epoch 16/20\n",
      "49/49 - 16s - loss: 0.1340 - acc: 0.9867 - val_loss: 0.4267 - val_acc: 0.8321 - 16s/epoch - 323ms/step\n",
      "Epoch 17/20\n",
      "49/49 - 13s - loss: 0.1244 - acc: 0.9928 - val_loss: 0.4375 - val_acc: 0.8312 - 13s/epoch - 268ms/step\n",
      "Epoch 18/20\n",
      "49/49 - 13s - loss: 0.1162 - acc: 0.9887 - val_loss: 0.4686 - val_acc: 0.8303 - 13s/epoch - 266ms/step\n",
      "Epoch 19/20\n",
      "49/49 - 15s - loss: 0.1112 - acc: 0.9949 - val_loss: 0.4827 - val_acc: 0.8330 - 15s/epoch - 313ms/step\n",
      "Epoch 20/20\n",
      "49/49 - 14s - loss: 0.1033 - acc: 0.9918 - val_loss: 0.4353 - val_acc: 0.8339 - 14s/epoch - 294ms/step\n"
     ]
    }
   ],
   "source": [
    "history = model.fit(train_flow, epochs=epochs, validation_data=test_flow, verbose=2)"
   ]
  },
  {
   "cell_type": "code",
   "execution_count": 17,
   "id": "6e0a021b",
   "metadata": {},
   "outputs": [
    {
     "data": {
      "image/png": "[encoded data removed]",
      "text/plain": [
       "<Figure size 700x800 with 2 Axes>"
      ]
     },
     "metadata": {},
     "output_type": "display_data"
    }
   ],
   "source": [
    "sg.utils.plot_history(history)"
   ]
  },
  {
   "cell_type": "markdown",
   "id": "aa3c1422",
   "metadata": {},
   "source": [
    "## Evaluate the trained model on test citation links"
   ]
  },
  {
   "cell_type": "code",
   "execution_count": 18,
   "id": "c0269736",
   "metadata": {},
   "outputs": [
    {
     "name": "stdout",
     "output_type": "stream",
     "text": [
      "49/49 [==============================] - 3s 68ms/step - loss: 0.0630 - acc: 0.9949\n",
      "55/55 [==============================] - 4s 69ms/step - loss: 0.4574 - acc: 0.8275\n",
      "\n",
      "Train Set Metrics of the trained model:\n",
      "\tloss: 0.0630\n",
      "\tacc: 0.9949\n",
      "\n",
      "Test Set Metrics of the trained model:\n",
      "\tloss: 0.4574\n",
      "\tacc: 0.8275\n"
     ]
    }
   ],
   "source": [
    "train_metrics = model.evaluate(train_flow)\n",
    "test_metrics = model.evaluate(test_flow)\n",
    "\n",
    "print(\"\\nTrain Set Metrics of the trained model:\")\n",
    "for name, val in zip(model.metrics_names, train_metrics):\n",
    "    print(\"\\t{}: {:0.4f}\".format(name, val))\n",
    "\n",
    "print(\"\\nTest Set Metrics of the trained model:\")\n",
    "for name, val in zip(model.metrics_names, test_metrics):\n",
    "    print(\"\\t{}: {:0.4f}\".format(name, val))"
   ]
  },
  {
   "cell_type": "code",
   "execution_count": null,
   "id": "9444f841",
   "metadata": {},
   "outputs": [],
   "source": []
  }
 ],
 "metadata": {
  "kernelspec": {
   "display_name": "Python 3 (ipykernel)",
   "language": "python",
   "name": "python3"
  },
  "language_info": {
   "codemirror_mode": {
    "name": "ipython",
    "version": 3
   },
   "file_extension": ".py",
   "mimetype": "text/x-python",
   "name": "python",
   "nbconvert_exporter": "python",
   "pygments_lexer": "ipython3",
   "version": "3.7.16"
  }
 },
 "nbformat": 4,
 "nbformat_minor": 5
}
