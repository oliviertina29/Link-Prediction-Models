{
 "cells": [
  {
   "cell_type": "code",
   "execution_count": 4,
   "id": "f2a7c1a4",
   "metadata": {},
   "outputs": [],
   "source": [
    "# Install TensorLy via pip if you haven't already\n",
    "# !pip install tensorly"
   ]
  },
  {
   "cell_type": "code",
   "execution_count": 3,
   "id": "6ae3839e",
   "metadata": {},
   "outputs": [
    {
     "ename": "TypeError",
     "evalue": "'>' not supported between instances of 'list' and 'int'",
     "output_type": "error",
     "traceback": [
      "\u001b[1;31m---------------------------------------------------------------------------\u001b[0m",
      "\u001b[1;31mTypeError\u001b[0m                                 Traceback (most recent call last)",
      "Cell \u001b[1;32mIn[3], line 17\u001b[0m\n\u001b[0;32m     14\u001b[0m latent_dims \u001b[38;5;241m=\u001b[39m [\u001b[38;5;241m3\u001b[39m, \u001b[38;5;241m3\u001b[39m, \u001b[38;5;241m3\u001b[39m]\n\u001b[0;32m     16\u001b[0m \u001b[38;5;66;03m# Perform tensor factorization using CP decomposition (Parafac)\u001b[39;00m\n\u001b[1;32m---> 17\u001b[0m factors \u001b[38;5;241m=\u001b[39m parafac(tensor_data, rank\u001b[38;5;241m=\u001b[39mlatent_dims)\n\u001b[0;32m     19\u001b[0m \u001b[38;5;66;03m# Factors will contain the latent representations for each mode of the tensor\u001b[39;00m\n\u001b[0;32m     20\u001b[0m factor_mode1, factor_mode2, factor_mode3 \u001b[38;5;241m=\u001b[39m factors\n",
      "File \u001b[1;32m~\\anaconda3\\Lib\\site-packages\\tensorly\\decomposition\\_cp.py:338\u001b[0m, in \u001b[0;36mparafac\u001b[1;34m(tensor, rank, n_iter_max, init, svd, normalize_factors, orthogonalise, tol, random_state, verbose, return_errors, sparsity, l2_reg, mask, cvg_criterion, fixed_modes, svd_mask_repeats, linesearch, callback)\u001b[0m\n\u001b[0;32m    335\u001b[0m     acc_fail \u001b[38;5;241m=\u001b[39m \u001b[38;5;241m0\u001b[39m  \u001b[38;5;66;03m# How many times acceleration have failed\u001b[39;00m\n\u001b[0;32m    336\u001b[0m     max_fail \u001b[38;5;241m=\u001b[39m \u001b[38;5;241m4\u001b[39m  \u001b[38;5;66;03m# Increase acc_pow with one after max_fail failure\u001b[39;00m\n\u001b[1;32m--> 338\u001b[0m weights, factors \u001b[38;5;241m=\u001b[39m initialize_cp(\n\u001b[0;32m    339\u001b[0m     tensor,\n\u001b[0;32m    340\u001b[0m     rank,\n\u001b[0;32m    341\u001b[0m     init\u001b[38;5;241m=\u001b[39minit,\n\u001b[0;32m    342\u001b[0m     svd\u001b[38;5;241m=\u001b[39msvd,\n\u001b[0;32m    343\u001b[0m     random_state\u001b[38;5;241m=\u001b[39mrandom_state,\n\u001b[0;32m    344\u001b[0m     normalize_factors\u001b[38;5;241m=\u001b[39mnormalize_factors,\n\u001b[0;32m    345\u001b[0m     mask\u001b[38;5;241m=\u001b[39mmask,\n\u001b[0;32m    346\u001b[0m     svd_mask_repeats\u001b[38;5;241m=\u001b[39msvd_mask_repeats,\n\u001b[0;32m    347\u001b[0m )\n\u001b[0;32m    349\u001b[0m rec_errors \u001b[38;5;241m=\u001b[39m []\n\u001b[0;32m    350\u001b[0m norm_tensor \u001b[38;5;241m=\u001b[39m tl\u001b[38;5;241m.\u001b[39mnorm(tensor, \u001b[38;5;241m2\u001b[39m)\n",
      "File \u001b[1;32m~\\anaconda3\\Lib\\site-packages\\tensorly\\decomposition\\_cp.py:76\u001b[0m, in \u001b[0;36minitialize_cp\u001b[1;34m(tensor, rank, init, svd, non_negative, random_state, normalize_factors, mask, svd_mask_repeats)\u001b[0m\n\u001b[0;32m     74\u001b[0m \u001b[38;5;28;01mfor\u001b[39;00m mode \u001b[38;5;129;01min\u001b[39;00m \u001b[38;5;28mrange\u001b[39m(tl\u001b[38;5;241m.\u001b[39mndim(tensor)):\n\u001b[0;32m     75\u001b[0m     mask_unfold \u001b[38;5;241m=\u001b[39m \u001b[38;5;28;01mNone\u001b[39;00m \u001b[38;5;28;01mif\u001b[39;00m mask \u001b[38;5;129;01mis\u001b[39;00m \u001b[38;5;28;01mNone\u001b[39;00m \u001b[38;5;28;01melse\u001b[39;00m unfold(mask, mode)\n\u001b[1;32m---> 76\u001b[0m     U, S, _ \u001b[38;5;241m=\u001b[39m svd_interface(\n\u001b[0;32m     77\u001b[0m         unfold(tensor, mode),\n\u001b[0;32m     78\u001b[0m         n_eigenvecs\u001b[38;5;241m=\u001b[39mrank,\n\u001b[0;32m     79\u001b[0m         method\u001b[38;5;241m=\u001b[39msvd,\n\u001b[0;32m     80\u001b[0m         non_negative\u001b[38;5;241m=\u001b[39mnon_negative,\n\u001b[0;32m     81\u001b[0m         mask\u001b[38;5;241m=\u001b[39mmask_unfold,\n\u001b[0;32m     82\u001b[0m         n_iter_mask_imputation\u001b[38;5;241m=\u001b[39msvd_mask_repeats,\n\u001b[0;32m     83\u001b[0m     )\n\u001b[0;32m     85\u001b[0m     \u001b[38;5;66;03m# Put SVD initialization on the same scaling as the tensor in case normalize_factors=False\u001b[39;00m\n\u001b[0;32m     86\u001b[0m     \u001b[38;5;28;01mif\u001b[39;00m mode \u001b[38;5;241m==\u001b[39m \u001b[38;5;241m0\u001b[39m:\n",
      "File \u001b[1;32m~\\anaconda3\\Lib\\site-packages\\tensorly\\tenalg\\svd.py:418\u001b[0m, in \u001b[0;36msvd_interface\u001b[1;34m(matrix, method, n_eigenvecs, flip_sign, u_based_flip_sign, non_negative, mask, n_iter_mask_imputation, **kwargs)\u001b[0m\n\u001b[0;32m    413\u001b[0m \u001b[38;5;28;01melse\u001b[39;00m:\n\u001b[0;32m    414\u001b[0m     \u001b[38;5;28;01mraise\u001b[39;00m \u001b[38;5;167;01mValueError\u001b[39;00m(\n\u001b[0;32m    415\u001b[0m         \u001b[38;5;124mf\u001b[39m\u001b[38;5;124m\"\u001b[39m\u001b[38;5;124mGot svd=\u001b[39m\u001b[38;5;132;01m{\u001b[39;00mmethod\u001b[38;5;132;01m}\u001b[39;00m\u001b[38;5;124m. However, the possible choices are \u001b[39m\u001b[38;5;132;01m{\u001b[39;00mSVD_FUNS\u001b[38;5;132;01m}\u001b[39;00m\u001b[38;5;124m or to pass a callable.\u001b[39m\u001b[38;5;124m\"\u001b[39m\n\u001b[0;32m    416\u001b[0m     )\n\u001b[1;32m--> 418\u001b[0m U, S, V \u001b[38;5;241m=\u001b[39m svd_fun(matrix, n_eigenvecs\u001b[38;5;241m=\u001b[39mn_eigenvecs, \u001b[38;5;241m*\u001b[39m\u001b[38;5;241m*\u001b[39mkwargs)\n\u001b[0;32m    420\u001b[0m \u001b[38;5;28;01mif\u001b[39;00m mask \u001b[38;5;129;01mis\u001b[39;00m \u001b[38;5;129;01mnot\u001b[39;00m \u001b[38;5;28;01mNone\u001b[39;00m:\n\u001b[0;32m    421\u001b[0m     \u001b[38;5;28;01mfor\u001b[39;00m _ \u001b[38;5;129;01min\u001b[39;00m \u001b[38;5;28mrange\u001b[39m(n_iter_mask_imputation):\n",
      "File \u001b[1;32m~\\anaconda3\\Lib\\site-packages\\tensorly\\tenalg\\svd.py:223\u001b[0m, in \u001b[0;36mtruncated_svd\u001b[1;34m(matrix, n_eigenvecs, **kwargs)\u001b[0m\n\u001b[0;32m    202\u001b[0m \u001b[38;5;28;01mdef\u001b[39;00m \u001b[38;5;21mtruncated_svd\u001b[39m(matrix, n_eigenvecs\u001b[38;5;241m=\u001b[39m\u001b[38;5;28;01mNone\u001b[39;00m, \u001b[38;5;241m*\u001b[39m\u001b[38;5;241m*\u001b[39mkwargs):\n\u001b[0;32m    203\u001b[0m \u001b[38;5;250m    \u001b[39m\u001b[38;5;124;03m\"\"\"Computes a truncated SVD on `matrix` using the backends's standard SVD\u001b[39;00m\n\u001b[0;32m    204\u001b[0m \n\u001b[0;32m    205\u001b[0m \u001b[38;5;124;03m    Parameters\u001b[39;00m\n\u001b[1;32m   (...)\u001b[0m\n\u001b[0;32m    221\u001b[0m \u001b[38;5;124;03m        contains the left singular vectors\u001b[39;00m\n\u001b[0;32m    222\u001b[0m \u001b[38;5;124;03m    \"\"\"\u001b[39;00m\n\u001b[1;32m--> 223\u001b[0m     n_eigenvecs, min_dim, _ \u001b[38;5;241m=\u001b[39m svd_checks(matrix, n_eigenvecs\u001b[38;5;241m=\u001b[39mn_eigenvecs)\n\u001b[0;32m    224\u001b[0m     full_matrices \u001b[38;5;241m=\u001b[39m \u001b[38;5;28;01mTrue\u001b[39;00m \u001b[38;5;28;01mif\u001b[39;00m n_eigenvecs \u001b[38;5;241m>\u001b[39m min_dim \u001b[38;5;28;01melse\u001b[39;00m \u001b[38;5;28;01mFalse\u001b[39;00m\n\u001b[0;32m    226\u001b[0m     U, S, V \u001b[38;5;241m=\u001b[39m tl\u001b[38;5;241m.\u001b[39msvd(matrix, full_matrices\u001b[38;5;241m=\u001b[39mfull_matrices)\n",
      "File \u001b[1;32m~\\anaconda3\\Lib\\site-packages\\tensorly\\tenalg\\svd.py:192\u001b[0m, in \u001b[0;36msvd_checks\u001b[1;34m(matrix, n_eigenvecs)\u001b[0m\n\u001b[0;32m    189\u001b[0m \u001b[38;5;28;01mif\u001b[39;00m n_eigenvecs \u001b[38;5;129;01mis\u001b[39;00m \u001b[38;5;28;01mNone\u001b[39;00m:\n\u001b[0;32m    190\u001b[0m     n_eigenvecs \u001b[38;5;241m=\u001b[39m max_dim\n\u001b[1;32m--> 192\u001b[0m \u001b[38;5;28;01mif\u001b[39;00m n_eigenvecs \u001b[38;5;241m>\u001b[39m max_dim:\n\u001b[0;32m    193\u001b[0m     warnings\u001b[38;5;241m.\u001b[39mwarn(\n\u001b[0;32m    194\u001b[0m         \u001b[38;5;124mf\u001b[39m\u001b[38;5;124m\"\u001b[39m\u001b[38;5;124mTrying to compute SVD with n_eigenvecs=\u001b[39m\u001b[38;5;132;01m{\u001b[39;00mn_eigenvecs\u001b[38;5;132;01m}\u001b[39;00m\u001b[38;5;124m, which is larger \u001b[39m\u001b[38;5;124m\"\u001b[39m\n\u001b[0;32m    195\u001b[0m         \u001b[38;5;124mf\u001b[39m\u001b[38;5;124m\"\u001b[39m\u001b[38;5;124mthan max(matrix.shape)=\u001b[39m\u001b[38;5;132;01m{\u001b[39;00mmax_dim\u001b[38;5;132;01m}\u001b[39;00m\u001b[38;5;124m. Setting n_eigenvecs to \u001b[39m\u001b[38;5;132;01m{\u001b[39;00mmax_dim\u001b[38;5;132;01m}\u001b[39;00m\u001b[38;5;124m.\u001b[39m\u001b[38;5;124m\"\u001b[39m\n\u001b[0;32m    196\u001b[0m     )\n\u001b[0;32m    197\u001b[0m     n_eigenvecs \u001b[38;5;241m=\u001b[39m max_dim\n",
      "\u001b[1;31mTypeError\u001b[0m: '>' not supported between instances of 'list' and 'int'"
     ]
    }
   ],
   "source": [
    "import tensorly as tl\n",
    "from tensorly.decomposition import parafac\n",
    "import numpy as np\n",
    "\n",
    "# Generate random tensor data (replace this with your graph data)\n",
    "# In this example, we create a random tensor of shape (5, 5, 5)\n",
    "np.random.seed(42)\n",
    "tensor_data = np.random.rand(5, 5, 5)\n",
    "\n",
    "# Define the number of latent dimensions for each mode of the tensor\n",
    "latent_dims = [3, 3, 3]\n",
    "\n",
    "# Perform tensor factorization using CP decomposition (Parafac)\n",
    "factors = parafac(tensor_data, rank=latent_dims)\n",
    "\n",
    "# Factors will contain the latent representations for each mode of the tensor\n",
    "factor_mode1, factor_mode2, factor_mode3 = factors\n",
    "\n",
    "# Now you can use these factors for link prediction or other tasks\n",
    "# Note that this is a basic example and does not include the probabilistic aspect\n",
    "# that you might need for your PLTF model.\n",
    "\n",
    "# For the probabilistic aspect, you may consider using a Bayesian approach\n",
    "# or other techniques to capture uncertainty in the link predictions.\n",
    "\n",
    "# It is important to tailor the above steps to your specific problem and data."
   ]
  },
  {
   "cell_type": "code",
   "execution_count": null,
   "id": "88085370",
   "metadata": {},
   "outputs": [],
   "source": []
  }
 ],
 "metadata": {
  "kernelspec": {
   "display_name": "Python 3 (ipykernel)",
   "language": "python",
   "name": "python3"
  },
  "language_info": {
   "codemirror_mode": {
    "name": "ipython",
    "version": 3
   },
   "file_extension": ".py",
   "mimetype": "text/x-python",
   "name": "python",
   "nbconvert_exporter": "python",
   "pygments_lexer": "ipython3",
   "version": "3.7.16"
  }
 },
 "nbformat": 4,
 "nbformat_minor": 5
}
