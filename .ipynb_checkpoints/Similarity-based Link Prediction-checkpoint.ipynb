{
 "cells": [
  {
   "cell_type": "markdown",
   "id": "74fed23a",
   "metadata": {},
   "source": [
    "## Importing libraries"
   ]
  },
  {
   "cell_type": "code",
   "execution_count": 24,
   "id": "65dbbfc1",
   "metadata": {},
   "outputs": [],
   "source": [
    "import networkx as nx\n",
    "import matplotlib.pyplot as plt\n",
    "import multiprocessing\n",
    "import numpy as np\n",
    "\n",
    "from neo4j import GraphDatabase\n",
    "from node2vec import Node2Vec\n",
    "\n",
    "%matplotlib inline"
   ]
  },
  {
   "cell_type": "markdown",
   "id": "7ca1d12e",
   "metadata": {},
   "source": [
    "## Connect to the Database"
   ]
  },
  {
   "cell_type": "code",
   "execution_count": 25,
   "id": "983cf4e0",
   "metadata": {},
   "outputs": [],
   "source": [
    "uri = \"bolt://localhost:7687\"\n",
    "username = \"neo4j\"\n",
    "password = \"OLIV00%%\"\n",
    "\n",
    "driver = GraphDatabase.driver(uri, auth=(username, password))"
   ]
  },
  {
   "cell_type": "code",
   "execution_count": 26,
   "id": "8edeb6da",
   "metadata": {},
   "outputs": [],
   "source": [
    "graph = nx.Graph()\n",
    "\n",
    "with driver.session() as session:\n",
    "    # Récupérer les nœuds avec leur nom et type\n",
    "    nodes_query = \"MATCH (n) RETURN ID(n) AS id, n.name AS name, n.type AS type\"\n",
    "    nodes_result = session.run(nodes_query)\n",
    "\n",
    "    # Parcourir les résultats et ajouter les nœuds au graphe\n",
    "    for record in nodes_result:\n",
    "        node_id = record[\"id\"]\n",
    "        node_name = record[\"name\"]\n",
    "        node_type = record[\"type\"]\n",
    "        if node_id is not None:\n",
    "            graph.add_node(node_id, name=node_name, type=node_type)\n",
    "\n",
    "    # Récupérer les relations\n",
    "    relations_query = \"MATCH ()-[r]->() RETURN ID(startNode(r)) AS source_id, ID(endNode(r)) AS target_id\"\n",
    "    relations_result = session.run(relations_query)\n",
    "\n",
    "    # Ajouter les relations entre les nœuds\n",
    "    for record in relations_result:\n",
    "        source_node_id = record[\"source_id\"]\n",
    "        target_node_id = record[\"target_id\"]\n",
    "        if source_node_id is not None and target_node_id is not None:\n",
    "            graph.add_edge(source_node_id, target_node_id)\n",
    "            \n",
    "            \n",
    "# After creating the graph and adding nodes and edges as you described\n",
    "\n",
    "machine_state_ids = [16, 17, 18, 19, 20, 21, 22]\n",
    "component_ids = [13, 14, 15]\n",
    "\n",
    "#machine_state_ids = [20, 21, 22, 23, 24, 25, 26, 27]\n",
    "#component_ids = [17, 18, 19]"
   ]
  },
  {
   "cell_type": "markdown",
   "id": "a47e4a68",
   "metadata": {},
   "source": [
    "## CN2D"
   ]
  },
  {
   "cell_type": "code",
   "execution_count": 27,
   "id": "72ab4d79",
   "metadata": {},
   "outputs": [],
   "source": [
    "def common_neighbors(graph, node1, node2):\n",
    "    neighbors1 = set(graph.neighbors(node1))\n",
    "    neighbors2 = set(graph.neighbors(node2))\n",
    "    return neighbors1.intersection(neighbors2)\n",
    "\n",
    "def resource_distribution_metric(graph, node1, node2, common_neighbors):\n",
    "    max_degree = max(graph.degree[node1], graph.degree[node2])\n",
    "    return sum(1 / max_degree for node in common_neighbors)\n",
    "\n",
    "def link_prediction(graph, node_pairs, beta):\n",
    "    predictions = {}\n",
    "    for node_pair in node_pairs:\n",
    "        node1, node2 = node_pair\n",
    "        neighbors1 = set(graph.neighbors(node1))\n",
    "        neighbors2 = set(graph.neighbors(node2))\n",
    "        common_neighbors_set = neighbors1.intersection(neighbors2)\n",
    "\n",
    "        resource_metric = 0\n",
    "        for z in common_neighbors_set:\n",
    "            resource_metric += 1 / max(len(neighbors1), len(neighbors2)) * len(set(graph.neighbors(z)))\n",
    "\n",
    "        if (node1, node2) not in predictions:\n",
    "            predictions[(node1, node2)] = len(common_neighbors_set) + beta * resource_metric\n",
    "        else:\n",
    "            predictions[(node1, node2)] += beta * resource_metric\n",
    "\n",
    "    return predictions"
   ]
  },
  {
   "cell_type": "markdown",
   "id": "fbc25c47",
   "metadata": {},
   "source": [
    "## Splited Graph Plot"
   ]
  },
  {
   "cell_type": "code",
   "execution_count": 28,
   "id": "2dfbdc6f",
   "metadata": {},
   "outputs": [
    {
     "data": {
      "image/png": "[encoded data removed]",
      "text/plain": [
       "<Figure size 640x480 with 1 Axes>"
      ]
     },
     "metadata": {},
     "output_type": "display_data"
    }
   ],
   "source": [
    "# Create a layout for visualization (e.g., circular layout)\n",
    "pos = nx.spring_layout(graph)\n",
    "\n",
    "# Draw nodes with labels and node properties\n",
    "node_labels = {node_id: f\"{node_id}\\n{node_data}\" for node_id, node_data in graph.nodes(data=True)}\n",
    "nx.draw(graph, pos, with_labels=True, node_size=150, node_color=\"skyblue\", font_size=10)\n",
    "\n",
    "# Draw edges with edge properties\n",
    "edge_labels = {(u, v): data for u, v, data in graph.edges(data=True)}\n",
    "nx.draw_networkx_edge_labels(graph, pos, edge_labels=edge_labels, font_size=8)\n",
    "\n",
    "# Display the graph\n",
    "plt.show()"
   ]
  },
  {
   "cell_type": "code",
   "execution_count": 29,
   "id": "529f6131",
   "metadata": {},
   "outputs": [
    {
     "name": "stdout",
     "output_type": "stream",
     "text": [
      "Link Prediction Score for nodes 'Pump' and 'Normal': 0.0\n",
      "Link Prediction Score for nodes 'Pump' and 'Imbalance': 0.0\n",
      "Link Prediction Score for nodes 'Pump' and 'Structural fault': 0.0\n",
      "Link Prediction Score for nodes 'Pump' and 'Misalignment': 0.0\n",
      "Link Prediction Score for nodes 'Pump' and 'looseness': 0.0\n",
      "Link Prediction Score for nodes 'Pump' and 'Bearing Fault': 0.0\n",
      "Link Prediction Score for nodes 'Pump' and 'Gear Fault': 0.0\n",
      "Link Prediction Score for nodes 'Fan' and 'Normal': 0.0\n",
      "Link Prediction Score for nodes 'Fan' and 'Imbalance': 0.0\n",
      "Link Prediction Score for nodes 'Fan' and 'Structural fault': 0.0\n",
      "Link Prediction Score for nodes 'Fan' and 'Misalignment': 0.0\n",
      "Link Prediction Score for nodes 'Fan' and 'looseness': 0.0\n",
      "Link Prediction Score for nodes 'Fan' and 'Bearing Fault': 0.0\n",
      "Link Prediction Score for nodes 'Fan' and 'Gear Fault': 0.0\n",
      "Link Prediction Score for nodes 'Engine' and 'Normal': 0.0\n",
      "Link Prediction Score for nodes 'Engine' and 'Imbalance': 0.0\n",
      "Link Prediction Score for nodes 'Engine' and 'Structural fault': 0.0\n",
      "Link Prediction Score for nodes 'Engine' and 'Misalignment': 0.0\n",
      "Link Prediction Score for nodes 'Engine' and 'looseness': 0.0\n",
      "Link Prediction Score for nodes 'Engine' and 'Bearing Fault': 0.0\n",
      "Link Prediction Score for nodes 'Engine' and 'Gear Fault': 0.0\n"
     ]
    }
   ],
   "source": [
    "edges = graph.edges()\n",
    "\n",
    "# Extract the unique nodes from the edges\n",
    "nodes = set(node for edge in edges for node in edge)\n",
    "\n",
    "# Generate all possible node pairs\n",
    "node_pairs = [(node1, node2) for node1 in component_ids for node2 in machine_state_ids if node1 != node2]\n",
    "\n",
    "# Assuming you have already created the 'graph' and 'node_pairs' variables\n",
    "beta = 0.5\n",
    "predictions = link_prediction(graph, node_pairs, beta)    \n",
    "    \n",
    "# Create a mapping of node IDs to their names\n",
    "node_id_to_name = {node_id: graph.nodes[node_id]['name'] for node_id in graph.nodes()}\n",
    "\n",
    "# Print the link predictions in descending order with node names\n",
    "sorted_predictions = sorted(predictions.items(), key=lambda x: x[1], reverse=True)\n",
    "for (node1, node2), score in sorted_predictions:\n",
    "    node1_name = node_id_to_name[node1]\n",
    "    node2_name = node_id_to_name[node2]\n",
    "    print(f\"Link Prediction Score for nodes '{node1_name}' and '{node2_name}': {score}\")"
   ]
  },
  {
   "cell_type": "markdown",
   "id": "2bab5a2d",
   "metadata": {},
   "source": [
    "## Katz index"
   ]
  },
  {
   "cell_type": "code",
   "execution_count": 30,
   "id": "7ca5c4b4",
   "metadata": {},
   "outputs": [
    {
     "name": "stdout",
     "output_type": "stream",
     "text": [
      "Katz index for link between nodes 'Pump' and 'Normal': 0\n",
      "Katz index for link between nodes 'Pump' and 'Imbalance': 0\n",
      "Katz index for link between nodes 'Pump' and 'Structural fault': 0\n",
      "Katz index for link between nodes 'Pump' and 'Misalignment': 0\n",
      "Katz index for link between nodes 'Pump' and 'looseness': 0\n",
      "Katz index for link between nodes 'Pump' and 'Bearing Fault': 0\n",
      "Katz index for link between nodes 'Pump' and 'Gear Fault': 0\n",
      "Katz index for link between nodes 'Fan' and 'Normal': 0\n",
      "Katz index for link between nodes 'Fan' and 'Imbalance': 0\n",
      "Katz index for link between nodes 'Fan' and 'Structural fault': 0\n",
      "Katz index for link between nodes 'Fan' and 'Misalignment': 0\n",
      "Katz index for link between nodes 'Fan' and 'looseness': 0\n",
      "Katz index for link between nodes 'Fan' and 'Bearing Fault': 0\n",
      "Katz index for link between nodes 'Fan' and 'Gear Fault': 0\n",
      "Katz index for link between nodes 'Engine' and 'Normal': 0\n",
      "Katz index for link between nodes 'Engine' and 'Imbalance': 0\n",
      "Katz index for link between nodes 'Engine' and 'Structural fault': 0\n",
      "Katz index for link between nodes 'Engine' and 'Misalignment': 0\n",
      "Katz index for link between nodes 'Engine' and 'looseness': 0\n",
      "Katz index for link between nodes 'Engine' and 'Bearing Fault': 0\n",
      "Katz index for link between nodes 'Engine' and 'Gear Fault': 0\n"
     ]
    }
   ],
   "source": [
    "def katz_index(graph, beta=0.1, max_path_length=4):\n",
    "    katz_scores = {}\n",
    "\n",
    "    for node1 in component_ids:\n",
    "        for node2 in machine_state_ids:\n",
    "            if node1 == node2 or graph.has_edge(node1, node2):\n",
    "                continue\n",
    "\n",
    "            # Calculate the common neighbors of node1 and node2\n",
    "            common_neighbors = set(graph.neighbors(node1)).intersection(graph.neighbors(node2))\n",
    "\n",
    "            # Calculate the Katz index for the node pair (node1, node2)\n",
    "            katz_score = 0\n",
    "            for common_neighbor in common_neighbors:\n",
    "                for path_length in range(1, max_path_length + 1):\n",
    "                    katz_score += (beta ** path_length) * nx.shortest_path_length(graph, source=common_neighbor, target=node1) * nx.shortest_path_length(graph, source=common_neighbor, target=node2)\n",
    "\n",
    "            katz_scores[(node1, node2)] = katz_score\n",
    "\n",
    "    return katz_scores\n",
    "\n",
    "\n",
    "# Assuming you already have the 'graph' variable containing your graph data\n",
    "beta = 0.1\n",
    "max_path_length = 4\n",
    "predictions = katz_index(graph, beta, max_path_length)\n",
    "\n",
    "# Create a mapping of node IDs to their names\n",
    "node_id_to_name = {node_id: graph.nodes[node_id]['name'] for node_id in graph.nodes()}\n",
    "\n",
    "# Print the link predictions in descending order with node names\n",
    "sorted_predictions = sorted(predictions.items(), key=lambda x: x[1], reverse=True)\n",
    "for (node1, node2), score in sorted_predictions:\n",
    "    node1_name = node_id_to_name[node1]\n",
    "    node2_name = node_id_to_name[node2]\n",
    "    print(f\"Katz index for link between nodes '{node1_name}' and '{node2_name}': {score}\")"
   ]
  },
  {
   "cell_type": "markdown",
   "id": "74e1c2a4",
   "metadata": {},
   "source": [
    "## Local Path Index"
   ]
  },
  {
   "cell_type": "code",
   "execution_count": 31,
   "id": "674972e6",
   "metadata": {},
   "outputs": [
    {
     "name": "stdout",
     "output_type": "stream",
     "text": [
      "Katz index for link between nodes 'Pump' and 'Normal': 0.0\n",
      "Katz index for link between nodes 'Pump' and 'Imbalance': 0.0\n",
      "Katz index for link between nodes 'Pump' and 'Structural fault': 0.0\n",
      "Katz index for link between nodes 'Pump' and 'Misalignment': 0.0\n",
      "Katz index for link between nodes 'Pump' and 'looseness': 0.0\n",
      "Katz index for link between nodes 'Pump' and 'Bearing Fault': 0.0\n",
      "Katz index for link between nodes 'Pump' and 'Gear Fault': 0.0\n",
      "Katz index for link between nodes 'Fan' and 'Normal': 0.0\n",
      "Katz index for link between nodes 'Fan' and 'Imbalance': 0.0\n",
      "Katz index for link between nodes 'Fan' and 'Structural fault': 0.0\n",
      "Katz index for link between nodes 'Fan' and 'Misalignment': 0.0\n",
      "Katz index for link between nodes 'Fan' and 'looseness': 0.0\n",
      "Katz index for link between nodes 'Fan' and 'Bearing Fault': 0.0\n",
      "Katz index for link between nodes 'Fan' and 'Gear Fault': 0.0\n",
      "Katz index for link between nodes 'Engine' and 'Normal': 0.0\n",
      "Katz index for link between nodes 'Engine' and 'Imbalance': 0.0\n",
      "Katz index for link between nodes 'Engine' and 'Structural fault': 0.0\n",
      "Katz index for link between nodes 'Engine' and 'Misalignment': 0.0\n",
      "Katz index for link between nodes 'Engine' and 'looseness': 0.0\n",
      "Katz index for link between nodes 'Engine' and 'Bearing Fault': 0.0\n",
      "Katz index for link between nodes 'Engine' and 'Gear Fault': 0.0\n"
     ]
    }
   ],
   "source": [
    "def local_path_index(graph, node_pairs, epsilon, path_length):\n",
    "    adjacency_matrix = nx.adjacency_matrix(graph).todense()\n",
    "\n",
    "    # Compute the powers of the adjacency matrix up to path_length\n",
    "    powers_of_A = [adjacency_matrix]\n",
    "    for i in range(1, path_length):\n",
    "        powers_of_A.append(adjacency_matrix.dot(powers_of_A[-1]))\n",
    "\n",
    "    # Calculate the Local Path Index for each node pair\n",
    "    predictions = {}\n",
    "    for node1, node2 in node_pairs:\n",
    "        lpi = 0\n",
    "        for i in range(path_length):\n",
    "            lpi += epsilon**i * powers_of_A[i][node1, node2]\n",
    "        predictions[(node1, node2)] = lpi\n",
    "\n",
    "    return predictions\n",
    "\n",
    "node_pairs = [(node1, node2) for node1 in component_ids for node2 in machine_state_ids if node1 != node2]\n",
    "\n",
    "epsilon = 0.1\n",
    "path_length = 5\n",
    "predictions = local_path_index(graph, node_pairs, epsilon, path_length)\n",
    "\n",
    "# Print the link predictions in descending order with node names\n",
    "sorted_predictions = sorted(predictions.items(), key=lambda x: x[1], reverse=True)\n",
    "for (node1, node2), score in sorted_predictions:\n",
    "    node1_name = node_id_to_name[node1]\n",
    "    node2_name = node_id_to_name[node2]\n",
    "    print(f\"Katz index for link between nodes '{node1_name}' and '{node2_name}': {score}\")"
   ]
  },
  {
   "cell_type": "code",
   "execution_count": null,
   "id": "6646a46b",
   "metadata": {},
   "outputs": [],
   "source": []
  }
 ],
 "metadata": {
  "kernelspec": {
   "display_name": "Python 3 (ipykernel)",
   "language": "python",
   "name": "python3"
  },
  "language_info": {
   "codemirror_mode": {
    "name": "ipython",
    "version": 3
   },
   "file_extension": ".py",
   "mimetype": "text/x-python",
   "name": "python",
   "nbconvert_exporter": "python",
   "pygments_lexer": "ipython3",
   "version": "3.7.16"
  }
 },
 "nbformat": 4,
 "nbformat_minor": 5
}
