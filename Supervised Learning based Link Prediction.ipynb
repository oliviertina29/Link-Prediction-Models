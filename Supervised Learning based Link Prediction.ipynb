{
 "cells": [
  {
   "cell_type": "markdown",
   "id": "1e5ae9fc",
   "metadata": {},
   "source": [
    "## Installing libraries"
   ]
  },
  {
   "cell_type": "code",
   "execution_count": 1,
   "id": "90fe7af4",
   "metadata": {},
   "outputs": [],
   "source": [
    "#!pip install node2vec\n",
    "#!pip install neo4j"
   ]
  },
  {
   "cell_type": "markdown",
   "id": "76668d75",
   "metadata": {},
   "source": [
    "## Importing Libraries"
   ]
  },
  {
   "cell_type": "code",
   "execution_count": 81,
   "id": "c2cdb896",
   "metadata": {},
   "outputs": [],
   "source": [
    "import numpy as np\n",
    "import pandas as pd\n",
    "import networkx as nx\n",
    "from node2vec import Node2Vec\n",
    "from neo4j import GraphDatabase\n",
    "import gensim.downloader as api\n",
    "from sklearn.svm import SVC\n",
    "import matplotlib.pyplot as plt\n",
    "from sklearn.metrics import accuracy_score, confusion_matrix\n",
    "from sklearn.tree import DecisionTreeClassifier\n",
    "from sklearn.ensemble import RandomForestClassifier\n",
    "from sklearn.linear_model import LogisticRegression\n",
    "from sklearn.model_selection import train_test_split, cross_val_score"
   ]
  },
  {
   "cell_type": "markdown",
   "id": "04db0339",
   "metadata": {},
   "source": [
    "## Connecting to the neo4j database"
   ]
  },
  {
   "cell_type": "code",
   "execution_count": 82,
   "id": "a4b88be7",
   "metadata": {},
   "outputs": [],
   "source": [
    "uri = \"bolt://localhost:7687\"\n",
    "username = \"neo4j\"\n",
    "password = \"OLIV00%%\"\n",
    "\n",
    "driver = GraphDatabase.driver(uri, auth=(username, password))"
   ]
  },
  {
   "cell_type": "code",
   "execution_count": 83,
   "id": "95d57b86",
   "metadata": {},
   "outputs": [],
   "source": [
    "# Function to fetch graph data from Neo4j\n",
    "def fetch_graph_data():\n",
    "    with driver.session() as session:\n",
    "        result = session.run(\n",
    "            \"MATCH (n1)-[r]->(n2) RETURN id(n1) AS start, id(n2) AS end, type(r) AS relationship\"\n",
    "        )\n",
    "        data = [(record[\"start\"], record[\"end\"], record[\"relationship\"]) for record in result]\n",
    "    return data\n",
    "\n",
    "# Load graph data\n",
    "graph_data = fetch_graph_data()"
   ]
  },
  {
   "cell_type": "markdown",
   "id": "a91cb25d",
   "metadata": {},
   "source": [
    "## Convert the graph data into adjacency matrix"
   ]
  },
  {
   "cell_type": "code",
   "execution_count": 84,
   "id": "8bf8f3c5",
   "metadata": {},
   "outputs": [
    {
     "name": "stdout",
     "output_type": "stream",
     "text": [
      "[[0 1 0 0 0 0 0 0 0 0 0 0 0 0 0 0 0 0 0 0 0 0 1 1]\n",
      " [0 0 0 0 0 0 0 0 0 0 0 0 0 0 0 0 0 0 0 0 0 0 0 0]\n",
      " [0 0 0 1 1 1 1 0 0 0 0 0 0 0 0 0 0 0 0 0 0 0 0 0]\n",
      " [0 0 0 0 0 0 0 0 0 0 0 0 0 0 0 0 0 0 0 0 0 0 0 0]\n",
      " [0 0 0 0 0 0 0 0 0 0 0 0 0 0 0 0 0 0 0 0 0 0 0 0]\n",
      " [0 0 0 0 0 0 0 0 0 0 0 0 0 0 0 0 0 0 0 0 0 0 0 0]\n",
      " [0 0 0 0 0 0 0 0 0 0 0 0 0 0 0 0 0 0 0 0 0 0 0 0]\n",
      " [0 0 0 0 0 0 0 0 1 0 0 0 0 0 0 0 0 0 0 0 0 0 0 0]\n",
      " [0 0 0 0 0 0 0 0 0 0 0 0 0 0 0 0 0 0 0 0 0 0 0 0]\n",
      " [0 0 0 0 0 0 0 0 0 0 1 1 1 0 0 0 0 0 0 0 0 0 0 0]\n",
      " [0 0 0 0 0 0 0 0 0 0 0 0 0 0 0 0 0 0 0 0 0 0 0 0]\n",
      " [0 0 0 0 0 0 0 0 0 0 0 0 0 0 0 0 0 0 0 0 0 0 0 0]\n",
      " [0 0 0 0 0 0 0 0 0 0 0 0 0 0 0 0 0 0 0 0 0 0 0 0]\n",
      " [0 0 0 0 0 0 0 0 0 0 0 0 0 0 1 1 0 0 0 0 0 0 0 0]\n",
      " [0 0 0 0 0 0 0 0 0 0 0 0 0 0 0 0 0 0 0 0 0 0 0 0]\n",
      " [0 0 0 0 0 0 0 0 0 0 0 0 0 0 0 0 0 0 0 0 0 0 0 0]\n",
      " [0 0 0 0 0 0 0 0 0 0 0 0 0 0 0 0 0 1 0 0 0 0 0 0]\n",
      " [0 0 0 0 0 0 0 0 0 0 0 0 0 0 0 0 0 0 0 0 0 0 0 0]\n",
      " [0 0 0 0 0 0 0 0 0 0 0 0 0 0 0 0 0 0 0 1 1 1 0 0]\n",
      " [0 0 0 0 0 0 0 0 0 0 0 0 0 0 0 0 0 0 0 0 0 0 0 0]\n",
      " [0 0 0 0 0 0 0 0 0 0 0 0 0 0 0 0 0 0 0 0 0 0 0 0]\n",
      " [0 0 0 0 0 0 0 0 0 0 0 0 0 0 0 0 0 0 0 0 0 0 0 0]\n",
      " [0 0 0 0 0 0 0 0 0 0 0 0 0 0 0 0 0 0 0 0 0 0 0 0]\n",
      " [0 0 0 0 0 0 0 0 0 0 0 0 0 0 0 0 0 0 0 0 0 0 0 0]]\n"
     ]
    }
   ],
   "source": [
    "# Create a directed graph using NetworkX\n",
    "G = nx.DiGraph()\n",
    "\n",
    "# Add nodes and edges to the graph\n",
    "for start, end, relationship in graph_data:\n",
    "    G.add_node(start)\n",
    "    G.add_node(end)\n",
    "    G.add_edge(start, end, relationship=relationship)\n",
    "\n",
    "# Create the adjacency matrix\n",
    "adj_matrix = nx.to_numpy_matrix(G, dtype=int)\n",
    "\n",
    "# Get the node order in the adjacency matrix\n",
    "node_order = sorted(G.nodes())\n",
    "\n",
    "# Create a dictionary to map node IDs to indices in the adjacency matrix\n",
    "node_index_map = {node_id: index for index, node_id in enumerate(node_order)}\n",
    "\n",
    "# Rearrange the adjacency matrix based on the node order\n",
    "adj_matrix_reordered = np.array([[adj_matrix[node_index_map[start], node_index_map[end]] for end in node_order] for start in node_order])\n",
    "\n",
    "# Print the adjacency matrix\n",
    "print(adj_matrix_reordered)"
   ]
  },
  {
   "cell_type": "markdown",
   "id": "5f0e111e",
   "metadata": {},
   "source": [
    "# 1. Link Prediction using Logistic Regression"
   ]
  },
  {
   "cell_type": "markdown",
   "id": "50fd7c5b",
   "metadata": {},
   "source": [
    "### Step 1: Generate positive and negative"
   ]
  },
  {
   "cell_type": "code",
   "execution_count": 85,
   "id": "3b8e3d1d",
   "metadata": {},
   "outputs": [],
   "source": [
    "# Assuming you have node features in 'node_features' and the adjacency matrix in 'adj_matrix'\n",
    "\n",
    "# Positive examples: Existing edges in the graph\n",
    "# Negative examples: Non-existent edges in the graph\n",
    "\n",
    "def generate_positive_examples(adj_matrix):\n",
    "    pos_edges = np.array(np.where(adj_matrix == 1)).T\n",
    "    return pos_edges\n",
    "\n",
    "def generate_negative_examples(adj_matrix):\n",
    "    neg_edges = np.array(np.where(adj_matrix == 0)).T\n",
    "    return neg_edges\n",
    "\n",
    "pos_edges = generate_positive_examples(adj_matrix_reordered)\n",
    "neg_edges = generate_negative_examples(adj_matrix_reordered)"
   ]
  },
  {
   "cell_type": "code",
   "execution_count": 86,
   "id": "106b9978",
   "metadata": {},
   "outputs": [
    {
     "name": "stdout",
     "output_type": "stream",
     "text": [
      "Positive edges: (17, 2)\n",
      "\n",
      "Negative edges: (559, 2)\n"
     ]
    }
   ],
   "source": [
    "print(\"Positive edges: {}\".format(pos_edges.shape))\n",
    "print()\n",
    "print(\"Negative edges: {}\".format(neg_edges.shape))"
   ]
  },
  {
   "cell_type": "markdown",
   "id": "6db0b2e0",
   "metadata": {},
   "source": [
    "### Step 2: Create labels for the positive and negative examples"
   ]
  },
  {
   "cell_type": "code",
   "execution_count": 87,
   "id": "b8c942ad",
   "metadata": {},
   "outputs": [],
   "source": [
    "pos_labels = np.ones(pos_edges.shape[0])\n",
    "neg_labels = np.zeros(neg_edges.shape[0])"
   ]
  },
  {
   "cell_type": "markdown",
   "id": "8da9c50f",
   "metadata": {},
   "source": [
    "### Step 3: Combine positive and negative examples and labels"
   ]
  },
  {
   "cell_type": "code",
   "execution_count": 88,
   "id": "c4948892",
   "metadata": {},
   "outputs": [],
   "source": [
    "edges = np.vstack((pos_edges, neg_edges))\n",
    "labels = np.concatenate((pos_labels, neg_labels))"
   ]
  },
  {
   "cell_type": "code",
   "execution_count": 89,
   "id": "264c26c5",
   "metadata": {},
   "outputs": [],
   "source": [
    "labels = labels.reshape(576, 1)"
   ]
  },
  {
   "cell_type": "code",
   "execution_count": 93,
   "id": "0ded7282",
   "metadata": {},
   "outputs": [
    {
     "name": "stdout",
     "output_type": "stream",
     "text": [
      "Edges: (576, 2)\n",
      "\n",
      "Labels: (576, 1)\n"
     ]
    }
   ],
   "source": [
    "print(\"Edges: {}\".format(edges.shape))\n",
    "print(\"\\nLabels: {}\".format(labels.shape))"
   ]
  },
  {
   "cell_type": "markdown",
   "id": "fcda8fa0",
   "metadata": {},
   "source": [
    "### Step 4: Split the data into training and test sets"
   ]
  },
  {
   "cell_type": "code",
   "execution_count": 94,
   "id": "1807a351",
   "metadata": {},
   "outputs": [],
   "source": [
    "X_train, X_test, y_train, y_test = train_test_split(edges, labels, test_size=0.2, random_state=42)"
   ]
  },
  {
   "cell_type": "markdown",
   "id": "c27b9b66",
   "metadata": {},
   "source": [
    "### Step 5: Train a supervised learning model (logistic regression) on the training data"
   ]
  },
  {
   "cell_type": "code",
   "execution_count": 95,
   "id": "92dd2a96",
   "metadata": {},
   "outputs": [
    {
     "name": "stderr",
     "output_type": "stream",
     "text": [
      "C:\\Users\\olivi\\anaconda3\\envs\\Py_env\\lib\\site-packages\\sklearn\\utils\\validation.py:993: DataConversionWarning: A column-vector y was passed when a 1d array was expected. Please change the shape of y to (n_samples, ), for example using ravel().\n",
      "  y = column_or_1d(y, warn=True)\n"
     ]
    },
    {
     "data": {
      "text/plain": [
       "LogisticRegression()"
      ]
     },
     "execution_count": 95,
     "metadata": {},
     "output_type": "execute_result"
    }
   ],
   "source": [
    "logr_model = LogisticRegression()\n",
    "logr_model.fit(X_train, y_train)"
   ]
  },
  {
   "cell_type": "markdown",
   "id": "04145873",
   "metadata": {},
   "source": [
    "### Step 6: Evaluate the model on the test data"
   ]
  },
  {
   "cell_type": "code",
   "execution_count": 96,
   "id": "056a4773",
   "metadata": {},
   "outputs": [
    {
     "name": "stdout",
     "output_type": "stream",
     "text": [
      "Accuracy: 0.9568965517241379\n"
     ]
    }
   ],
   "source": [
    "accuracy = logr_model.score(X_test, y_test)\n",
    "print(\"Accuracy:\", accuracy)"
   ]
  },
  {
   "cell_type": "markdown",
   "id": "99d6a12a",
   "metadata": {},
   "source": [
    "\n",
    "\n",
    "### Step 7: Perform cross-validation"
   ]
  },
  {
   "cell_type": "code",
   "execution_count": 97,
   "id": "65ec2a72",
   "metadata": {},
   "outputs": [
    {
     "name": "stdout",
     "output_type": "stream",
     "text": [
      "Fold 1: Accuracy = 0.9583\n",
      "Fold 2: Accuracy = 0.9565\n",
      "Fold 3: Accuracy = 0.9565\n",
      "Fold 4: Accuracy = 0.9565\n",
      "Fold 5: Accuracy = 0.9565\n",
      "\tMean Accuracy: 0.9569\n"
     ]
    },
    {
     "name": "stderr",
     "output_type": "stream",
     "text": [
      "C:\\Users\\olivi\\anaconda3\\envs\\Py_env\\lib\\site-packages\\sklearn\\utils\\validation.py:993: DataConversionWarning: A column-vector y was passed when a 1d array was expected. Please change the shape of y to (n_samples, ), for example using ravel().\n",
      "  y = column_or_1d(y, warn=True)\n",
      "C:\\Users\\olivi\\anaconda3\\envs\\Py_env\\lib\\site-packages\\sklearn\\utils\\validation.py:993: DataConversionWarning: A column-vector y was passed when a 1d array was expected. Please change the shape of y to (n_samples, ), for example using ravel().\n",
      "  y = column_or_1d(y, warn=True)\n",
      "C:\\Users\\olivi\\anaconda3\\envs\\Py_env\\lib\\site-packages\\sklearn\\utils\\validation.py:993: DataConversionWarning: A column-vector y was passed when a 1d array was expected. Please change the shape of y to (n_samples, ), for example using ravel().\n",
      "  y = column_or_1d(y, warn=True)\n",
      "C:\\Users\\olivi\\anaconda3\\envs\\Py_env\\lib\\site-packages\\sklearn\\utils\\validation.py:993: DataConversionWarning: A column-vector y was passed when a 1d array was expected. Please change the shape of y to (n_samples, ), for example using ravel().\n",
      "  y = column_or_1d(y, warn=True)\n",
      "C:\\Users\\olivi\\anaconda3\\envs\\Py_env\\lib\\site-packages\\sklearn\\utils\\validation.py:993: DataConversionWarning: A column-vector y was passed when a 1d array was expected. Please change the shape of y to (n_samples, ), for example using ravel().\n",
      "  y = column_or_1d(y, warn=True)\n"
     ]
    }
   ],
   "source": [
    "num_folds = 5\n",
    "accuracy_scores = cross_val_score(logr_model, X_test, y_test, cv=num_folds)\n",
    "\n",
    "# Print the accuracy scores for each fold\n",
    "for fold, accuracy in enumerate(accuracy_scores):\n",
    "    print(f\"Fold {fold+1}: Accuracy = {accuracy:.4f}\")\n",
    "\n",
    "# Print the mean accuracy across all folds\n",
    "mean_accuracy = np.mean(accuracy_scores)\n",
    "print(f\"\\tMean Accuracy: {mean_accuracy:.4f}\")"
   ]
  },
  {
   "cell_type": "markdown",
   "id": "3e25b77c",
   "metadata": {},
   "source": [
    "### Random Under Sampling (RUS)"
   ]
  },
  {
   "cell_type": "code",
   "execution_count": 98,
   "id": "9c76fd4b",
   "metadata": {},
   "outputs": [],
   "source": [
    "np.random.shuffle(neg_edges)\n",
    "\n",
    "num_positive = pos_edges.shape[0]\n",
    "neg_edges_undersampled = neg_edges[:num_positive]\n",
    "\n",
    "edges_balanced = np.vstack((pos_edges, neg_edges_undersampled))\n",
    "\n",
    "labels_balanced = np.concatenate((np.ones(num_positive), np.zeros(num_positive)))\n",
    "\n",
    "indices = np.arange(edges_balanced.shape[0])\n",
    "np.random.shuffle(indices)\n",
    "edges_balanced = edges_balanced[indices]\n",
    "labels_balanced = labels_balanced[indices]"
   ]
  },
  {
   "cell_type": "markdown",
   "id": "df1d1b3e",
   "metadata": {},
   "source": [
    "### Logistic Regression after RUS"
   ]
  },
  {
   "cell_type": "code",
   "execution_count": 99,
   "id": "75abf397",
   "metadata": {
    "scrolled": true
   },
   "outputs": [
    {
     "name": "stdout",
     "output_type": "stream",
     "text": [
      "Accuracy: 0.6363636363636364\n"
     ]
    }
   ],
   "source": [
    "X_train, X_test, y_train, y_test = train_test_split(edges_balanced, labels_balanced, test_size=0.3, random_state=42)\n",
    "\n",
    "model = LogisticRegression()\n",
    "model.fit(X_train, y_train)\n",
    "\n",
    "logr_accuracy = model.score(X_test, y_test)\n",
    "print(\"Accuracy:\", logr_accuracy)"
   ]
  },
  {
   "cell_type": "markdown",
   "id": "417ac74f",
   "metadata": {},
   "source": [
    "# 2. Link prediction using SVM"
   ]
  },
  {
   "cell_type": "code",
   "execution_count": 100,
   "id": "3770e808",
   "metadata": {},
   "outputs": [
    {
     "name": "stdout",
     "output_type": "stream",
     "text": [
      "Accuracy: 0.9568965517241379\n"
     ]
    }
   ],
   "source": [
    "# Combine positive and negative examples and labels\n",
    "edges = np.vstack((pos_edges, neg_edges))\n",
    "labels = np.concatenate((pos_labels, neg_labels))\n",
    "\n",
    "# Split the data into training and test sets\n",
    "X_train, X_test, y_train, y_test = train_test_split(edges, labels, test_size=0.2, random_state=42)\n",
    "\n",
    "# Train an SVM model on the training data\n",
    "svm_model = SVC(kernel='linear')\n",
    "svm_model.fit(X_train, y_train)\n",
    "\n",
    "# Evaluate the model on the test data\n",
    "y_pred = svm_model.predict(X_test)\n",
    "accuracy = accuracy_score(y_test, y_pred)\n",
    "print(\"Accuracy:\", accuracy)"
   ]
  },
  {
   "cell_type": "markdown",
   "id": "fbe07f40",
   "metadata": {},
   "source": [
    "### Perform cross-validation"
   ]
  },
  {
   "cell_type": "code",
   "execution_count": 101,
   "id": "a1819222",
   "metadata": {},
   "outputs": [
    {
     "name": "stdout",
     "output_type": "stream",
     "text": [
      "Fold 1: Accuracy = 0.9583\n",
      "Fold 2: Accuracy = 0.9565\n",
      "Fold 3: Accuracy = 0.9565\n",
      "Fold 4: Accuracy = 0.9565\n",
      "Fold 5: Accuracy = 0.9565\n",
      "\tMean Accuracy: 0.9569\n"
     ]
    }
   ],
   "source": [
    "num_folds = 5\n",
    "accuracy_scores = cross_val_score(svm_model, X_test, y_test, cv=num_folds)\n",
    "\n",
    "# Print the accuracy scores for each fold\n",
    "for fold, accuracy in enumerate(accuracy_scores):\n",
    "    print(f\"Fold {fold+1}: Accuracy = {accuracy:.4f}\")\n",
    "\n",
    "# Print the mean accuracy across all folds\n",
    "mean_accuracy = np.mean(accuracy_scores)\n",
    "print(f\"\\tMean Accuracy: {mean_accuracy:.4f}\")"
   ]
  },
  {
   "cell_type": "markdown",
   "id": "07af595b",
   "metadata": {},
   "source": [
    "### SVM after Random Under Sampling (RUS)"
   ]
  },
  {
   "cell_type": "code",
   "execution_count": 102,
   "id": "fec82bf5",
   "metadata": {},
   "outputs": [
    {
     "name": "stdout",
     "output_type": "stream",
     "text": [
      "Accuracy: 0.6363636363636364\n"
     ]
    }
   ],
   "source": [
    "X_train, X_test, y_train, y_test = train_test_split(edges_balanced, labels_balanced, test_size=0.3, random_state=42)\n",
    "\n",
    "svm_model = SVC(kernel='linear')\n",
    "svm_model.fit(X_train, y_train)\n",
    "\n",
    "svm_accuracy = model.score(X_test, y_test)\n",
    "print(\"Accuracy:\", svm_accuracy)"
   ]
  },
  {
   "cell_type": "markdown",
   "id": "e374ee3c",
   "metadata": {},
   "source": [
    "# 3. Link prediction using Decision Tree"
   ]
  },
  {
   "cell_type": "code",
   "execution_count": 103,
   "id": "26809cd4",
   "metadata": {},
   "outputs": [
    {
     "name": "stdout",
     "output_type": "stream",
     "text": [
      "Accuracy: 0.9568965517241379\n"
     ]
    }
   ],
   "source": [
    "# Combine positive and negative examples and labels\n",
    "edges = np.vstack((pos_edges, neg_edges))\n",
    "labels = np.concatenate((pos_labels, neg_labels))\n",
    "\n",
    "# Split the data into training and test sets\n",
    "X_train, X_test, y_train, y_test = train_test_split(edges, labels, test_size=0.2, random_state=42)\n",
    "\n",
    "# Train a Decision Tree model on the training data\n",
    "dt_model = DecisionTreeClassifier()\n",
    "dt_model.fit(X_train, y_train)\n",
    "\n",
    "# Evaluate the model on the test data\n",
    "y_pred = dt_model.predict(X_test)\n",
    "accuracy = accuracy_score(y_test, y_pred)\n",
    "print(\"Accuracy:\", accuracy)"
   ]
  },
  {
   "cell_type": "markdown",
   "id": "428b2c68",
   "metadata": {},
   "source": [
    "### Perform cross-validation"
   ]
  },
  {
   "cell_type": "code",
   "execution_count": 104,
   "id": "a138a34a",
   "metadata": {},
   "outputs": [
    {
     "name": "stdout",
     "output_type": "stream",
     "text": [
      "Fold 1: Accuracy = 1.0000\n",
      "Fold 2: Accuracy = 0.9130\n",
      "Fold 3: Accuracy = 0.9565\n",
      "Fold 4: Accuracy = 0.9130\n",
      "Fold 5: Accuracy = 0.8261\n",
      "Mean Accuracy: 0.9217\n"
     ]
    }
   ],
   "source": [
    "num_folds = 5\n",
    "accuracy_scores = cross_val_score(dt_model, X_test, y_test, cv=num_folds)\n",
    "\n",
    "# Print the accuracy scores for each fold\n",
    "for fold, accuracy in enumerate(accuracy_scores):\n",
    "    print(f\"Fold {fold+1}: Accuracy = {accuracy:.4f}\")\n",
    "\n",
    "# Print the mean accuracy across all folds\n",
    "mean_accuracy = np.mean(accuracy_scores)\n",
    "print(f\"Mean Accuracy: {mean_accuracy:.4f}\")"
   ]
  },
  {
   "cell_type": "markdown",
   "id": "3fc1477a",
   "metadata": {},
   "source": [
    "### Decision Tree after Random Under Sampling (RUS)"
   ]
  },
  {
   "cell_type": "code",
   "execution_count": 105,
   "id": "6ab39399",
   "metadata": {},
   "outputs": [
    {
     "name": "stdout",
     "output_type": "stream",
     "text": [
      "Accuracy: 0.6363636363636364\n"
     ]
    }
   ],
   "source": [
    "X_train, X_test, y_train, y_test = train_test_split(edges_balanced, labels_balanced, test_size=0.3, random_state=42)\n",
    "\n",
    "dt_model = DecisionTreeClassifier()\n",
    "dt_model.fit(X_train, y_train)\n",
    "\n",
    "dt_accuracy = model.score(X_test, y_test)\n",
    "print(\"Accuracy:\", dt_accuracy)"
   ]
  },
  {
   "cell_type": "markdown",
   "id": "fd9a2cf6",
   "metadata": {},
   "source": [
    "# 4. Link prediction using Random Forest "
   ]
  },
  {
   "cell_type": "code",
   "execution_count": 106,
   "id": "0297fddc",
   "metadata": {},
   "outputs": [
    {
     "name": "stdout",
     "output_type": "stream",
     "text": [
      "Accuracy: 0.9655172413793104\n"
     ]
    }
   ],
   "source": [
    "# Combine positive and negative examples and labels\n",
    "edges = np.vstack((pos_edges, neg_edges))\n",
    "labels = np.concatenate((pos_labels, neg_labels))\n",
    "\n",
    "# Split the data into training and test sets\n",
    "X_train, X_test, y_train, y_test = train_test_split(edges, labels, test_size=0.2, random_state=42)\n",
    "\n",
    "# Train a Random Forest model on the training data\n",
    "rf_model = RandomForestClassifier(n_estimators=100)  # You can adjust the number of trees (n_estimators) as needed\n",
    "rf_model.fit(X_train, y_train)\n",
    "\n",
    "# Evaluate the model on the test data\n",
    "y_pred = rf_model.predict(X_test)\n",
    "accuracy = accuracy_score(y_test, y_pred)\n",
    "print(\"Accuracy:\", accuracy)"
   ]
  },
  {
   "cell_type": "markdown",
   "id": "e7ee8f08",
   "metadata": {},
   "source": [
    "### Perform cross-validation"
   ]
  },
  {
   "cell_type": "code",
   "execution_count": 107,
   "id": "98f2af21",
   "metadata": {},
   "outputs": [
    {
     "name": "stdout",
     "output_type": "stream",
     "text": [
      "Fold 1: Accuracy = 1.0000\n",
      "Fold 2: Accuracy = 0.9565\n",
      "Fold 3: Accuracy = 0.9565\n",
      "Fold 4: Accuracy = 0.9565\n",
      "Fold 5: Accuracy = 0.9565\n",
      "Mean Accuracy: 0.9652\n"
     ]
    }
   ],
   "source": [
    "num_folds = 5\n",
    "accuracy_scores = cross_val_score(rf_model, X_test, y_test, cv=num_folds)\n",
    "\n",
    "# Print the accuracy scores for each fold\n",
    "for fold, accuracy in enumerate(accuracy_scores):\n",
    "    print(f\"Fold {fold+1}: Accuracy = {accuracy:.4f}\")\n",
    "\n",
    "# Print the mean accuracy across all folds\n",
    "mean_accuracy = np.mean(accuracy_scores)\n",
    "print(f\"Mean Accuracy: {mean_accuracy:.4f}\")"
   ]
  },
  {
   "cell_type": "markdown",
   "id": "38f74e1c",
   "metadata": {},
   "source": [
    "### Random Forest after Random Under Sampling (RUS)"
   ]
  },
  {
   "cell_type": "code",
   "execution_count": 108,
   "id": "09327288",
   "metadata": {},
   "outputs": [
    {
     "name": "stdout",
     "output_type": "stream",
     "text": [
      "Accuracy: 0.2727272727272727\n"
     ]
    }
   ],
   "source": [
    "X_train, X_test, y_train, y_test = train_test_split(edges_balanced, labels_balanced, test_size=0.3, random_state=42)\n",
    "\n",
    "rf_model = RandomForestClassifier()\n",
    "rf_model.fit(X_train, y_train)\n",
    "\n",
    "rf_accuracy = rf_model.score(X_test, y_test)\n",
    "print(\"Accuracy:\", rf_accuracy)"
   ]
  },
  {
   "cell_type": "markdown",
   "id": "f402aec3",
   "metadata": {},
   "source": [
    "## Plot accuracy"
   ]
  },
  {
   "cell_type": "code",
   "execution_count": 109,
   "id": "97f5ea5c",
   "metadata": {},
   "outputs": [
    {
     "data": {
      "image/png": "[encoded data removed]",
      "text/plain": [
       "<Figure size 1000x400 with 1 Axes>"
      ]
     },
     "metadata": {},
     "output_type": "display_data"
    }
   ],
   "source": [
    "# Create a DataFrame to store the accuracies\n",
    "plotdata = pd.DataFrame({\n",
    "    \"Accuracy\": [logr_accuracy * 100, svm_accuracy * 100, dt_accuracy * 100, rf_accuracy * 100],\n",
    "}, index=[\"Log Reg\", \"SVM\", \"Decision Tree\", \"Random Forest\"])\n",
    "\n",
    "# Define different colors for each bar\n",
    "colors = [\"blue\", \"green\", \"red\", \"orange\"]\n",
    "\n",
    "# Plot the accuracies using a bar chart with different colors\n",
    "plotdata.plot(kind=\"bar\", figsize=(10, 4), color=colors)\n",
    "plt.title(\"Comparison of the accuracy for different models\")\n",
    "plt.xlabel(\"Models\")\n",
    "plt.ylabel(\"Accuracy (%)\")\n",
    "plt.show()"
   ]
  },
  {
   "cell_type": "markdown",
   "id": "031e2217",
   "metadata": {},
   "source": [
    "\n",
    "### Link predictions using the best model"
   ]
  },
  {
   "cell_type": "code",
   "execution_count": 73,
   "id": "beb3a2c9",
   "metadata": {},
   "outputs": [],
   "source": [
    "machine_state_ids = [16, 17,18, 19, 20, 21, 22]\n",
    "component_ids = [13, 14, 15]\n",
    "\n",
    "candidate_links = [[i, j] for i in component_ids for j in machine_state_ids]"
   ]
  },
  {
   "cell_type": "code",
   "execution_count": 80,
   "id": "7a0d4268",
   "metadata": {},
   "outputs": [
    {
     "name": "stdout",
     "output_type": "stream",
     "text": [
      "Link Predictions:\n",
      "Candidate Link: [13, 16], Predicted Label: 1\n",
      "Candidate Link: [13, 17], Predicted Label: 1\n",
      "Candidate Link: [13, 18], Predicted Label: 1\n",
      "Candidate Link: [13, 19], Predicted Label: 1\n",
      "Candidate Link: [13, 20], Predicted Label: 1\n",
      "Candidate Link: [13, 21], Predicted Label: 1\n",
      "Candidate Link: [13, 22], Predicted Label: 1\n",
      "Candidate Link: [14, 16], Predicted Label: 1\n",
      "Candidate Link: [14, 17], Predicted Label: 1\n",
      "Candidate Link: [14, 18], Predicted Label: 1\n",
      "Candidate Link: [14, 19], Predicted Label: 1\n",
      "Candidate Link: [14, 20], Predicted Label: 1\n",
      "Candidate Link: [14, 21], Predicted Label: 1\n",
      "Candidate Link: [14, 22], Predicted Label: 1\n",
      "Candidate Link: [15, 16], Predicted Label: 1\n",
      "Candidate Link: [15, 17], Predicted Label: 1\n",
      "Candidate Link: [15, 18], Predicted Label: 1\n",
      "Candidate Link: [15, 19], Predicted Label: 1\n",
      "Candidate Link: [15, 20], Predicted Label: 1\n",
      "Candidate Link: [15, 21], Predicted Label: 1\n",
      "Candidate Link: [15, 22], Predicted Label: 1\n"
     ]
    }
   ],
   "source": [
    "# Use the trained Random Forest model to predict link existence for candidate links\n",
    "predicted_probs = rf_model.predict_proba(candidate_links)[:, 1]  # Predict probabilities for class 1 (link exists)\n",
    "\n",
    "threshold = 0.5  # You can choose a threshold value based on your preference or requirements\n",
    "predicted_labels = (predicted_probs >= threshold).astype(int)\n",
    "\n",
    "# The 'predicted_labels' now contains the link predictions (1 for link exists, 0 for no link) for each candidate link.\n",
    "print(\"Link Predictions:\")\n",
    "for link, label in zip(candidate_links, predicted_labels):\n",
    "    print(f\"Candidate Link: {link}, Predicted Label: {label}\")"
   ]
  },
  {
   "cell_type": "code",
   "execution_count": 75,
   "id": "fcd3625d",
   "metadata": {},
   "outputs": [
    {
     "name": "stdout",
     "output_type": "stream",
     "text": [
      "Link Predictions:\n",
      "Candidate Link: [13, 16], Predicted Label: 1\n",
      "Candidate Link: [13, 17], Predicted Label: 1\n",
      "Candidate Link: [13, 18], Predicted Label: 1\n",
      "Candidate Link: [13, 19], Predicted Label: 1\n",
      "Candidate Link: [13, 20], Predicted Label: 1\n",
      "Candidate Link: [13, 21], Predicted Label: 1\n",
      "Candidate Link: [13, 22], Predicted Label: 1\n",
      "Candidate Link: [14, 16], Predicted Label: 1\n",
      "Candidate Link: [14, 17], Predicted Label: 1\n",
      "Candidate Link: [14, 18], Predicted Label: 1\n",
      "Candidate Link: [14, 19], Predicted Label: 1\n",
      "Candidate Link: [14, 20], Predicted Label: 1\n",
      "Candidate Link: [14, 21], Predicted Label: 1\n",
      "Candidate Link: [14, 22], Predicted Label: 1\n",
      "Candidate Link: [15, 16], Predicted Label: 1\n",
      "Candidate Link: [15, 17], Predicted Label: 1\n",
      "Candidate Link: [15, 18], Predicted Label: 1\n",
      "Candidate Link: [15, 19], Predicted Label: 1\n",
      "Candidate Link: [15, 20], Predicted Label: 1\n",
      "Candidate Link: [15, 21], Predicted Label: 1\n",
      "Candidate Link: [15, 22], Predicted Label: 1\n"
     ]
    }
   ],
   "source": [
    "# Use the trained Random Forest model to predict link existence for candidate links\n",
    "predicted_probs = rf_model.predict_proba(candidate_links)[:, 1]  # Predict probabilities for class 1 (link exists)\n",
    "\n",
    "threshold = 0.5  # You can choose a threshold value based on your preference or requirements\n",
    "predicted_labels = (predicted_probs >= threshold).astype(int)\n",
    "\n",
    "# Combine candidate links and predicted labels\n",
    "links_and_labels = list(zip(candidate_links, predicted_labels))\n",
    "\n",
    "# Sort the candidate links based on predicted labels (1 before 0)\n",
    "sorted_links_and_labels = sorted(links_and_labels, key=lambda x: x[1], reverse=True)\n",
    "\n",
    "# Print the candidate links with link prediction of 1 first, then those with link prediction of 0\n",
    "print(\"Link Predictions:\")\n",
    "for link, label in sorted_links_and_labels:\n",
    "    print(f\"Candidate Link: {link}, Predicted Label: {label}\")"
   ]
  },
  {
   "cell_type": "code",
   "execution_count": null,
   "id": "50abd038",
   "metadata": {},
   "outputs": [],
   "source": []
  },
  {
   "cell_type": "code",
   "execution_count": 40,
   "id": "459b2994",
   "metadata": {},
   "outputs": [],
   "source": [
    "# Close session and driver at the end\n",
    "session.close()\n",
    "driver.close()"
   ]
  }
 ],
 "metadata": {
  "kernelspec": {
   "display_name": "Python 3 (ipykernel)",
   "language": "python",
   "name": "python3"
  },
  "language_info": {
   "codemirror_mode": {
    "name": "ipython",
    "version": 3
   },
   "file_extension": ".py",
   "mimetype": "text/x-python",
   "name": "python",
   "nbconvert_exporter": "python",
   "pygments_lexer": "ipython3",
   "version": "3.7.16"
  }
 },
 "nbformat": 4,
 "nbformat_minor": 5
}
