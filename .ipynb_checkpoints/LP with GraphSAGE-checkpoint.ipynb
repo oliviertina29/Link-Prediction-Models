{
 "cells": [
  {
   "cell_type": "code",
   "execution_count": 1,
   "id": "34350351",
   "metadata": {},
   "outputs": [],
   "source": [
    "import stellargraph as sg\n",
    "from stellargraph.data import EdgeSplitter\n",
    "from stellargraph.mapper import GraphSAGELinkGenerator\n",
    "from stellargraph.layer import GraphSAGE, HinSAGE, link_classification\n",
    "\n",
    "import networkx as nx\n",
    "from tensorflow import keras\n",
    "from sklearn import preprocessing, feature_extraction, model_selection\n",
    "\n",
    "from stellargraph import globalvar\n",
    "from stellargraph import datasets\n",
    "from IPython.display import display, HTML\n",
    "%matplotlib inline"
   ]
  },
  {
   "cell_type": "markdown",
   "id": "df17b21a",
   "metadata": {},
   "source": [
    "## Loading the CORA network data"
   ]
  },
  {
   "cell_type": "code",
   "execution_count": 2,
   "id": "234c38f3",
   "metadata": {},
   "outputs": [
    {
     "data": {
      "text/html": [
       "The Cora dataset consists of 2708 scientific publications classified into one of seven classes. The citation network consists of 5429 links. Each publication in the dataset is described by a 0/1-valued word vector indicating the absence/presence of the corresponding word from the dictionary. The dictionary consists of 1433 unique words."
      ],
      "text/plain": [
       "<IPython.core.display.HTML object>"
      ]
     },
     "metadata": {},
     "output_type": "display_data"
    }
   ],
   "source": [
    "dataset = datasets.Cora()\n",
    "display(HTML(dataset.description))\n",
    "G, _ = dataset.load(subject_as_feature=True)"
   ]
  },
  {
   "cell_type": "code",
   "execution_count": 3,
   "id": "e92c1830",
   "metadata": {},
   "outputs": [
    {
     "name": "stdout",
     "output_type": "stream",
     "text": [
      "StellarGraph: Undirected multigraph\n",
      " Nodes: 2708, Edges: 5429\n",
      "\n",
      " Node types:\n",
      "  paper: [2708]\n",
      "    Features: float32 vector, length 1440\n",
      "    Edge types: paper-cites->paper\n",
      "\n",
      " Edge types:\n",
      "    paper-cites->paper: [5429]\n",
      "        Weights: all 1 (default)\n",
      "        Features: none\n"
     ]
    }
   ],
   "source": [
    "print(G.info())"
   ]
  },
  {
   "cell_type": "code",
   "execution_count": 4,
   "id": "6e77afb6",
   "metadata": {},
   "outputs": [
    {
     "name": "stdout",
     "output_type": "stream",
     "text": [
      "** Sampled 542 positive and 542 negative edges. **\n"
     ]
    }
   ],
   "source": [
    "# Define an edge splitter on the original graph G:\n",
    "edge_splitter_test = EdgeSplitter(G)\n",
    "\n",
    "# Randomly sample a fraction p=0.1 of all positive links, and same number of negative links, from G, and obtain the\n",
    "# reduced graph G_test with the sampled links removed:\n",
    "G_test, edge_ids_test, edge_labels_test = edge_splitter_test.train_test_split(\n",
    "    p=0.1, method=\"global\", keep_connected=True\n",
    ")"
   ]
  },
  {
   "cell_type": "code",
   "execution_count": 5,
   "id": "416a72eb",
   "metadata": {},
   "outputs": [
    {
     "name": "stdout",
     "output_type": "stream",
     "text": [
      "** Sampled 488 positive and 488 negative edges. **\n"
     ]
    }
   ],
   "source": [
    "# Define an edge splitter on the reduced graph G_test:\n",
    "edge_splitter_train = EdgeSplitter(G_test)\n",
    "\n",
    "# Randomly sample a fraction p=0.1 of all positive links, and same number of negative links, from G_test, and obtain the\n",
    "# reduced graph G_train with the sampled links removed:\n",
    "G_train, edge_ids_train, edge_labels_train = edge_splitter_train.train_test_split(\n",
    "    p=0.1, method=\"global\", keep_connected=True\n",
    ")"
   ]
  },
  {
   "cell_type": "code",
   "execution_count": 6,
   "id": "5f8ef7ec",
   "metadata": {},
   "outputs": [
    {
     "name": "stdout",
     "output_type": "stream",
     "text": [
      "StellarGraph: Undirected multigraph\n",
      " Nodes: 2708, Edges: 4399\n",
      "\n",
      " Node types:\n",
      "  paper: [2708]\n",
      "    Features: float32 vector, length 1440\n",
      "    Edge types: paper-cites->paper\n",
      "\n",
      " Edge types:\n",
      "    paper-cites->paper: [4399]\n",
      "        Weights: all 1 (default)\n",
      "        Features: none\n"
     ]
    }
   ],
   "source": [
    "print(G_train.info())"
   ]
  },
  {
   "cell_type": "code",
   "execution_count": 7,
   "id": "1aa98723",
   "metadata": {},
   "outputs": [
    {
     "name": "stdout",
     "output_type": "stream",
     "text": [
      "StellarGraph: Undirected multigraph\n",
      " Nodes: 2708, Edges: 4887\n",
      "\n",
      " Node types:\n",
      "  paper: [2708]\n",
      "    Features: float32 vector, length 1440\n",
      "    Edge types: paper-cites->paper\n",
      "\n",
      " Edge types:\n",
      "    paper-cites->paper: [4887]\n",
      "        Weights: all 1 (default)\n",
      "        Features: none\n"
     ]
    }
   ],
   "source": [
    "print(G_test.info())"
   ]
  },
  {
   "cell_type": "code",
   "execution_count": 8,
   "id": "6e357bf4",
   "metadata": {},
   "outputs": [],
   "source": [
    "# parameters definition\n",
    "\n",
    "batch_size = 20\n",
    "epochs = 20\n",
    "\n",
    "num_samples = [20, 10]"
   ]
  },
  {
   "cell_type": "code",
   "execution_count": 9,
   "id": "37cea172",
   "metadata": {},
   "outputs": [],
   "source": [
    "train_gen = GraphSAGELinkGenerator(G_train, batch_size, num_samples)\n",
    "train_flow = train_gen.flow(edge_ids_train, edge_labels_train, shuffle=True)"
   ]
  },
  {
   "cell_type": "code",
   "execution_count": 10,
   "id": "8e9e6ee2",
   "metadata": {},
   "outputs": [],
   "source": [
    "test_gen = GraphSAGELinkGenerator(G_test, batch_size, num_samples)\n",
    "test_flow = test_gen.flow(edge_ids_test, edge_labels_test)"
   ]
  },
  {
   "cell_type": "code",
   "execution_count": 11,
   "id": "69927a1c",
   "metadata": {},
   "outputs": [],
   "source": [
    "layer_sizes = [20, 20]\n",
    "graphsage = GraphSAGE(\n",
    "    layer_sizes=layer_sizes, generator=train_gen, bias=True, dropout=0.3\n",
    ")"
   ]
  },
  {
   "cell_type": "code",
   "execution_count": 12,
   "id": "5e98dca7",
   "metadata": {},
   "outputs": [
    {
     "name": "stderr",
     "output_type": "stream",
     "text": [
      "C:\\Users\\olivi\\anaconda3\\envs\\Py_env\\lib\\site-packages\\keras\\initializers\\initializers_v2.py:121: UserWarning: The initializer GlorotUniform is unseeded and being called multiple times, which will return identical values  each time (even if the initializer is unseeded). Please update your code to provide a seed to the initializer, or avoid using the same initalizer instance more than once.\n",
      "  f\"The initializer {self.__class__.__name__} is unseeded \"\n"
     ]
    }
   ],
   "source": [
    "# Build the model and expose input and output sockets of graphsage model\n",
    "# for link prediction\n",
    "x_inp, x_out = graphsage.in_out_tensors()"
   ]
  },
  {
   "cell_type": "code",
   "execution_count": 13,
   "id": "143fa37a",
   "metadata": {},
   "outputs": [
    {
     "name": "stdout",
     "output_type": "stream",
     "text": [
      "link_classification: using 'ip' method to combine node embeddings into edge embeddings\n"
     ]
    }
   ],
   "source": [
    "prediction = link_classification(\n",
    "    output_dim=1, output_act=\"relu\", edge_embedding_method=\"ip\"\n",
    ")(x_out)"
   ]
  },
  {
   "cell_type": "markdown",
   "id": "69bb2db5",
   "metadata": {},
   "source": [
    "## Stack the GraphSAGE and prediction layers into a Keras model, and specify the loss"
   ]
  },
  {
   "cell_type": "code",
   "execution_count": 14,
   "id": "fed28dc9",
   "metadata": {},
   "outputs": [],
   "source": [
    "model = keras.Model(inputs=x_inp, outputs=prediction)\n",
    "\n",
    "model.compile(\n",
    "    optimizer=keras.optimizers.Adam(learning_rate=1e-3),\n",
    "    loss=keras.losses.binary_crossentropy,\n",
    "    metrics=[\"acc\"],\n",
    ")"
   ]
  },
  {
   "cell_type": "markdown",
   "id": "905ba8a6",
   "metadata": {},
   "source": [
    "## Evaluate the initial (untrained) model on the train and test set"
   ]
  },
  {
   "cell_type": "code",
   "execution_count": null,
   "id": "d6bb8a16",
   "metadata": {},
   "outputs": [],
   "source": [
    "init_train_metrics = model.evaluate(train_flow)\n",
    "init_test_metrics = model.evaluate(test_flow)\n",
    "\n",
    "print(\"\\nTrain Set Metrics of the initial (untrained) model:\")\n",
    "for name, val in zip(model.metrics_names, init_train_metrics):\n",
    "    print(\"\\t{}: {:0.4f}\".format(name, val))\n",
    "\n",
    "print(\"\\nTest Set Metrics of the initial (untrained) model:\")\n",
    "for name, val in zip(model.metrics_names, init_test_metrics):\n",
    "    print(\"\\t{}: {:0.4f}\".format(name, val))"
   ]
  },
  {
   "cell_type": "markdown",
   "id": "c72de04a",
   "metadata": {},
   "source": [
    "## Train the model"
   ]
  },
  {
   "cell_type": "code",
   "execution_count": 46,
   "id": "4cf393cb",
   "metadata": {},
   "outputs": [
    {
     "name": "stdout",
     "output_type": "stream",
     "text": [
      "Epoch 1/20\n",
      "49/49 - 14s - loss: 0.7444 - acc: 0.6086 - val_loss: 0.6572 - val_acc: 0.6079 - 14s/epoch - 290ms/step\n",
      "Epoch 2/20\n",
      "49/49 - 11s - loss: 0.5910 - acc: 0.6967 - val_loss: 0.5359 - val_acc: 0.7232 - 11s/epoch - 235ms/step\n",
      "Epoch 3/20\n",
      "49/49 - 11s - loss: 0.5327 - acc: 0.7428 - val_loss: 0.6251 - val_acc: 0.6375 - 11s/epoch - 230ms/step\n",
      "Epoch 4/20\n",
      "49/49 - 12s - loss: 0.4982 - acc: 0.7613 - val_loss: 0.5576 - val_acc: 0.6956 - 12s/epoch - 242ms/step\n",
      "Epoch 5/20\n",
      "49/49 - 12s - loss: 0.4033 - acc: 0.8330 - val_loss: 0.4998 - val_acc: 0.7426 - 12s/epoch - 253ms/step\n",
      "Epoch 6/20\n",
      "49/49 - 12s - loss: 0.3714 - acc: 0.8719 - val_loss: 0.4774 - val_acc: 0.7537 - 12s/epoch - 247ms/step\n",
      "Epoch 7/20\n",
      "49/49 - 12s - loss: 0.3644 - acc: 0.8893 - val_loss: 0.4820 - val_acc: 0.7629 - 12s/epoch - 244ms/step\n",
      "Epoch 8/20\n",
      "49/49 - 12s - loss: 0.3227 - acc: 0.8965 - val_loss: 0.4871 - val_acc: 0.7712 - 12s/epoch - 245ms/step\n",
      "Epoch 9/20\n",
      "49/49 - 12s - loss: 0.3055 - acc: 0.9139 - val_loss: 0.4646 - val_acc: 0.7648 - 12s/epoch - 249ms/step\n",
      "Epoch 10/20\n",
      "49/49 - 12s - loss: 0.2845 - acc: 0.9211 - val_loss: 0.4694 - val_acc: 0.7768 - 12s/epoch - 248ms/step\n",
      "Epoch 11/20\n",
      "49/49 - 14s - loss: 0.2700 - acc: 0.9314 - val_loss: 0.4670 - val_acc: 0.7768 - 14s/epoch - 278ms/step\n",
      "Epoch 12/20\n",
      "49/49 - 19s - loss: 0.2621 - acc: 0.9365 - val_loss: 0.4781 - val_acc: 0.7666 - 19s/epoch - 397ms/step\n",
      "Epoch 13/20\n",
      "49/49 - 16s - loss: 0.2502 - acc: 0.9252 - val_loss: 0.4820 - val_acc: 0.7703 - 16s/epoch - 324ms/step\n",
      "Epoch 14/20\n",
      "49/49 - 17s - loss: 0.2416 - acc: 0.9488 - val_loss: 0.4714 - val_acc: 0.7731 - 17s/epoch - 339ms/step\n",
      "Epoch 15/20\n",
      "49/49 - 15s - loss: 0.2219 - acc: 0.9611 - val_loss: 0.4776 - val_acc: 0.7703 - 15s/epoch - 313ms/step\n",
      "Epoch 16/20\n",
      "49/49 - 15s - loss: 0.2135 - acc: 0.9600 - val_loss: 0.4853 - val_acc: 0.7777 - 15s/epoch - 311ms/step\n",
      "Epoch 17/20\n",
      "49/49 - 15s - loss: 0.2802 - acc: 0.9283 - val_loss: 0.5614 - val_acc: 0.6891 - 15s/epoch - 313ms/step\n",
      "Epoch 18/20\n",
      "49/49 - 16s - loss: 0.2802 - acc: 0.9150 - val_loss: 0.4919 - val_acc: 0.7509 - 16s/epoch - 333ms/step\n",
      "Epoch 19/20\n",
      "49/49 - 15s - loss: 0.2336 - acc: 0.9539 - val_loss: 0.4766 - val_acc: 0.7675 - 15s/epoch - 301ms/step\n",
      "Epoch 20/20\n",
      "49/49 - 17s - loss: 0.2092 - acc: 0.9600 - val_loss: 0.4705 - val_acc: 0.7740 - 17s/epoch - 337ms/step\n"
     ]
    }
   ],
   "source": [
    "history = model.fit(train_flow, epochs=epochs, validation_data=test_flow, verbose=2)"
   ]
  },
  {
   "cell_type": "code",
   "execution_count": 47,
   "id": "6e0a021b",
   "metadata": {},
   "outputs": [
    {
     "data": {
      "image/png": "[encoded data removed]",
      "text/plain": [
       "<Figure size 700x800 with 2 Axes>"
      ]
     },
     "metadata": {},
     "output_type": "display_data"
    }
   ],
   "source": [
    "sg.utils.plot_history(history)"
   ]
  },
  {
   "cell_type": "markdown",
   "id": "aa3c1422",
   "metadata": {},
   "source": [
    "## Evaluate the trained model on test citation links"
   ]
  },
  {
   "cell_type": "code",
   "execution_count": 48,
   "id": "c0269736",
   "metadata": {},
   "outputs": [
    {
     "name": "stdout",
     "output_type": "stream",
     "text": [
      "49/49 [==============================] - 4s 74ms/step - loss: 0.1139 - acc: 0.9826\n",
      "55/55 [==============================] - 4s 70ms/step - loss: 0.4839 - acc: 0.7685\n",
      "\n",
      "Train Set Metrics of the trained model:\n",
      "\tloss: 0.1139\n",
      "\tacc: 0.9826\n",
      "\n",
      "Test Set Metrics of the trained model:\n",
      "\tloss: 0.4839\n",
      "\tacc: 0.7685\n"
     ]
    }
   ],
   "source": [
    "train_metrics = model.evaluate(train_flow)\n",
    "test_metrics = model.evaluate(test_flow)\n",
    "\n",
    "print(\"\\nTrain Set Metrics of the trained model:\")\n",
    "for name, val in zip(model.metrics_names, train_metrics):\n",
    "    print(\"\\t{}: {:0.4f}\".format(name, val))\n",
    "\n",
    "print(\"\\nTest Set Metrics of the trained model:\")\n",
    "for name, val in zip(model.metrics_names, test_metrics):\n",
    "    print(\"\\t{}: {:0.4f}\".format(name, val))"
   ]
  },
  {
   "cell_type": "code",
   "execution_count": null,
   "id": "9444f841",
   "metadata": {},
   "outputs": [],
   "source": []
  }
 ],
 "metadata": {
  "kernelspec": {
   "display_name": "Python 3 (ipykernel)",
   "language": "python",
   "name": "python3"
  },
  "language_info": {
   "codemirror_mode": {
    "name": "ipython",
    "version": 3
   },
   "file_extension": ".py",
   "mimetype": "text/x-python",
   "name": "python",
   "nbconvert_exporter": "python",
   "pygments_lexer": "ipython3",
   "version": "3.7.16"
  }
 },
 "nbformat": 4,
 "nbformat_minor": 5
}
