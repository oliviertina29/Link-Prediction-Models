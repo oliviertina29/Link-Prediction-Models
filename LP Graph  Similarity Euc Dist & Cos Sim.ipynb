{
 "cells": [
  {
   "cell_type": "markdown",
   "id": "84843a6a",
   "metadata": {},
   "source": [
    "## Importing Libraries"
   ]
  },
  {
   "cell_type": "code",
   "execution_count": 60,
   "id": "2642dc6c",
   "metadata": {},
   "outputs": [],
   "source": [
    "import torch\n",
    "import torch.nn as nn\n",
    "import torch.optim as optim"
   ]
  },
  {
   "cell_type": "code",
   "execution_count": 61,
   "id": "be889dda",
   "metadata": {},
   "outputs": [],
   "source": [
    "import pandas as pd\n",
    "import numpy as np\n",
    "import networkx as nx\n",
    "from neo4j import GraphDatabase\n",
    "from sklearn.model_selection import train_test_split\n",
    "from sklearn.linear_model import LogisticRegression\n",
    "from sklearn.metrics import classification_report, accuracy_score\n",
    "from sklearn.metrics.pairwise import cosine_similarity, euclidean_distances"
   ]
  },
  {
   "cell_type": "markdown",
   "id": "08458b5d",
   "metadata": {},
   "source": [
    "## Connecting to the neo4j database"
   ]
  },
  {
   "cell_type": "code",
   "execution_count": 63,
   "id": "37c9e658",
   "metadata": {},
   "outputs": [],
   "source": [
    "uri = \"bolt://localhost:7687\"\n",
    "username = \"neo4j\"\n",
    "password = \"OLIV00%%\"\n",
    "\n",
    "driver = GraphDatabase.driver(uri, auth=(username, password))"
   ]
  },
  {
   "cell_type": "markdown",
   "id": "0c7c2626",
   "metadata": {},
   "source": [
    "## Retrieving the graph data from Neo4j and dataset preparation"
   ]
  },
  {
   "cell_type": "code",
   "execution_count": 64,
   "id": "ed5181d9",
   "metadata": {},
   "outputs": [],
   "source": [
    "graph = nx.Graph()\n",
    "\n",
    "with driver.session() as session:\n",
    "    # Récupérer les nœuds avec leur nom et type\n",
    "    nodes_query = \"MATCH (n) RETURN ID(n) AS id, n.name AS name, n.type AS type\"\n",
    "    nodes_result = session.run(nodes_query)\n",
    "\n",
    "    # Parcourir les résultats et ajouter les nœuds au graphe\n",
    "    for record in nodes_result:\n",
    "        node_id = record[\"id\"]\n",
    "        node_name = record[\"name\"]\n",
    "        node_type = record[\"type\"]\n",
    "        if node_id is not None:\n",
    "            graph.add_node(node_id, name=node_name, type=node_type)\n",
    "\n",
    "    # Récupérer les relations\n",
    "    relations_query = \"MATCH ()-[r]->() RETURN ID(startNode(r)) AS source_id, ID(endNode(r)) AS target_id\"\n",
    "    relations_result = session.run(relations_query)\n",
    "\n",
    "    # Ajouter les relations entre les nœuds\n",
    "    for record in relations_result:\n",
    "        source_node_id = record[\"source_id\"]\n",
    "        target_node_id = record[\"target_id\"]\n",
    "        if source_node_id is not None and target_node_id is not None:\n",
    "            graph.add_edge(source_node_id, target_node_id)"
   ]
  },
  {
   "cell_type": "code",
   "execution_count": 65,
   "id": "26eab0a3",
   "metadata": {},
   "outputs": [],
   "source": [
    "# Convert the graph to a pandas DataFrame\n",
    "df = pd.DataFrame(graph.nodes(data=True), columns=[\"node_id\", \"attributes\"])\n",
    "df[\"node_type\"] = df[\"attributes\"].apply(lambda x: x.get(\"type\"))\n",
    "df[\"node_name\"] = df[\"attributes\"].apply(lambda x: x.get(\"name\"))\n",
    "\n",
    "# Drop the unnecessary 'attributes' column\n",
    "df.drop(columns=[\"attributes\"], inplace=True)\n",
    "\n",
    "# Check if the DataFrame is empty\n",
    "if df.empty:\n",
    "    raise ValueError(\"The dataset is empty. Please check your Neo4j query and data.\")\n",
    "\n",
    "# Split the dataset into training and testing sets\n",
    "train_df, test_df = train_test_split(df, test_size=0.2, random_state=42)\n"
   ]
  },
  {
   "cell_type": "code",
   "execution_count": 66,
   "id": "81a47df9",
   "metadata": {},
   "outputs": [
    {
     "data": {
      "text/html": [
       "<div>\n",
       "<style scoped>\n",
       "    .dataframe tbody tr th:only-of-type {\n",
       "        vertical-align: middle;\n",
       "    }\n",
       "\n",
       "    .dataframe tbody tr th {\n",
       "        vertical-align: top;\n",
       "    }\n",
       "\n",
       "    .dataframe thead th {\n",
       "        text-align: right;\n",
       "    }\n",
       "</style>\n",
       "<table border=\"1\" class=\"dataframe\">\n",
       "  <thead>\n",
       "    <tr style=\"text-align: right;\">\n",
       "      <th></th>\n",
       "      <th>node_id</th>\n",
       "      <th>node_type</th>\n",
       "      <th>node_name</th>\n",
       "    </tr>\n",
       "  </thead>\n",
       "  <tbody>\n",
       "    <tr>\n",
       "      <th>0</th>\n",
       "      <td>0</td>\n",
       "      <td>fftvInterval</td>\n",
       "      <td>Iv1</td>\n",
       "    </tr>\n",
       "    <tr>\n",
       "      <th>1</th>\n",
       "      <td>1</td>\n",
       "      <td>fftvInterval</td>\n",
       "      <td>Iv2</td>\n",
       "    </tr>\n",
       "    <tr>\n",
       "      <th>2</th>\n",
       "      <td>2</td>\n",
       "      <td>fftvInterval</td>\n",
       "      <td>Iv3</td>\n",
       "    </tr>\n",
       "    <tr>\n",
       "      <th>3</th>\n",
       "      <td>3</td>\n",
       "      <td>fftvInterval</td>\n",
       "      <td>Iv4</td>\n",
       "    </tr>\n",
       "    <tr>\n",
       "      <th>4</th>\n",
       "      <td>4</td>\n",
       "      <td>fftvInterval</td>\n",
       "      <td>Iv5</td>\n",
       "    </tr>\n",
       "  </tbody>\n",
       "</table>\n",
       "</div>"
      ],
      "text/plain": [
       "   node_id     node_type node_name\n",
       "0        0  fftvInterval       Iv1\n",
       "1        1  fftvInterval       Iv2\n",
       "2        2  fftvInterval       Iv3\n",
       "3        3  fftvInterval       Iv4\n",
       "4        4  fftvInterval       Iv5"
      ]
     },
     "execution_count": 66,
     "metadata": {},
     "output_type": "execute_result"
    }
   ],
   "source": [
    "df.head()"
   ]
  },
  {
   "cell_type": "markdown",
   "id": "1e1aea0e",
   "metadata": {},
   "source": [
    "## Generating graph embeddings using Neo4j's GDS library"
   ]
  },
  {
   "cell_type": "code",
   "execution_count": 67,
   "id": "e0457963",
   "metadata": {},
   "outputs": [],
   "source": [
    "with driver.session() as session:\n",
    "    # Create a graph projection for link prediction using GDS\n",
    "    session.run(\"CALL gds.graph.project('link_prediction_graph', '*', '*')\")"
   ]
  },
  {
   "cell_type": "code",
   "execution_count": 68,
   "id": "6b96140e",
   "metadata": {},
   "outputs": [],
   "source": [
    "with driver.session() as session:\n",
    "    # Compute graph embeddings using Node2Vec algorithm\n",
    "    session.run(\"\"\"\n",
    "        CALL gds.beta.node2vec.stream('link_prediction_graph', {\n",
    "            embeddingDimension: 64,\n",
    "            iterations: 10,\n",
    "            walkLength: 20,\n",
    "            inOutFactor: 1.0,\n",
    "            returnFactor: 1.0\n",
    "        })\n",
    "    \"\"\")"
   ]
  },
  {
   "cell_type": "markdown",
   "id": "7313dbdf",
   "metadata": {},
   "source": [
    "## Fetch the graph embeddings "
   ]
  },
  {
   "cell_type": "code",
   "execution_count": 69,
   "id": "576ec70c",
   "metadata": {},
   "outputs": [],
   "source": [
    "# Create an empty list to store the node embeddings\n",
    "node_embeddings = []\n",
    "\n",
    "# Compute graph embeddings using Node2Vec algorithm and fetch the embeddings\n",
    "with driver.session() as session:\n",
    "    result = session.run(\"\"\"\n",
    "        CALL gds.beta.node2vec.stream('link_prediction_graph', {\n",
    "            embeddingDimension: 64,\n",
    "            iterations: 10,\n",
    "            walkLength: 20,\n",
    "            inOutFactor: 1.0,\n",
    "            returnFactor: 1.0\n",
    "        })\n",
    "        YIELD nodeId, embedding\n",
    "        RETURN nodeId, gds.util.asNode(nodeId).name AS node_name, gds.util.asNode(nodeId).type AS node_type, embedding\n",
    "    \"\"\")\n",
    "\n",
    "    # Iterate through the result and append embeddings to the list\n",
    "    for record in result:\n",
    "        node_id = record[\"nodeId\"]\n",
    "        node_name = record[\"node_name\"]\n",
    "        node_type = record[\"node_type\"]\n",
    "        embedding = record[\"embedding\"]\n",
    "        node_embeddings.append((node_id, node_name, node_type, embedding))\n",
    "\n",
    "# Create a DataFrame to store the node embeddings\n",
    "columns = [\"node_id\", \"node_name\", \"node_type\", \"embedding\"]\n",
    "node_embeddings_df = pd.DataFrame(node_embeddings, columns=columns)"
   ]
  },
  {
   "cell_type": "code",
   "execution_count": 70,
   "id": "d2406da7",
   "metadata": {},
   "outputs": [
    {
     "data": {
      "text/html": [
       "<div>\n",
       "<style scoped>\n",
       "    .dataframe tbody tr th:only-of-type {\n",
       "        vertical-align: middle;\n",
       "    }\n",
       "\n",
       "    .dataframe tbody tr th {\n",
       "        vertical-align: top;\n",
       "    }\n",
       "\n",
       "    .dataframe thead th {\n",
       "        text-align: right;\n",
       "    }\n",
       "</style>\n",
       "<table border=\"1\" class=\"dataframe\">\n",
       "  <thead>\n",
       "    <tr style=\"text-align: right;\">\n",
       "      <th></th>\n",
       "      <th>node_id</th>\n",
       "      <th>node_name</th>\n",
       "      <th>node_type</th>\n",
       "      <th>embedding</th>\n",
       "    </tr>\n",
       "  </thead>\n",
       "  <tbody>\n",
       "    <tr>\n",
       "      <th>0</th>\n",
       "      <td>0</td>\n",
       "      <td>Iv1</td>\n",
       "      <td>fftvInterval</td>\n",
       "      <td>[-0.0012790472246706486, 0.0038480537477880716...</td>\n",
       "    </tr>\n",
       "    <tr>\n",
       "      <th>1</th>\n",
       "      <td>1</td>\n",
       "      <td>Iv2</td>\n",
       "      <td>fftvInterval</td>\n",
       "      <td>[-0.0007773544639348984, -0.006434565410017967...</td>\n",
       "    </tr>\n",
       "    <tr>\n",
       "      <th>2</th>\n",
       "      <td>2</td>\n",
       "      <td>Iv3</td>\n",
       "      <td>fftvInterval</td>\n",
       "      <td>[-0.0006931481184437871, -0.002473310101777315...</td>\n",
       "    </tr>\n",
       "    <tr>\n",
       "      <th>3</th>\n",
       "      <td>3</td>\n",
       "      <td>Iv4</td>\n",
       "      <td>fftvInterval</td>\n",
       "      <td>[-0.0011693515116348863, 0.002924727974459529,...</td>\n",
       "    </tr>\n",
       "    <tr>\n",
       "      <th>4</th>\n",
       "      <td>4</td>\n",
       "      <td>Iv5</td>\n",
       "      <td>fftvInterval</td>\n",
       "      <td>[-0.0010751865338534117, -0.010924862697720528...</td>\n",
       "    </tr>\n",
       "  </tbody>\n",
       "</table>\n",
       "</div>"
      ],
      "text/plain": [
       "   node_id node_name     node_type  \\\n",
       "0        0       Iv1  fftvInterval   \n",
       "1        1       Iv2  fftvInterval   \n",
       "2        2       Iv3  fftvInterval   \n",
       "3        3       Iv4  fftvInterval   \n",
       "4        4       Iv5  fftvInterval   \n",
       "\n",
       "                                           embedding  \n",
       "0  [-0.0012790472246706486, 0.0038480537477880716...  \n",
       "1  [-0.0007773544639348984, -0.006434565410017967...  \n",
       "2  [-0.0006931481184437871, -0.002473310101777315...  \n",
       "3  [-0.0011693515116348863, 0.002924727974459529,...  \n",
       "4  [-0.0010751865338534117, -0.010924862697720528...  "
      ]
     },
     "execution_count": 70,
     "metadata": {},
     "output_type": "execute_result"
    }
   ],
   "source": [
    "node_embeddings_df.head()"
   ]
  },
  {
   "cell_type": "code",
   "execution_count": 71,
   "id": "04959b8a",
   "metadata": {},
   "outputs": [
    {
     "name": "stdout",
     "output_type": "stream",
     "text": [
      "Column names in train_df: Index(['node_id', 'node_type', 'node_name'], dtype='object')\n",
      "Column names in node_embeddings_df: Index(['node_id', 'node_name', 'node_type', 'embedding'], dtype='object')\n"
     ]
    }
   ],
   "source": [
    "print(\"Column names in train_df:\", train_df.columns)\n",
    "print(\"Column names in node_embeddings_df:\", node_embeddings_df.columns)"
   ]
  },
  {
   "cell_type": "markdown",
   "id": "ffe74081",
   "metadata": {},
   "source": [
    "## Similarities"
   ]
  },
  {
   "cell_type": "code",
   "execution_count": 72,
   "id": "d83ab2fa",
   "metadata": {},
   "outputs": [
    {
     "data": {
      "text/html": [
       "<div>\n",
       "<style scoped>\n",
       "    .dataframe tbody tr th:only-of-type {\n",
       "        vertical-align: middle;\n",
       "    }\n",
       "\n",
       "    .dataframe tbody tr th {\n",
       "        vertical-align: top;\n",
       "    }\n",
       "\n",
       "    .dataframe thead th {\n",
       "        text-align: right;\n",
       "    }\n",
       "</style>\n",
       "<table border=\"1\" class=\"dataframe\">\n",
       "  <thead>\n",
       "    <tr style=\"text-align: right;\">\n",
       "      <th></th>\n",
       "      <th>Imbalance</th>\n",
       "      <th>Structural fault</th>\n",
       "      <th>Misalignment</th>\n",
       "      <th>looseness</th>\n",
       "      <th>Bearing Fault</th>\n",
       "      <th>Gear Fault</th>\n",
       "    </tr>\n",
       "  </thead>\n",
       "  <tbody>\n",
       "    <tr>\n",
       "      <th>Pump</th>\n",
       "      <td>0.280931</td>\n",
       "      <td>0.243133</td>\n",
       "      <td>0.351113</td>\n",
       "      <td>0.348986</td>\n",
       "      <td>0.155556</td>\n",
       "      <td>0.371646</td>\n",
       "    </tr>\n",
       "    <tr>\n",
       "      <th>Fan</th>\n",
       "      <td>0.290364</td>\n",
       "      <td>0.386825</td>\n",
       "      <td>0.480342</td>\n",
       "      <td>0.568085</td>\n",
       "      <td>0.573036</td>\n",
       "      <td>0.536192</td>\n",
       "    </tr>\n",
       "    <tr>\n",
       "      <th>Engine</th>\n",
       "      <td>0.396605</td>\n",
       "      <td>0.393788</td>\n",
       "      <td>0.324915</td>\n",
       "      <td>0.639001</td>\n",
       "      <td>0.460977</td>\n",
       "      <td>0.383681</td>\n",
       "    </tr>\n",
       "  </tbody>\n",
       "</table>\n",
       "</div>"
      ],
      "text/plain": [
       "        Imbalance  Structural fault  Misalignment  looseness  Bearing Fault  \\\n",
       "Pump     0.280931          0.243133      0.351113   0.348986       0.155556   \n",
       "Fan      0.290364          0.386825      0.480342   0.568085       0.573036   \n",
       "Engine   0.396605          0.393788      0.324915   0.639001       0.460977   \n",
       "\n",
       "        Gear Fault  \n",
       "Pump      0.371646  \n",
       "Fan       0.536192  \n",
       "Engine    0.383681  "
      ]
     },
     "execution_count": 72,
     "metadata": {},
     "output_type": "execute_result"
    }
   ],
   "source": [
    "# Separate the nodes of type \"component\" and nodes of types \"failure\" and \"ambalance\"\n",
    "component_nodes = node_embeddings_df[node_embeddings_df[\"node_type\"] == \"Component\"]\n",
    "failure_ambalance_nodes = node_embeddings_df[node_embeddings_df[\"node_type\"].isin([\"Failure\", \"Imbalance\"])]\n",
    "\n",
    "# Extract embeddings for each set of nodes\n",
    "component_embeddings = component_nodes[\"embedding\"].tolist()\n",
    "failure_ambalance_embeddings = failure_ambalance_nodes[\"embedding\"].tolist()\n",
    "\n",
    "# Check if embeddings are not empty\n",
    "if not component_embeddings or not failure_ambalance_embeddings:\n",
    "    print(\"Some embeddings are empty. Check if the Node2Vec computation was successful and if nodes of required types exist.\")\n",
    "else:\n",
    "    # Compute the similarity between the embeddings using cosine similarity\n",
    "    similarity_matrix = cosine_similarity(component_embeddings, failure_ambalance_embeddings)\n",
    "\n",
    "    # Create a DataFrame to store the similarity scores with node names as index and columns\n",
    "    similarity_df = pd.DataFrame(similarity_matrix, columns=failure_ambalance_nodes[\"node_name\"].tolist(), index=component_nodes[\"node_name\"].tolist())\n",
    "\n",
    "    # Display the similarity DataFrame with node names\n",
    "    \n",
    "similarity_df"
   ]
  },
  {
   "cell_type": "code",
   "execution_count": 73,
   "id": "3bdfff38",
   "metadata": {},
   "outputs": [
    {
     "name": "stdout",
     "output_type": "stream",
     "text": [
      "Engine ===== leads to =====> Imbalance\n",
      "\n",
      "Engine ===== leads to =====> Structural fault\n",
      "\n",
      "Fan ===== leads to =====> Misalignment\n",
      "\n",
      "Engine ===== leads to =====> looseness\n",
      "\n",
      "Fan ===== leads to =====> Bearing Fault\n",
      "\n",
      "Fan ===== leads to =====> Gear Fault\n",
      "\n"
     ]
    }
   ],
   "source": [
    "# Find the maximum similarity value for each column\n",
    "max_similarities = similarity_df.max(axis=0)\n",
    "\n",
    "# Iterate through each column and find the corresponding row(s) with the maximum value\n",
    "for column in max_similarities.index:\n",
    "    max_similarity = max_similarities[column]\n",
    "    max_rows = similarity_df[similarity_df[column] == max_similarity].index.tolist()\n",
    "    \n",
    "    # Print the result\n",
    "    if len(max_rows) == 1:\n",
    "        print(f\"{max_rows[0]} ===== leads to =====> {column}\")\n",
    "    else:\n",
    "        rows_str = \", \".join(max_rows)\n",
    "        print(f\"{rows_str} ===== leads to =====>{column}\")\n",
    "    print()"
   ]
  },
  {
   "cell_type": "code",
   "execution_count": 74,
   "id": "5b1a9934",
   "metadata": {},
   "outputs": [
    {
     "data": {
      "text/html": [
       "<div>\n",
       "<style scoped>\n",
       "    .dataframe tbody tr th:only-of-type {\n",
       "        vertical-align: middle;\n",
       "    }\n",
       "\n",
       "    .dataframe tbody tr th {\n",
       "        vertical-align: top;\n",
       "    }\n",
       "\n",
       "    .dataframe thead th {\n",
       "        text-align: right;\n",
       "    }\n",
       "</style>\n",
       "<table border=\"1\" class=\"dataframe\">\n",
       "  <thead>\n",
       "    <tr style=\"text-align: right;\">\n",
       "      <th></th>\n",
       "      <th>Imbalance</th>\n",
       "      <th>Structural fault</th>\n",
       "      <th>Misalignment</th>\n",
       "      <th>looseness</th>\n",
       "      <th>Bearing Fault</th>\n",
       "      <th>Gear Fault</th>\n",
       "    </tr>\n",
       "  </thead>\n",
       "  <tbody>\n",
       "    <tr>\n",
       "      <th>Pump</th>\n",
       "      <td>0.053000</td>\n",
       "      <td>0.053052</td>\n",
       "      <td>0.054528</td>\n",
       "      <td>0.048762</td>\n",
       "      <td>0.059751</td>\n",
       "      <td>0.053660</td>\n",
       "    </tr>\n",
       "    <tr>\n",
       "      <th>Fan</th>\n",
       "      <td>0.057632</td>\n",
       "      <td>0.052623</td>\n",
       "      <td>0.052484</td>\n",
       "      <td>0.044053</td>\n",
       "      <td>0.046166</td>\n",
       "      <td>0.049566</td>\n",
       "    </tr>\n",
       "    <tr>\n",
       "      <th>Engine</th>\n",
       "      <td>0.053329</td>\n",
       "      <td>0.052492</td>\n",
       "      <td>0.059957</td>\n",
       "      <td>0.040529</td>\n",
       "      <td>0.052007</td>\n",
       "      <td>0.057265</td>\n",
       "    </tr>\n",
       "  </tbody>\n",
       "</table>\n",
       "</div>"
      ],
      "text/plain": [
       "        Imbalance  Structural fault  Misalignment  looseness  Bearing Fault  \\\n",
       "Pump     0.053000          0.053052      0.054528   0.048762       0.059751   \n",
       "Fan      0.057632          0.052623      0.052484   0.044053       0.046166   \n",
       "Engine   0.053329          0.052492      0.059957   0.040529       0.052007   \n",
       "\n",
       "        Gear Fault  \n",
       "Pump      0.053660  \n",
       "Fan       0.049566  \n",
       "Engine    0.057265  "
      ]
     },
     "execution_count": 74,
     "metadata": {},
     "output_type": "execute_result"
    }
   ],
   "source": [
    "# Separate the nodes of type \"component\" and nodes of types \"failure\" and \"ambalance\"\n",
    "component_nodes = node_embeddings_df[node_embeddings_df[\"node_type\"] == \"Component\"]\n",
    "failure_ambalance_nodes = node_embeddings_df[node_embeddings_df[\"node_type\"].isin([\"Failure\", \"Imbalance\"])]\n",
    "\n",
    "# Extract embeddings for each set of nodes\n",
    "component_embeddings = component_nodes[\"embedding\"].tolist()\n",
    "failure_ambalance_embeddings = failure_ambalance_nodes[\"embedding\"].tolist()\n",
    "\n",
    "# Check if embeddings are not empty\n",
    "if not component_embeddings or not failure_ambalance_embeddings:\n",
    "    print(\"Some embeddings are empty. Check if the Node2Vec computation was successful and if nodes of required types exist.\")\n",
    "else:\n",
    "    # Compute the similarity between the embeddings using euclidean distance\n",
    "    similarity_matrix = euclidean_distances(component_embeddings, failure_ambalance_embeddings)\n",
    "\n",
    "    # Create a DataFrame to store the similarity scores with node names as index and columns\n",
    "    similarity_df = pd.DataFrame(similarity_matrix, columns=failure_ambalance_nodes[\"node_name\"].tolist(), index=component_nodes[\"node_name\"].tolist())\n",
    "\n",
    "    # Display the similarity DataFrame with node names\n",
    "similarity_df"
   ]
  },
  {
   "cell_type": "code",
   "execution_count": 75,
   "id": "f7bb6975",
   "metadata": {},
   "outputs": [
    {
     "name": "stdout",
     "output_type": "stream",
     "text": [
      "Fan ===== leads to =====> Imbalance\n",
      "\n",
      "Pump ===== leads to =====> Structural fault\n",
      "\n",
      "Engine ===== leads to =====> Misalignment\n",
      "\n",
      "Pump ===== leads to =====> looseness\n",
      "\n",
      "Pump ===== leads to =====> Bearing Fault\n",
      "\n",
      "Engine ===== leads to =====> Gear Fault\n",
      "\n"
     ]
    }
   ],
   "source": [
    "# Find the maximum similarity value for each column\n",
    "max_similarities = similarity_df.max(axis=0)\n",
    "\n",
    "# Iterate through each column and find the corresponding row(s) with the maximum value\n",
    "for column in max_similarities.index:\n",
    "    max_similarity = max_similarities[column]\n",
    "    max_rows = similarity_df[similarity_df[column] == max_similarity].index.tolist()\n",
    "    \n",
    "    # Print the result\n",
    "    if len(max_rows) == 1:\n",
    "        print(f\"{max_rows[0]} ===== leads to =====> {column}\")\n",
    "    else:\n",
    "        rows_str = \", \".join(max_rows)\n",
    "        print(f\"{rows_str} ===== leads to =====> {column}\")\n",
    "    print()"
   ]
  },
  {
   "cell_type": "code",
   "execution_count": null,
   "id": "f9760de8",
   "metadata": {},
   "outputs": [],
   "source": []
  },
  {
   "cell_type": "code",
   "execution_count": null,
   "id": "1dd92f5c",
   "metadata": {},
   "outputs": [],
   "source": []
  },
  {
   "cell_type": "code",
   "execution_count": 56,
   "id": "1670f509",
   "metadata": {},
   "outputs": [
    {
     "ename": "NameError",
     "evalue": "name 'adj_matrix' is not defined",
     "output_type": "error",
     "traceback": [
      "\u001b[1;31m---------------------------------------------------------------------------\u001b[0m",
      "\u001b[1;31mNameError\u001b[0m                                 Traceback (most recent call last)",
      "\u001b[1;32m~\\AppData\\Local\\Temp\\ipykernel_8068\\3942900543.py\u001b[0m in \u001b[0;36m<module>\u001b[1;34m\u001b[0m\n\u001b[0;32m     13\u001b[0m     \u001b[1;32mfor\u001b[0m \u001b[0mj\u001b[0m \u001b[1;32min\u001b[0m \u001b[0mrange\u001b[0m\u001b[1;33m(\u001b[0m\u001b[0mi\u001b[0m \u001b[1;33m+\u001b[0m \u001b[1;36m1\u001b[0m\u001b[1;33m,\u001b[0m \u001b[0mnum_nodes\u001b[0m\u001b[1;33m)\u001b[0m\u001b[1;33m:\u001b[0m\u001b[1;33m\u001b[0m\u001b[1;33m\u001b[0m\u001b[0m\n\u001b[0;32m     14\u001b[0m         \u001b[0mX\u001b[0m\u001b[1;33m[\u001b[0m\u001b[0mcount\u001b[0m\u001b[1;33m]\u001b[0m \u001b[1;33m=\u001b[0m \u001b[0mnp\u001b[0m\u001b[1;33m.\u001b[0m\u001b[0mabs\u001b[0m\u001b[1;33m(\u001b[0m\u001b[0mnode_embeddings\u001b[0m\u001b[1;33m[\u001b[0m\u001b[0mi\u001b[0m\u001b[1;33m]\u001b[0m \u001b[1;33m-\u001b[0m \u001b[0mnode_embeddings\u001b[0m\u001b[1;33m[\u001b[0m\u001b[0mj\u001b[0m\u001b[1;33m]\u001b[0m\u001b[1;33m)\u001b[0m  \u001b[1;31m# Exemple de caractéristique : distance euclidienne\u001b[0m\u001b[1;33m\u001b[0m\u001b[1;33m\u001b[0m\u001b[0m\n\u001b[1;32m---> 15\u001b[1;33m         \u001b[0my\u001b[0m\u001b[1;33m[\u001b[0m\u001b[0mcount\u001b[0m\u001b[1;33m]\u001b[0m \u001b[1;33m=\u001b[0m \u001b[1;36m1\u001b[0m \u001b[1;32mif\u001b[0m \u001b[0mare_linked\u001b[0m\u001b[1;33m(\u001b[0m\u001b[0mi\u001b[0m\u001b[1;33m,\u001b[0m \u001b[0mj\u001b[0m\u001b[1;33m)\u001b[0m \u001b[1;32melse\u001b[0m \u001b[1;36m0\u001b[0m  \u001b[1;31m# Remplacez are_linked(i, j) par votre fonction pour déterminer si les nœuds sont liés\u001b[0m\u001b[1;33m\u001b[0m\u001b[1;33m\u001b[0m\u001b[0m\n\u001b[0m\u001b[0;32m     16\u001b[0m         \u001b[0mcount\u001b[0m \u001b[1;33m+=\u001b[0m \u001b[1;36m1\u001b[0m\u001b[1;33m\u001b[0m\u001b[1;33m\u001b[0m\u001b[0m\n\u001b[0;32m     17\u001b[0m \u001b[1;33m\u001b[0m\u001b[0m\n",
      "\u001b[1;32m~\\AppData\\Local\\Temp\\ipykernel_8068\\3942900543.py\u001b[0m in \u001b[0;36mare_linked\u001b[1;34m(node_i, node_j)\u001b[0m\n\u001b[0;32m      3\u001b[0m \u001b[1;33m\u001b[0m\u001b[0m\n\u001b[0;32m      4\u001b[0m \u001b[1;32mdef\u001b[0m \u001b[0mare_linked\u001b[0m\u001b[1;33m(\u001b[0m\u001b[0mnode_i\u001b[0m\u001b[1;33m,\u001b[0m \u001b[0mnode_j\u001b[0m\u001b[1;33m)\u001b[0m\u001b[1;33m:\u001b[0m\u001b[1;33m\u001b[0m\u001b[1;33m\u001b[0m\u001b[0m\n\u001b[1;32m----> 5\u001b[1;33m     \u001b[1;32mreturn\u001b[0m \u001b[0madj_matrix\u001b[0m\u001b[1;33m[\u001b[0m\u001b[0mnode_i\u001b[0m\u001b[1;33m,\u001b[0m \u001b[0mnode_j\u001b[0m\u001b[1;33m]\u001b[0m \u001b[1;33m==\u001b[0m \u001b[1;36m1\u001b[0m\u001b[1;33m\u001b[0m\u001b[1;33m\u001b[0m\u001b[0m\n\u001b[0m\u001b[0;32m      6\u001b[0m \u001b[1;33m\u001b[0m\u001b[0m\n\u001b[0;32m      7\u001b[0m \u001b[1;31m# Génération des données pour la prédiction de liens\u001b[0m\u001b[1;33m\u001b[0m\u001b[1;33m\u001b[0m\u001b[1;33m\u001b[0m\u001b[0m\n",
      "\u001b[1;31mNameError\u001b[0m: name 'adj_matrix' is not defined"
     ]
    }
   ],
   "source": []
  },
  {
   "cell_type": "code",
   "execution_count": 59,
   "id": "38ec2608",
   "metadata": {},
   "outputs": [
    {
     "ename": "NameError",
     "evalue": "name 'adj_matrix' is not defined",
     "output_type": "error",
     "traceback": [
      "\u001b[1;31m---------------------------------------------------------------------------\u001b[0m",
      "\u001b[1;31mNameError\u001b[0m                                 Traceback (most recent call last)",
      "\u001b[1;32m~\\AppData\\Local\\Temp\\ipykernel_8068\\490471446.py\u001b[0m in \u001b[0;36m<module>\u001b[1;34m\u001b[0m\n\u001b[0;32m     10\u001b[0m     \u001b[1;32mfor\u001b[0m \u001b[0mj\u001b[0m \u001b[1;32min\u001b[0m \u001b[0mrange\u001b[0m\u001b[1;33m(\u001b[0m\u001b[0mi\u001b[0m \u001b[1;33m+\u001b[0m \u001b[1;36m1\u001b[0m\u001b[1;33m,\u001b[0m \u001b[0mnum_nodes\u001b[0m\u001b[1;33m)\u001b[0m\u001b[1;33m:\u001b[0m\u001b[1;33m\u001b[0m\u001b[1;33m\u001b[0m\u001b[0m\n\u001b[0;32m     11\u001b[0m         \u001b[0mX\u001b[0m\u001b[1;33m[\u001b[0m\u001b[0mcount\u001b[0m\u001b[1;33m]\u001b[0m \u001b[1;33m=\u001b[0m \u001b[0mtorch\u001b[0m\u001b[1;33m.\u001b[0m\u001b[0mabs\u001b[0m\u001b[1;33m(\u001b[0m\u001b[0mnode_embeddings\u001b[0m\u001b[1;33m[\u001b[0m\u001b[0mi\u001b[0m\u001b[1;33m]\u001b[0m \u001b[1;33m-\u001b[0m \u001b[0mnode_embeddings\u001b[0m\u001b[1;33m[\u001b[0m\u001b[0mj\u001b[0m\u001b[1;33m]\u001b[0m\u001b[1;33m)\u001b[0m  \u001b[1;31m# Exemple de caractéristique : distance euclidienne\u001b[0m\u001b[1;33m\u001b[0m\u001b[1;33m\u001b[0m\u001b[0m\n\u001b[1;32m---> 12\u001b[1;33m         \u001b[0my\u001b[0m\u001b[1;33m[\u001b[0m\u001b[0mcount\u001b[0m\u001b[1;33m]\u001b[0m \u001b[1;33m=\u001b[0m \u001b[1;36m1\u001b[0m \u001b[1;32mif\u001b[0m \u001b[0mare_linked\u001b[0m\u001b[1;33m(\u001b[0m\u001b[0mi\u001b[0m\u001b[1;33m,\u001b[0m \u001b[0mj\u001b[0m\u001b[1;33m)\u001b[0m \u001b[1;32melse\u001b[0m \u001b[1;36m0\u001b[0m  \u001b[1;31m# Remplacez are_linked(i, j) par votre fonction pour déterminer si les nœuds sont liés\u001b[0m\u001b[1;33m\u001b[0m\u001b[1;33m\u001b[0m\u001b[0m\n\u001b[0m\u001b[0;32m     13\u001b[0m         \u001b[0mcount\u001b[0m \u001b[1;33m+=\u001b[0m \u001b[1;36m1\u001b[0m\u001b[1;33m\u001b[0m\u001b[1;33m\u001b[0m\u001b[0m\n\u001b[0;32m     14\u001b[0m \u001b[1;33m\u001b[0m\u001b[0m\n",
      "\u001b[1;32m~\\AppData\\Local\\Temp\\ipykernel_8068\\3942900543.py\u001b[0m in \u001b[0;36mare_linked\u001b[1;34m(node_i, node_j)\u001b[0m\n\u001b[0;32m      3\u001b[0m \u001b[1;33m\u001b[0m\u001b[0m\n\u001b[0;32m      4\u001b[0m \u001b[1;32mdef\u001b[0m \u001b[0mare_linked\u001b[0m\u001b[1;33m(\u001b[0m\u001b[0mnode_i\u001b[0m\u001b[1;33m,\u001b[0m \u001b[0mnode_j\u001b[0m\u001b[1;33m)\u001b[0m\u001b[1;33m:\u001b[0m\u001b[1;33m\u001b[0m\u001b[1;33m\u001b[0m\u001b[0m\n\u001b[1;32m----> 5\u001b[1;33m     \u001b[1;32mreturn\u001b[0m \u001b[0madj_matrix\u001b[0m\u001b[1;33m[\u001b[0m\u001b[0mnode_i\u001b[0m\u001b[1;33m,\u001b[0m \u001b[0mnode_j\u001b[0m\u001b[1;33m]\u001b[0m \u001b[1;33m==\u001b[0m \u001b[1;36m1\u001b[0m\u001b[1;33m\u001b[0m\u001b[1;33m\u001b[0m\u001b[0m\n\u001b[0m\u001b[0;32m      6\u001b[0m \u001b[1;33m\u001b[0m\u001b[0m\n\u001b[0;32m      7\u001b[0m \u001b[1;31m# Génération des données pour la prédiction de liens\u001b[0m\u001b[1;33m\u001b[0m\u001b[1;33m\u001b[0m\u001b[1;33m\u001b[0m\u001b[0m\n",
      "\u001b[1;31mNameError\u001b[0m: name 'adj_matrix' is not defined"
     ]
    }
   ],
   "source": [
    "# Exemple d'embeddings de nœuds (remplacez cela par vos embeddings réels)\n",
    "node_embeddings = torch.rand(100, 128)\n",
    "\n",
    "# Génération des données pour la prédiction de liens\n",
    "num_nodes = node_embeddings.shape[0]\n",
    "X = torch.zeros((num_nodes * (num_nodes - 1) // 2, node_embeddings.shape[1]))\n",
    "y = torch.zeros(num_nodes * (num_nodes - 1) // 2, dtype=torch.float)\n",
    "count = 0\n",
    "for i in range(num_nodes):\n",
    "    for j in range(i + 1, num_nodes):\n",
    "        X[count] = torch.abs(node_embeddings[i] - node_embeddings[j])  # Exemple de caractéristique : distance euclidienne\n",
    "        y[count] = 1 if are_linked(i, j) else 0  # Remplacez are_linked(i, j) par votre fonction pour déterminer si les nœuds sont liés\n",
    "        count += 1\n",
    "\n",
    "# Définition du modèle d'apprentissage profond\n",
    "class DeepModel(nn.Module):\n",
    "    def __init__(self, input_dim):\n",
    "        super(DeepModel, self).__init__()\n",
    "        self.fc1 = nn.Linear(input_dim, 64)\n",
    "        self.fc2 = nn.Linear(64, 32)\n",
    "        self.out = nn.Linear(32, 1)\n",
    "    \n",
    "    def forward(self, x):\n",
    "        x = torch.relu(self.fc1(x))\n",
    "        x = torch.relu(self.fc2(x))\n",
    "        x = self.out(x)\n",
    "        return x\n",
    "\n",
    "# Initialize the deep model\n",
    "model = DeepModel(node_embeddings.shape[1])\n",
    "\n",
    "# Define the loss function and optimizer\n",
    "criterion = nn.BCEWithLogitsLoss()\n",
    "optimizer = optim.Adam(model.parameters(), lr=0.01)\n",
    "\n",
    "# Training loop\n",
    "num_epochs = 100\n",
    "for epoch in range(num_epochs):\n",
    "    optimizer.zero_grad()\n",
    "    output = model(X)\n",
    "    loss = criterion(output.squeeze(), y)\n",
    "    loss.backward()\n",
    "    optimizer.step()\n",
    "\n",
    "# Evaluation du modèle sur l'ensemble de test\n",
    "with torch.no_grad():\n",
    "    test_output = model(X_test)\n",
    "    test_predictions = (test_output.squeeze() >= 0.5).float()\n",
    "    accuracy = (test_predictions == y_test).float().mean()\n",
    "print(\"Accuracy: \", accuracy.item())\n"
   ]
  },
  {
   "cell_type": "code",
   "execution_count": null,
   "id": "e565d037",
   "metadata": {},
   "outputs": [],
   "source": []
  },
  {
   "cell_type": "code",
   "execution_count": 33,
   "id": "909dfbcd",
   "metadata": {},
   "outputs": [],
   "source": [
    "session.close()\n",
    "driver.close()"
   ]
  },
  {
   "cell_type": "code",
   "execution_count": null,
   "id": "4c8706c5",
   "metadata": {},
   "outputs": [],
   "source": []
  }
 ],
 "metadata": {
  "kernelspec": {
   "display_name": "Python 3 (ipykernel)",
   "language": "python",
   "name": "python3"
  },
  "language_info": {
   "codemirror_mode": {
    "name": "ipython",
    "version": 3
   },
   "file_extension": ".py",
   "mimetype": "text/x-python",
   "name": "python",
   "nbconvert_exporter": "python",
   "pygments_lexer": "ipython3",
   "version": "3.7.16"
  }
 },
 "nbformat": 4,
 "nbformat_minor": 5
}
