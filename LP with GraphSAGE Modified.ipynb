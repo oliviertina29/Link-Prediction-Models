{
 "cells": [
  {
   "cell_type": "code",
   "execution_count": 153,
   "id": "d13a8aaf",
   "metadata": {},
   "outputs": [],
   "source": [
    "import stellargraph as sg\n",
    "import networkx as nx\n",
    "import matplotlib.pyplot as plt\n",
    "import multiprocessing\n",
    "import numpy as np\n",
    "\n",
    "from stellargraph.data import EdgeSplitter\n",
    "from stellargraph.mapper import GraphSAGELinkGenerator\n",
    "from stellargraph.layer import GraphSAGE, HinSAGE, link_classification\n",
    "\n",
    "from sklearn.model_selection import train_test_split\n",
    "from tensorflow import keras\n",
    "from sklearn import preprocessing, feature_extraction, model_selection\n",
    "from tensorflow.keras.models import Model\n",
    "from tensorflow.keras.optimizers import Adam\n",
    "\n",
    "from stellargraph.data import BiasedRandomWalk\n",
    "from gensim.models import Word2Vec\n",
    "\n",
    "from stellargraph import globalvar\n",
    "from stellargraph import datasets\n",
    "from IPython.display import display, HTML\n",
    "\n",
    "from neo4j import GraphDatabase\n",
    "from node2vec import Node2Vec\n",
    "from stellargraph import StellarGraph\n",
    "\n",
    "%matplotlib inline"
   ]
  },
  {
   "cell_type": "markdown",
   "id": "0bba1467",
   "metadata": {},
   "source": [
    "## Connect to the Database"
   ]
  },
  {
   "cell_type": "code",
   "execution_count": 154,
   "id": "7bc097b0",
   "metadata": {},
   "outputs": [],
   "source": [
    "uri = \"bolt://localhost:7687\"\n",
    "username = \"neo4j\"\n",
    "password = \"OLIV00%%\"\n",
    "\n",
    "driver = GraphDatabase.driver(uri, auth=(username, password))"
   ]
  },
  {
   "cell_type": "code",
   "execution_count": 155,
   "id": "7b374589",
   "metadata": {},
   "outputs": [],
   "source": [
    "graph = nx.Graph()\n",
    "\n",
    "with driver.session() as session:\n",
    "    # Récupérer les nœuds avec toutes leurs propriétés\n",
    "    nodes_query = \"MATCH (n) RETURN n\"\n",
    "    nodes_result = session.run(nodes_query)\n",
    "\n",
    "    # Parcourir les résultats et ajouter les nœuds au graphe avec toutes leurs propriétés\n",
    "    for record in nodes_result:\n",
    "        node_properties = dict(record[\"n\"].items())  # Access node properties as a dictionary\n",
    "        node_id = record[\"n\"].element_id\n",
    "        graph.add_node(node_id, **node_properties)\n",
    "\n",
    "    # Récupérer les relations avec toutes leurs propriétés\n",
    "    relations_query = \"MATCH ()-[r]->() RETURN r\"\n",
    "    relations_result = session.run(relations_query)\n",
    "\n",
    "    # Ajouter les relations entre les nœuds avec toutes leurs propriétés\n",
    "    for record in relations_result:\n",
    "        rel_properties = dict(record[\"r\"].items())  # Access relationship properties as a dictionary\n",
    "        src_node_id = record[\"r\"].start_node.element_id\n",
    "        dst_node_id = record[\"r\"].end_node.element_id\n",
    "        graph.add_edge(src_node_id, dst_node_id, **rel_properties)"
   ]
  },
  {
   "cell_type": "code",
   "execution_count": 157,
   "id": "5f5ba96e",
   "metadata": {},
   "outputs": [],
   "source": [
    "graph = nx.Graph()\n",
    "\n",
    "with driver.session() as session:\n",
    "    # Récupérer les nœuds avec leur nom et type\n",
    "    nodes_query = \"MATCH (n) RETURN ID(n) AS id, n.name AS name, n.type AS type\"\n",
    "    nodes_result = session.run(nodes_query)\n",
    "\n",
    "    # Parcourir les résultats et ajouter les nœuds au graphe\n",
    "    for record in nodes_result:\n",
    "        node_id = record[\"id\"]\n",
    "        node_name = record[\"name\"]\n",
    "        node_type = record[\"type\"]\n",
    "        if node_id is not None:\n",
    "            graph.add_node(node_id, name=node_name, type=node_type)\n",
    "\n",
    "    # Récupérer les relations\n",
    "    relations_query = \"MATCH ()-[r]->() RETURN ID(startNode(r)) AS source_id, ID(endNode(r)) AS target_id\"\n",
    "    relations_result = session.run(relations_query)\n",
    "\n",
    "    # Ajouter les relations entre les nœuds\n",
    "    for record in relations_result:\n",
    "        source_node_id = record[\"source_id\"]\n",
    "        target_node_id = record[\"target_id\"]\n",
    "        if source_node_id is not None and target_node_id is not None:\n",
    "            graph.add_edge(source_node_id, target_node_id)"
   ]
  },
  {
   "cell_type": "code",
   "execution_count": 162,
   "id": "da271266",
   "metadata": {},
   "outputs": [
    {
     "data": {
      "image/png": "[encoded data removed]",
      "text/plain": [
       "<Figure size 640x480 with 1 Axes>"
      ]
     },
     "metadata": {},
     "output_type": "display_data"
    }
   ],
   "source": [
    "# Create a layout for visualization (e.g., circular layout)\n",
    "pos = nx.spring_layout(graph)\n",
    "\n",
    "# Draw nodes with labels and node properties\n",
    "node_labels = {node_id: f\"{node_id}\\n{node_data}\" for node_id, node_data in graph.nodes(data=True)}\n",
    "nx.draw(graph, pos, with_labels=True, node_size=150, node_color=\"skyblue\", font_size=10)\n",
    "\n",
    "# Draw edges with edge properties\n",
    "edge_labels = {(u, v): data for u, v, data in graph.edges(data=True)}\n",
    "nx.draw_networkx_edge_labels(graph, pos, edge_labels=edge_labels, font_size=8)\n",
    "\n",
    "# Display the graph\n",
    "plt.show()"
   ]
  },
  {
   "cell_type": "code",
   "execution_count": 142,
   "id": "a5d01d4f",
   "metadata": {},
   "outputs": [
    {
     "ename": "RuntimeError",
     "evalue": "This StellarGraph has no numeric feature attributes for nodesNode features are required for machine learning",
     "output_type": "error",
     "traceback": [
      "\u001b[1;31m---------------------------------------------------------------------------\u001b[0m",
      "\u001b[1;31mRuntimeError\u001b[0m                              Traceback (most recent call last)",
      "\u001b[1;32m~\\AppData\\Local\\Temp\\ipykernel_3324\\2451591851.py\u001b[0m in \u001b[0;36m<module>\u001b[1;34m\u001b[0m\n\u001b[0;32m     14\u001b[0m \u001b[0mbatch_size\u001b[0m \u001b[1;33m=\u001b[0m \u001b[1;36m20\u001b[0m\u001b[1;33m\u001b[0m\u001b[1;33m\u001b[0m\u001b[0m\n\u001b[0;32m     15\u001b[0m \u001b[0mnum_samples\u001b[0m \u001b[1;33m=\u001b[0m \u001b[1;33m[\u001b[0m\u001b[1;36m10\u001b[0m\u001b[1;33m,\u001b[0m \u001b[1;36m5\u001b[0m\u001b[1;33m]\u001b[0m  \u001b[1;31m# The number of nodes sampled in each layer of GraphSAGE\u001b[0m\u001b[1;33m\u001b[0m\u001b[1;33m\u001b[0m\u001b[0m\n\u001b[1;32m---> 16\u001b[1;33m \u001b[0mtrain_gen\u001b[0m \u001b[1;33m=\u001b[0m \u001b[0mGraphSAGELinkGenerator\u001b[0m\u001b[1;33m(\u001b[0m\u001b[0mG\u001b[0m\u001b[1;33m,\u001b[0m \u001b[0mbatch_size\u001b[0m\u001b[1;33m,\u001b[0m \u001b[0mnum_samples\u001b[0m\u001b[1;33m)\u001b[0m\u001b[1;33m\u001b[0m\u001b[1;33m\u001b[0m\u001b[0m\n\u001b[0m\u001b[0;32m     17\u001b[0m \u001b[1;33m\u001b[0m\u001b[0m\n\u001b[0;32m     18\u001b[0m \u001b[1;31m# Generate the training data using the link generator\u001b[0m\u001b[1;33m\u001b[0m\u001b[1;33m\u001b[0m\u001b[1;33m\u001b[0m\u001b[0m\n",
      "\u001b[1;32m~\\anaconda3\\envs\\Py_env\\lib\\site-packages\\stellargraph\\mapper\\sampled_link_generators.py\u001b[0m in \u001b[0;36m__init__\u001b[1;34m(self, G, batch_size, num_samples, seed, name, weighted)\u001b[0m\n\u001b[0;32m    244\u001b[0m         \u001b[0mself\u001b[0m\u001b[1;33m,\u001b[0m \u001b[0mG\u001b[0m\u001b[1;33m,\u001b[0m \u001b[0mbatch_size\u001b[0m\u001b[1;33m,\u001b[0m \u001b[0mnum_samples\u001b[0m\u001b[1;33m,\u001b[0m \u001b[0mseed\u001b[0m\u001b[1;33m=\u001b[0m\u001b[1;32mNone\u001b[0m\u001b[1;33m,\u001b[0m \u001b[0mname\u001b[0m\u001b[1;33m=\u001b[0m\u001b[1;32mNone\u001b[0m\u001b[1;33m,\u001b[0m \u001b[0mweighted\u001b[0m\u001b[1;33m=\u001b[0m\u001b[1;32mFalse\u001b[0m\u001b[1;33m\u001b[0m\u001b[1;33m\u001b[0m\u001b[0m\n\u001b[0;32m    245\u001b[0m     ):\n\u001b[1;32m--> 246\u001b[1;33m         \u001b[0msuper\u001b[0m\u001b[1;33m(\u001b[0m\u001b[1;33m)\u001b[0m\u001b[1;33m.\u001b[0m\u001b[0m__init__\u001b[0m\u001b[1;33m(\u001b[0m\u001b[0mG\u001b[0m\u001b[1;33m,\u001b[0m \u001b[0mbatch_size\u001b[0m\u001b[1;33m)\u001b[0m\u001b[1;33m\u001b[0m\u001b[1;33m\u001b[0m\u001b[0m\n\u001b[0m\u001b[0;32m    247\u001b[0m \u001b[1;33m\u001b[0m\u001b[0m\n\u001b[0;32m    248\u001b[0m         \u001b[0mself\u001b[0m\u001b[1;33m.\u001b[0m\u001b[0mnum_samples\u001b[0m \u001b[1;33m=\u001b[0m \u001b[0mnum_samples\u001b[0m\u001b[1;33m\u001b[0m\u001b[1;33m\u001b[0m\u001b[0m\n",
      "\u001b[1;32m~\\anaconda3\\envs\\Py_env\\lib\\site-packages\\stellargraph\\mapper\\sampled_link_generators.py\u001b[0m in \u001b[0;36m__init__\u001b[1;34m(self, G, batch_size, schema, use_node_features)\u001b[0m\n\u001b[0;32m     79\u001b[0m         \u001b[1;31m# Check if the graph has features\u001b[0m\u001b[1;33m\u001b[0m\u001b[1;33m\u001b[0m\u001b[1;33m\u001b[0m\u001b[0m\n\u001b[0;32m     80\u001b[0m         \u001b[1;32mif\u001b[0m \u001b[0muse_node_features\u001b[0m\u001b[1;33m:\u001b[0m\u001b[1;33m\u001b[0m\u001b[1;33m\u001b[0m\u001b[0m\n\u001b[1;32m---> 81\u001b[1;33m             \u001b[0mG\u001b[0m\u001b[1;33m.\u001b[0m\u001b[0mcheck_graph_for_ml\u001b[0m\u001b[1;33m(\u001b[0m\u001b[1;33m)\u001b[0m\u001b[1;33m\u001b[0m\u001b[1;33m\u001b[0m\u001b[0m\n\u001b[0m\u001b[0;32m     82\u001b[0m \u001b[1;33m\u001b[0m\u001b[0m\n\u001b[0;32m     83\u001b[0m     \u001b[1;33m@\u001b[0m\u001b[0mabc\u001b[0m\u001b[1;33m.\u001b[0m\u001b[0mabstractmethod\u001b[0m\u001b[1;33m\u001b[0m\u001b[1;33m\u001b[0m\u001b[0m\n",
      "\u001b[1;32m~\\anaconda3\\envs\\Py_env\\lib\\site-packages\\stellargraph\\core\\graph.py\u001b[0m in \u001b[0;36mcheck_graph_for_ml\u001b[1;34m(self, features, expensive_check)\u001b[0m\n\u001b[0;32m   1193\u001b[0m         \u001b[1;32mif\u001b[0m \u001b[0mall\u001b[0m\u001b[1;33m(\u001b[0m\u001b[0msize\u001b[0m \u001b[1;33m==\u001b[0m \u001b[1;36m0\u001b[0m \u001b[1;32mfor\u001b[0m \u001b[0m_\u001b[0m\u001b[1;33m,\u001b[0m \u001b[0msize\u001b[0m \u001b[1;32min\u001b[0m \u001b[0mself\u001b[0m\u001b[1;33m.\u001b[0m\u001b[0mnode_feature_sizes\u001b[0m\u001b[1;33m(\u001b[0m\u001b[1;33m)\u001b[0m\u001b[1;33m.\u001b[0m\u001b[0mitems\u001b[0m\u001b[1;33m(\u001b[0m\u001b[1;33m)\u001b[0m\u001b[1;33m)\u001b[0m\u001b[1;33m:\u001b[0m\u001b[1;33m\u001b[0m\u001b[1;33m\u001b[0m\u001b[0m\n\u001b[0;32m   1194\u001b[0m             raise RuntimeError(\n\u001b[1;32m-> 1195\u001b[1;33m                 \u001b[1;34m\"This StellarGraph has no numeric feature attributes for nodes\"\u001b[0m\u001b[1;33m\u001b[0m\u001b[1;33m\u001b[0m\u001b[0m\n\u001b[0m\u001b[0;32m   1196\u001b[0m                 \u001b[1;34m\"Node features are required for machine learning\"\u001b[0m\u001b[1;33m\u001b[0m\u001b[1;33m\u001b[0m\u001b[0m\n\u001b[0;32m   1197\u001b[0m             )\n",
      "\u001b[1;31mRuntimeError\u001b[0m: This StellarGraph has no numeric feature attributes for nodesNode features are required for machine learning"
     ]
    }
   ],
   "source": [
    "# Convert the NetworkX graph to a StellarGraph object\n",
    "G = sg.StellarGraph.from_networkx(graph)\n",
    "\n",
    "# Define the target link prediction task as edge prediction (binary classification)\n",
    "edges = list(graph.edges())\n",
    "targets = np.ones(len(edges))\n",
    "\n",
    "edges_train, edges_test, targets_train, targets_test = train_test_split(edges, targets, train_size=0.8, random_state=42)\n",
    "\n",
    "# Create the GraphSAGE link generator\n",
    "batch_size = 20\n",
    "num_samples = [10, 5]  # The number of nodes sampled in each layer of GraphSAGE\n",
    "train_gen = GraphSAGELinkGenerator(G, batch_size, num_samples)\n",
    "\n",
    "# Generate the training data using the link generator\n",
    "train_flow = train_gen.flow(edge_ids=edges_train, targets=targets_train, shuffle=True)\n",
    "\n",
    "# Create the GraphSAGE model\n",
    "layer_sizes = [32, 32]  # The size of the GraphSAGE layers\n",
    "graphsage = GraphSAGE(layer_sizes=layer_sizes, generator=train_gen)\n",
    "\n",
    "# Build the model for link prediction task\n",
    "x_inp, prediction = link_classification(\n",
    "    graphsage,\n",
    "    edge_embedding_method=\"concat\",\n",
    "    edge_embedding_method_kwargs={\"method\": \"hadamard\"},  # Use Hadamard method for link prediction\n",
    "    projected_feature_dim=32,\n",
    "    dropout=0.5,\n",
    ")\n",
    "\n",
    "# Compile the model\n",
    "model = Model(inputs=x_inp, outputs=prediction)\n",
    "model.compile(optimizer=Adam(learning_rate=0.005), loss=\"binary_crossentropy\", metrics=[\"acc\"])\n",
    "\n",
    "# Train the model\n",
    "epochs = 50\n",
    "model.fit(train_flow, epochs=epochs)\n",
    "\n",
    "# Generate the testing data using the link generator\n",
    "test_gen = train_gen.flow(edge_ids=edges_test, targets=targets_test)\n",
    "test_metrics = model.evaluate(test_gen)\n",
    "\n",
    "print(f\"Test loss: {test_metrics[0]}, Test accuracy: {test_metrics[1]}\")\n"
   ]
  },
  {
   "cell_type": "code",
   "execution_count": null,
   "id": "67f02cc9",
   "metadata": {},
   "outputs": [],
   "source": []
  }
 ],
 "metadata": {
  "kernelspec": {
   "display_name": "Python 3 (ipykernel)",
   "language": "python",
   "name": "python3"
  },
  "language_info": {
   "codemirror_mode": {
    "name": "ipython",
    "version": 3
   },
   "file_extension": ".py",
   "mimetype": "text/x-python",
   "name": "python",
   "nbconvert_exporter": "python",
   "pygments_lexer": "ipython3",
   "version": "3.11.3"
  }
 },
 "nbformat": 4,
 "nbformat_minor": 5
}
